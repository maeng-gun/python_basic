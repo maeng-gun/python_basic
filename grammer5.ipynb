{
  "nbformat": 4,
  "nbformat_minor": 0,
  "metadata": {
    "colab": {
      "name": "grammer5.ipynb",
      "provenance": [],
      "collapsed_sections": [],
      "authorship_tag": "ABX9TyOBLQuWd3L+YrQ7Zl/mFkBc",
      "include_colab_link": true
    },
    "kernelspec": {
      "name": "python3",
      "display_name": "Python 3"
    }
  },
  "cells": [
    {
      "cell_type": "markdown",
      "metadata": {
        "id": "view-in-github",
        "colab_type": "text"
      },
      "source": [
        "<a href=\"https://colab.research.google.com/github/maeng-gun/python_basic/blob/main/grammer5.ipynb\" target=\"_parent\"><img src=\"https://colab.research.google.com/assets/colab-badge.svg\" alt=\"Open In Colab\"/></a>"
      ]
    },
    {
      "cell_type": "markdown",
      "metadata": {
        "id": "_uRyg_mtjXJC"
      },
      "source": [
        "## 파이썬의 구성요소 (1) - 함수\n"
      ]
    },
    {
      "cell_type": "markdown",
      "metadata": {
        "id": "EIyjnPh3jaYW"
      },
      "source": [
        "### 1. 함수(function)란 무엇인가?\n"
      ]
    },
    {
      "cell_type": "markdown",
      "metadata": {
        "id": "I0eomi1yjbgN"
      },
      "source": [
        "* 데이터를 입력해서 일정한 작업을 수행한 후 결과물을 반환하는 도구\n",
        "* 반복적으로 수행해야하는 작업이 있을 때 해당 코도조각을 함수로 만들어 손쉽게 사용 가능\n",
        "* 당장 반복되지 않더라도 하나의 결과를 만들어내는 코드의 일부분(조각)을 함수로 만들어 놓으면 일목요연한 코드를 만들 수 있음\n",
        "* 입력값만 다른 동일한 형태의 작업을 2번이상 수행해야 될때는 무조건 함수로 만들어 사용하는 것이 좋음\n",
        "* 물론, 함수를 직접 만들어서 사용하는 경우보다 남이 만들어놓은 함수를 사용하는 것이 더 일상적인 코딩활동임..."
      ]
    },
    {
      "cell_type": "markdown",
      "metadata": {
        "id": "x3v0wH4ijdhS"
      },
      "source": [
        "### 2. 함수의 구조"
      ]
    },
    {
      "cell_type": "markdown",
      "metadata": {
        "id": "rQyHsh5_jg2V"
      },
      "source": [
        "#### 1) 함수 정의하기 : 반복되는 코드를 함수로 만들기\n",
        "* 함수는 고유의 이름(함수명)과 매개변수, 반환값을 구성요소로 가지며, 매개변수와 반환값은 생략가능함\n",
        " * def : 함수를 정의하는 코드문구의 시작을 알리는 명령어. def로 시작한 줄은 함수명과 매개변수 설정 이후 반드시 콜론(:)으로 마무리해야 함\n",
        " * 함수명 : 변수명과 마찬가지로 파이썬에 고유한 명령어나 연산자(print, if, and 등)는 사용할 수 없고, 숫자로 시작할 수 없음\n",
        " * 매개변수(parameter) : 함수의 입력값을 받아 명령구문에서 사용하기 위한 변수. 즉, 함수 내 입력값의 임시 저장공간이라고 볼 수 있음\n",
        " * 명령구문 : 매개변수를 활용한 각종의 수식 등 여러 명렁들의 집합. def~ 절 바로 다음에 들여쓰기(4칸 띄우기 또는 탭)된 부분이며, 들여쓰기가 끝나는 지점이 함수 정의가 끝나는 지점임\n",
        " * 반환값 : 함수를 사용(호출)할 떄 미리 정의된 명렁을 수행한 후 최종적으로 반환되는 값. 단순히 화면상에 출력하는 것이 아니라, 메모리에 저장할 수 있는 값을 내놓는 것. 들여쓰기 후 return 명령어를 쓰고 반환값을 넣어주면 됨\n",
        "  \n",
        "        def 함수명(매개변수): \n",
        "            매개변수를 사용해 수행할 명령구문 \n",
        "            return 반환값\n",
        "            "
      ]
    },
    {
      "cell_type": "markdown",
      "metadata": {
        "id": "6SIh3o-x3reZ"
      },
      "source": [
        "* 예시\n",
        " * sqrplus 라는 이름의 함수를 생성하기\n",
        " * 매개변수는 x,y로 정함. 즉, 2개의 입력값을 받겠다는 의미\n",
        " * 명령구문에서 x와 y 각각의 제곱을 p, q 변수로 만들고, 이를 더한 z라는 변수를 생성하고, 이후 return 구문에서 반환값으로 z를 설정\n",
        " * 함수 정의에서 쓰이는 변수(x,y,p,q,z)는 함수를 실행하는 과정에서만 임시로 사용되고 사용 후엔 사라진다는 점에서 지역(local)변수라고 함"
      ]
    },
    {
      "cell_type": "code",
      "metadata": {
        "id": "uRbH6kLe2lgs"
      },
      "source": [
        "def sqrplus(x,y):\n",
        "  p = x**2 \n",
        "  q = y**2\n",
        "  z = p + q\n",
        "  return z"
      ],
      "execution_count": 4,
      "outputs": []
    },
    {
      "cell_type": "markdown",
      "metadata": {
        "id": "ZzN-z_gYjicw"
      },
      "source": [
        "#### 2) 함수 호출하기 : 미리 정의된 함수를 사용하기\n",
        "* 내가 만든 함수든, 남이 만든 함수든, 함수는 미리 정의된 명령구문을 반복적으로 사용하는 것이 목적. 이를 함수의 '호출'이라고 함\n",
        " * 인수(argument) : 함수를 호출할 때 매개변수에 실제로 입력하는 값. 함수를 기계에 비유하자면, 원재료를 담아두는 보관통이 매개변수이고, 그 통안에 집어넣는 원재료가 인수라고 할 수 있음 \n",
        " * 변수(명) : 함수가 최종적으로 반환한 결과값을 함수호출 완료 후에도 계속 담아두기 위해 마련하는 저장공간. 함수 정의 시 사용한 지역변수와 달리 이를 전역(global)변수라고함  \n",
        "        변수명 = 함수명(인수)"
      ]
    },
    {
      "cell_type": "code",
      "metadata": {
        "colab": {
          "base_uri": "https://localhost:8080/"
        },
        "id": "Kk9Hou5dO9fv",
        "outputId": "0f221811-081d-4cd1-d6fb-eb7a9260c762"
      },
      "source": [
        "r1 = sqrplus(2,3)  # 결과값 = 2**2 + 3**2 = 4 + 9 + 13\n",
        "\n",
        "m = 4\n",
        "n = 5\n",
        "r2 = sqrplus(m,n)  # 여기서 m과 n은 매개변수가 아닌 인수!\n",
        "\n",
        "\n",
        "print(r1)\n",
        "print(r2)"
      ],
      "execution_count": 6,
      "outputs": [
        {
          "output_type": "stream",
          "text": [
            "13\n",
            "41\n"
          ],
          "name": "stdout"
        }
      ]
    },
    {
      "cell_type": "markdown",
      "metadata": {
        "id": "tAeHXUdbjjs4"
      },
      "source": [
        "### 3. 함수의 4가지 형태\n",
        "* 내장함수 : 별도의 외부 라이브러리(모듈 또는 패키지)를 불러오지 않고도 파이썬에서 자체 정의된 함수를 호출해서 쓸 수 있음. 지금까지 써왔던 print(), id(), type() 등의 함수들이 모두 내장함수임\n",
        "* 함수 정의 시 매개변수나 반환값의 유무에 따라 총 4가지 형태의 함수가 존재하는데, 대표적인 내장함수들의 예를 들어 설명 "
      ]
    },
    {
      "cell_type": "markdown",
      "metadata": {
        "id": "Uu-HKqvAj4LO"
      },
      "source": [
        "####1) 일반적인 함수\n",
        "* 정의 시 매개변수와 반환값이 모두 있는 경우\n",
        "* 내장함수에서의 예\n",
        " * sum(리스트 또는 튜플), min(..), max(..), abs(..) : 원소들의 합계, 최소, 최대, 절대값을 반"
      ]
    },
    {
      "cell_type": "code",
      "metadata": {
        "colab": {
          "base_uri": "https://localhost:8080/"
        },
        "id": "fJy-8vVVWnjz",
        "outputId": "22251a5f-c5e6-4eb4-8bdd-07fee896ac56"
      },
      "source": [
        "s = sum([1,2,3])\n",
        "t = min([2,3,4])\n",
        "print(s,t)"
      ],
      "execution_count": 10,
      "outputs": [
        {
          "output_type": "stream",
          "text": [
            "6 2\n"
          ],
          "name": "stdout"
        }
      ]
    },
    {
      "cell_type": "markdown",
      "metadata": {
        "id": "xZZIZSMJj50C"
      },
      "source": [
        "####2) 입력값이 없는 경우\n",
        "* 정의 시 매개변수가 없고 반환값만 있거나, 매개변수가 있긴 하지만 인수를 입력하지 않아도 되는 경우\n",
        "* 내장함수의 예\n",
        " * dir() : 현재 파이썬 메모리에 저장돼어있는 이름들(변수명,함수명,클래스명 등)의 목록을 반환해줌\n",
        " * list(), tuple(), dict() : 각각 비어있는 리스트, 튜플, 딕셔너리를 생성해 반환해줌. (다른 자료형의 인수를 넣으면 해당 자료형으로 변환시키는 일반적 형태의 함수가 됨)"
      ]
    },
    {
      "cell_type": "code",
      "metadata": {
        "colab": {
          "base_uri": "https://localhost:8080/"
        },
        "id": "C6_lHvYSVYZZ",
        "outputId": "ce89553a-086c-4fc7-a11a-5e4750370453"
      },
      "source": [
        "d_list = dir()\n",
        "d_list"
      ],
      "execution_count": 8,
      "outputs": [
        {
          "output_type": "execute_result",
          "data": {
            "text/plain": [
              "['In',\n",
              " 'Out',\n",
              " '_',\n",
              " '_3',\n",
              " '_5',\n",
              " '_7',\n",
              " '__',\n",
              " '___',\n",
              " '__builtin__',\n",
              " '__builtins__',\n",
              " '__doc__',\n",
              " '__loader__',\n",
              " '__name__',\n",
              " '__package__',\n",
              " '__spec__',\n",
              " '_dh',\n",
              " '_i',\n",
              " '_i1',\n",
              " '_i2',\n",
              " '_i3',\n",
              " '_i4',\n",
              " '_i5',\n",
              " '_i6',\n",
              " '_i7',\n",
              " '_i8',\n",
              " '_ih',\n",
              " '_ii',\n",
              " '_iii',\n",
              " '_oh',\n",
              " '_sh',\n",
              " 'exit',\n",
              " 'get_ipython',\n",
              " 'm',\n",
              " 'n',\n",
              " 'quit',\n",
              " 'r1',\n",
              " 'r2',\n",
              " 'result',\n",
              " 'sqrplus']"
            ]
          },
          "metadata": {
            "tags": []
          },
          "execution_count": 8
        }
      ]
    },
    {
      "cell_type": "markdown",
      "metadata": {
        "id": "BFLjWS8Kj6rn"
      },
      "source": [
        "####3) 반환값이 없는 경우\n"
      ]
    },
    {
      "cell_type": "markdown",
      "metadata": {
        "id": "_ZRk3Eixj7jd"
      },
      "source": [
        "####4) 입력값, 반환값이 모두 없는 경우\n"
      ]
    },
    {
      "cell_type": "markdown",
      "metadata": {
        "id": "OaJKnDH-jkyv"
      },
      "source": [
        "### 4. 매개변수와 반환값 \n"
      ]
    },
    {
      "cell_type": "markdown",
      "metadata": {
        "id": "eNvEn9X9jl1e"
      },
      "source": [
        "#### 1) 매개변수의 초기값과 지정 호출\n"
      ]
    },
    {
      "cell_type": "markdown",
      "metadata": {
        "id": "bMEfQY__jm1t"
      },
      "source": [
        "#### 2) 반환값이 다수인 경우 \n"
      ]
    }
  ]
}