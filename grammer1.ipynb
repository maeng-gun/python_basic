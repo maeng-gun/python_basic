{
  "nbformat": 4,
  "nbformat_minor": 0,
  "metadata": {
    "colab": {
      "name": "grammer1.ipynb",
      "provenance": [],
      "collapsed_sections": [],
      "authorship_tag": "ABX9TyPi0dHGhfj2MPI3fUQPNYor",
      "include_colab_link": true
    },
    "kernelspec": {
      "name": "python3",
      "display_name": "Python 3"
    }
  },
  "cells": [
    {
      "cell_type": "markdown",
      "metadata": {
        "id": "view-in-github",
        "colab_type": "text"
      },
      "source": [
        "<a href=\"https://colab.research.google.com/github/maeng-gun/python_basic/blob/main/grammer1.ipynb\" target=\"_parent\"><img src=\"https://colab.research.google.com/assets/colab-badge.svg\" alt=\"Open In Colab\"/></a>"
      ]
    },
    {
      "cell_type": "markdown",
      "metadata": {
        "id": "vdoCBUjNHSHC"
      },
      "source": [
        "## 변수와 자료형"
      ]
    },
    {
      "cell_type": "markdown",
      "metadata": {
        "id": "K6wq2cvkHk0c"
      },
      "source": [
        "### 1. 프로그래밍 입문 의식(?)"
      ]
    },
    {
      "cell_type": "markdown",
      "metadata": {
        "id": "QctgpVBgHyEy"
      },
      "source": [
        "* 어떤 프로그래밍 언어를 사용하든, 프로그래밍 실습에 처음 임하는 사람들은 'Hello, World!'를 출력하는 명령어를 써보는 것이 이쪽 업계의 전통이라고...\n"
      ]
    },
    {
      "cell_type": "code",
      "metadata": {
        "id": "irwJEBYPIJB5",
        "colab": {
          "base_uri": "https://localhost:8080/"
        },
        "outputId": "4977f49a-6058-41aa-b66c-f8f86af87853"
      },
      "source": [
        "print('Hello, World')"
      ],
      "execution_count": null,
      "outputs": [
        {
          "output_type": "stream",
          "text": [
            "Hello, World\n"
          ],
          "name": "stdout"
        }
      ]
    },
    {
      "cell_type": "markdown",
      "metadata": {
        "id": "0XP6zQczIYQU"
      },
      "source": [
        "* IDE로 주피터노트북을 사용하는 경우, 마지막 줄에 입력하는 값은 자동으로 출력되도록 설정돼있기 때문에 별도로 print() 함수를 쓸 필요는 없음. (다만, 출력방식이 조금 다름)"
      ]
    },
    {
      "cell_type": "code",
      "metadata": {
        "id": "J14YXJiUILqR",
        "colab": {
          "base_uri": "https://localhost:8080/",
          "height": 35
        },
        "outputId": "8bb93e3c-2e4c-4907-ff0b-0af671f66df9"
      },
      "source": [
        "'Hello, World'"
      ],
      "execution_count": null,
      "outputs": [
        {
          "output_type": "execute_result",
          "data": {
            "application/vnd.google.colaboratory.intrinsic+json": {
              "type": "string"
            },
            "text/plain": [
              "'Hello, World'"
            ]
          },
          "metadata": {
            "tags": []
          },
          "execution_count": 2
        }
      ]
    },
    {
      "cell_type": "markdown",
      "metadata": {
        "id": "BimSSn7UIUts"
      },
      "source": [
        "### 2. 변수 할당하기"
      ]
    },
    {
      "cell_type": "markdown",
      "metadata": {
        "id": "nMxqUlieI2qx"
      },
      "source": [
        "### 1) 변수(variable)란?\n",
        "* 어떤 자료값(value)를 컴퓨터의 메모리에 저장한 공간을 의미. 변수의 이름은 해당 저장공간의 주소를 나타냄.\n",
        "* 변수를 만들때는 특정 변수 이름을 정하고 등호(=)로 자료값을 할당(assignment)한다.\n",
        "* (주의) 자료값에 문자열을 입력하려면 작은따옴표(')나 큰따옴표(\")를 앞뒤로 붙여줘야 함. 안붙일 경우 해당 문자를 변수명으로 인식함\n",
        "### <center> 변수명 = 자료값 </center>"
      ]
    },
    {
      "cell_type": "code",
      "metadata": {
        "id": "fhDQKHaOLNe5",
        "colab": {
          "base_uri": "https://localhost:8080/"
        },
        "outputId": "a8e1740f-22b7-4735-fcf0-ca1e355776e1"
      },
      "source": [
        "a = 2\n",
        "b = '개'\n",
        "print(a)\n",
        "print(b)"
      ],
      "execution_count": null,
      "outputs": [
        {
          "output_type": "stream",
          "text": [
            "2\n",
            "개\n"
          ],
          "name": "stdout"
        }
      ]
    },
    {
      "cell_type": "code",
      "metadata": {
        "id": "RGfBPveUQ71B",
        "colab": {
          "base_uri": "https://localhost:8080/",
          "height": 172
        },
        "outputId": "12221f1b-daae-48b3-ed79-a730ca035dca"
      },
      "source": [
        "c = 개"
      ],
      "execution_count": null,
      "outputs": [
        {
          "output_type": "error",
          "ename": "NameError",
          "evalue": "ignored",
          "traceback": [
            "\u001b[0;31m---------------------------------------------------------------------------\u001b[0m",
            "\u001b[0;31mNameError\u001b[0m                                 Traceback (most recent call last)",
            "\u001b[0;32m<ipython-input-5-756862840014>\u001b[0m in \u001b[0;36m<module>\u001b[0;34m()\u001b[0m\n\u001b[0;32m----> 1\u001b[0;31m \u001b[0mc\u001b[0m \u001b[0;34m=\u001b[0m \u001b[0m개\u001b[0m\u001b[0;34m\u001b[0m\u001b[0;34m\u001b[0m\u001b[0m\n\u001b[0m",
            "\u001b[0;31mNameError\u001b[0m: name '개' is not defined"
          ]
        }
      ]
    },
    {
      "cell_type": "markdown",
      "metadata": {
        "id": "KLBe8AJaLUAi"
      },
      "source": [
        "### 2) 변수명을 정하는 규칙\n",
        "* 문자, 숫자, 언더바(_) 로 구성된 단어\n",
        "* 처음 시작으로 숫자는 올 수 없음\n",
        "* 이미 파이썬에서 문법적인 요소로 사용중인 keyword 는 사용할 수 없음 (ex. for, if 등)\n"
      ]
    },
    {
      "cell_type": "code",
      "metadata": {
        "id": "_Gc9_CRPL6hw",
        "colab": {
          "base_uri": "https://localhost:8080/",
          "height": 136
        },
        "outputId": "abce5ff8-5d31-4921-85ec-47dad1a4900a"
      },
      "source": [
        "if = 1"
      ],
      "execution_count": null,
      "outputs": [
        {
          "output_type": "error",
          "ename": "SyntaxError",
          "evalue": "ignored",
          "traceback": [
            "\u001b[0;36m  File \u001b[0;32m\"<ipython-input-6-773eba7f7781>\"\u001b[0;36m, line \u001b[0;32m1\u001b[0m\n\u001b[0;31m    if = 1\u001b[0m\n\u001b[0m       ^\u001b[0m\n\u001b[0;31mSyntaxError\u001b[0m\u001b[0;31m:\u001b[0m invalid syntax\n"
          ]
        }
      ]
    },
    {
      "cell_type": "markdown",
      "metadata": {
        "id": "BuFAQ9s1L755"
      },
      "source": [
        "### 3) 변수의 주소값(id)과 변수 참조"
      ]
    },
    {
      "cell_type": "markdown",
      "metadata": {
        "id": "fF1VUGYBMhU7"
      },
      "source": [
        "* 변수를 생성(할당)하면 실제로는 메모리 상에 주소값이 만들어지는 것이고, 변수명은 해당 주소값의 별명을 붙여주는 것.\n",
        "* id 함수를 통해 해당 변수의 주소를 알 수 있음\n"
      ]
    },
    {
      "cell_type": "code",
      "metadata": {
        "id": "VyW6hHAUM5e3",
        "colab": {
          "base_uri": "https://localhost:8080/"
        },
        "outputId": "0e6301df-6e69-4882-d019-36f5609c8e7f"
      },
      "source": [
        "print(id(a))\n",
        "print(id(b))"
      ],
      "execution_count": null,
      "outputs": [
        {
          "output_type": "stream",
          "text": [
            "10914528\n",
            "139686448532736\n"
          ],
          "name": "stdout"
        }
      ]
    },
    {
      "cell_type": "markdown",
      "metadata": {
        "id": "-SNhitABM8LC"
      },
      "source": [
        "* 새로운 변수명에 기존의 변수를 할당하게 되면 동일한 주소값을 **참조**하게 됨. 이때 원래 변수의 값을 바꾸면, 참조한 변수의 값도 따라서 바뀜"
      ]
    },
    {
      "cell_type": "code",
      "metadata": {
        "id": "Bio9RTbDNXiI",
        "colab": {
          "base_uri": "https://localhost:8080/"
        },
        "outputId": "c7aeeec0-8b21-4f7d-a87e-c2f46f1318e2"
      },
      "source": [
        "c = a\n",
        "print(c)\n",
        "print(id(c))"
      ],
      "execution_count": null,
      "outputs": [
        {
          "output_type": "stream",
          "text": [
            "2\n",
            "10914528\n"
          ],
          "name": "stdout"
        }
      ]
    },
    {
      "cell_type": "code",
      "metadata": {
        "id": "oIUGZ3gcNaKo",
        "colab": {
          "base_uri": "https://localhost:8080/"
        },
        "outputId": "04851aa9-4f3e-453e-f824-5029941d47b6"
      },
      "source": [
        "a = 3\n",
        "print(a)\n",
        "print(c)"
      ],
      "execution_count": null,
      "outputs": [
        {
          "output_type": "stream",
          "text": [
            "3\n",
            "2\n"
          ],
          "name": "stdout"
        }
      ]
    },
    {
      "cell_type": "markdown",
      "metadata": {
        "id": "CQSpI3eFRWrA"
      },
      "source": [
        "### 3. 자료형(type)"
      ]
    },
    {
      "cell_type": "markdown",
      "metadata": {
        "id": "_KZtWeg9SDIH"
      },
      "source": [
        "#### 1) 자료형이란?\n",
        "* 모든 데이터는 각각 특정한 자료형에 속해 있음. (좀 더 넓은 의미로는 클래스(class)라고 함. 일종의 '신분'인 셈)\n",
        "* 파이썬의 경우 변수 생성시 입력된 데이터의 형태를 알아서 판단해 자료형을 지정해 줌 (다른 프로그래밍 언어들은 반드시 자료형을 일일이 지정해줘야 함)\n",
        "* type() 함수를 통해 특정 자료값 또는 변수의 자료형을 확인 가능"
      ]
    },
    {
      "cell_type": "code",
      "metadata": {
        "id": "mbRgZS7fSOfg",
        "colab": {
          "base_uri": "https://localhost:8080/"
        },
        "outputId": "4627aafd-1fb8-4c34-cbb7-fd2a18210af9"
      },
      "source": [
        "print(type(2))\n",
        "print(type(1.5))\n",
        "print(type(b))\n",
        "\n",
        "e = [1,2,3]\n",
        "f = (4,5,6)\n",
        "print(type(e))\n",
        "print(type(f))"
      ],
      "execution_count": null,
      "outputs": [
        {
          "output_type": "stream",
          "text": [
            "<class 'int'>\n",
            "<class 'float'>\n",
            "<class 'str'>\n",
            "<class 'list'>\n",
            "<class 'tuple'>\n"
          ],
          "name": "stdout"
        }
      ]
    },
    {
      "cell_type": "markdown",
      "metadata": {
        "id": "K_IUaTrlTS24"
      },
      "source": [
        "#### 2) 파이썬 자료형\n",
        "* 자료형은 말 그대로 특정한 자료들을 담는 형식, 그릇을 의미하는데, 사용자가 임의의 자료형을 정의해 만들어낼 수도 있음. (-> 클래스(class)의 생성. 고급 문법에 해당하며, 주로 남이 만들어놓은 클래스를 가져다 쓰게 됨)\n",
        "* 파이썬에서 기본적으로 제공하는 클래스를 '자료형'이라고 지칭함. \n",
        "* 위에서 본 int, float, str, list, tuple 등이 파이선의 기본 자료형임. 이들을 범주별로 묶어보면 크게 **스칼라형**, **문자열**, **컨테이너형**, **시퀀스형**으로 나눌 수 있음\n"
      ]
    },
    {
      "cell_type": "markdown",
      "metadata": {
        "id": "lc7Ug9s0UGY-"
      },
      "source": [
        "#### 3) 스칼라형"
      ]
    },
    {
      "cell_type": "markdown",
      "metadata": {
        "id": "J2apMUy6uXA7"
      },
      "source": [
        "*  숫자나 참/거짓 등 하나의 값을 담는 자료형들의 범주\n",
        "* **int** : 소수점이 없는 정수(integer) 자료형\n",
        "* **float** : 소수점이 있는 실수(floating number) 자료형\n",
        "* **bool** : 참(True)과 거짓(False) 두개의 값만 존재하는 자료형. 주로 조건문의 판단 결과값을 표현하는 경우임\n",
        "* **NoneType** : 해당 공간에 데이터가 없음(None)을 의미하는 자료형. 주로 외부 데이터를 불러올 때 자료가 담겨있지 않는 부분을 표현하는 경우임.\n"
      ]
    },
    {
      "cell_type": "code",
      "metadata": {
        "id": "C5N4C05NWTtQ",
        "colab": {
          "base_uri": "https://localhost:8080/"
        },
        "outputId": "45e54a24-dd5c-4d53-a24a-009699ccd9dc"
      },
      "source": [
        "g = True\n",
        "h = (a==b)   # == 는 양변이 같다는 것을 의미하는 연산자\n",
        "print(g, type(g))\n",
        "print(h, type(h))"
      ],
      "execution_count": null,
      "outputs": [
        {
          "output_type": "stream",
          "text": [
            "True <class 'bool'>\n",
            "False <class 'bool'>\n"
          ],
          "name": "stdout"
        }
      ]
    },
    {
      "cell_type": "code",
      "metadata": {
        "id": "_X6ld8TQQOhu",
        "colab": {
          "base_uri": "https://localhost:8080/"
        },
        "outputId": "ec9a2975-34a2-449d-a080-d1caece25ed9"
      },
      "source": [
        "g = None\n",
        "print(g, type(g))"
      ],
      "execution_count": null,
      "outputs": [
        {
          "output_type": "stream",
          "text": [
            "None <class 'NoneType'>\n"
          ],
          "name": "stdout"
        }
      ]
    },
    {
      "cell_type": "markdown",
      "metadata": {
        "id": "MxEu41tIQWSk"
      },
      "source": [
        "#### 4) 문자열(str)"
      ]
    },
    {
      "cell_type": "markdown",
      "metadata": {
        "id": "siZtTOIYRwYS"
      },
      "source": [
        "* 낱글자, 단어, 띄어쓰기, 기호 등으로 구성된 문자들의 집합. 범주가 아니라 그 자체로 자료형의 하나\n",
        "* 작은 따옴표(')나 큰 따옴표(\")로 둘러싸인 값은 문자열 자료형이 됨. 개별문자간 **순서**를 인식"
      ]
    },
    {
      "cell_type": "code",
      "metadata": {
        "id": "fOQL93dwSD18",
        "colab": {
          "base_uri": "https://localhost:8080/"
        },
        "outputId": "8a780993-ce0f-4bee-9417-535014743788"
      },
      "source": [
        "i = '가'\n",
        "j = \"라\"\n",
        "k = \"\"\"가나다\"\"\"      # 큰 따옴표 세개(\"\"\")로도 문자열 표현 가능\n",
        "l = \"\"\"그 사람은 \"저는 '상호금융자금부' 소속입니다\" 라고 말했다.\"\"\" # 따옴표를 문자열의 값으로 나타낼 때\n",
        "\n",
        "print(i,j,k,l)"
      ],
      "execution_count": null,
      "outputs": [
        {
          "output_type": "stream",
          "text": [
            "가 라 가나다 그 사람은 \"저는 '상호금융자금부' 소속입니다\" 라고 말했다.\n"
          ],
          "name": "stdout"
        }
      ]
    },
    {
      "cell_type": "markdown",
      "metadata": {
        "id": "-GntYipbSgPb"
      },
      "source": [
        "#### 5) 컨테이너형"
      ]
    },
    {
      "cell_type": "markdown",
      "metadata": {
        "id": "odP-zD1qS97s"
      },
      "source": [
        "* 여러 자료형을 갖는 다수의 자료들을 하나의 변수에 담는 자료형의 범주\n",
        "* **리스트(list)** : []로 둘러싸인 데이터들의 집합. 원소간 **순서가 있고**, 원소의 내용을 **변경 가능**\n",
        "* **튜플(tuple)** : ()로 둘러싸인 데이터들의 집합. 원소 간 **순서가 있고**, 원소의 내용을 **변경 불가**\n",
        "* **집합(set)** : {}로 둘러싸인 데이터들의 집합. **순서가 없고**, 원소의 내용 **변경 가능**하지만, **중복 불가능**하고, \n",
        "* **딕셔너리(dict)** : {키1 : 값1, 키2 : 값2, ...} 형태를 갖고, 원소간 **순서가 없고**, 키워드로 호출할 수 있음"
      ]
    },
    {
      "cell_type": "code",
      "metadata": {
        "id": "KmyyVpLvUwMM",
        "colab": {
          "base_uri": "https://localhost:8080/"
        },
        "outputId": "840decaa-a584-40dd-b5ec-540ffd9c5deb"
      },
      "source": [
        "m = [1, 1.5, '개', True]   # 리스트 생성\n",
        "n = ('사람', m, None)   # 튜플 생성\n",
        "\n",
        "print(m)\n",
        "print(n)\n",
        "print(m[1])"
      ],
      "execution_count": null,
      "outputs": [
        {
          "output_type": "stream",
          "text": [
            "[1, 1.5, '개', True]\n",
            "('사람', [1, 1.5, '개', True], None)\n",
            "1.5\n"
          ],
          "name": "stdout"
        }
      ]
    },
    {
      "cell_type": "code",
      "metadata": {
        "id": "FMcUcGBcWHXD",
        "colab": {
          "base_uri": "https://localhost:8080/",
          "height": 226
        },
        "outputId": "5ae02e66-3234-4c1e-efdc-9d36b2968332"
      },
      "source": [
        "m[1] = 3.5                 # 리스트의 값은 변경 가능\n",
        "print(m)\n",
        "\n",
        "n[0]='동물'"
      ],
      "execution_count": null,
      "outputs": [
        {
          "output_type": "stream",
          "text": [
            "[1, 3.5, '개', True]\n"
          ],
          "name": "stdout"
        },
        {
          "output_type": "error",
          "ename": "TypeError",
          "evalue": "ignored",
          "traceback": [
            "\u001b[0;31m---------------------------------------------------------------------------\u001b[0m",
            "\u001b[0;31mTypeError\u001b[0m                                 Traceback (most recent call last)",
            "\u001b[0;32m<ipython-input-15-e4907e7eada7>\u001b[0m in \u001b[0;36m<module>\u001b[0;34m()\u001b[0m\n\u001b[1;32m      2\u001b[0m \u001b[0mprint\u001b[0m\u001b[0;34m(\u001b[0m\u001b[0mm\u001b[0m\u001b[0;34m)\u001b[0m\u001b[0;34m\u001b[0m\u001b[0;34m\u001b[0m\u001b[0m\n\u001b[1;32m      3\u001b[0m \u001b[0;34m\u001b[0m\u001b[0m\n\u001b[0;32m----> 4\u001b[0;31m \u001b[0mn\u001b[0m\u001b[0;34m[\u001b[0m\u001b[0;36m0\u001b[0m\u001b[0;34m]\u001b[0m\u001b[0;34m=\u001b[0m\u001b[0;34m'동물'\u001b[0m\u001b[0;34m\u001b[0m\u001b[0;34m\u001b[0m\u001b[0m\n\u001b[0m",
            "\u001b[0;31mTypeError\u001b[0m: 'tuple' object does not support item assignment"
          ]
        }
      ]
    },
    {
      "cell_type": "code",
      "metadata": {
        "id": "uWbswgkeV-eN",
        "colab": {
          "base_uri": "https://localhost:8080/",
          "height": 226
        },
        "outputId": "4b98a2c1-5163-495b-c6a7-451b6b9d406a"
      },
      "source": [
        "o = {'사람', 3, '3', 3, '사람'}\n",
        "print(o)\n",
        "\n",
        "print(o[1])"
      ],
      "execution_count": null,
      "outputs": [
        {
          "output_type": "stream",
          "text": [
            "{3, '3', '사람'}\n"
          ],
          "name": "stdout"
        },
        {
          "output_type": "error",
          "ename": "TypeError",
          "evalue": "ignored",
          "traceback": [
            "\u001b[0;31m---------------------------------------------------------------------------\u001b[0m",
            "\u001b[0;31mTypeError\u001b[0m                                 Traceback (most recent call last)",
            "\u001b[0;32m<ipython-input-16-9dd75df37b66>\u001b[0m in \u001b[0;36m<module>\u001b[0;34m()\u001b[0m\n\u001b[1;32m      2\u001b[0m \u001b[0mprint\u001b[0m\u001b[0;34m(\u001b[0m\u001b[0mo\u001b[0m\u001b[0;34m)\u001b[0m\u001b[0;34m\u001b[0m\u001b[0;34m\u001b[0m\u001b[0m\n\u001b[1;32m      3\u001b[0m \u001b[0;34m\u001b[0m\u001b[0m\n\u001b[0;32m----> 4\u001b[0;31m \u001b[0mprint\u001b[0m\u001b[0;34m(\u001b[0m\u001b[0mo\u001b[0m\u001b[0;34m[\u001b[0m\u001b[0;36m1\u001b[0m\u001b[0;34m]\u001b[0m\u001b[0;34m)\u001b[0m\u001b[0;34m\u001b[0m\u001b[0;34m\u001b[0m\u001b[0m\n\u001b[0m",
            "\u001b[0;31mTypeError\u001b[0m: 'set' object does not support indexing"
          ]
        }
      ]
    },
    {
      "cell_type": "code",
      "metadata": {
        "id": "YOptquuLWeiO",
        "colab": {
          "base_uri": "https://localhost:8080/"
        },
        "outputId": "d1760682-dc61-4bad-9634-d4b78d4efee1"
      },
      "source": [
        "p = {'종류' : '주식', '수량' : 3}\n",
        "\n",
        "print(p)\n",
        "print(p['수량'])"
      ],
      "execution_count": null,
      "outputs": [
        {
          "output_type": "stream",
          "text": [
            "{'종류': '주식', '수량': 3}\n",
            "3\n"
          ],
          "name": "stdout"
        }
      ]
    },
    {
      "cell_type": "markdown",
      "metadata": {
        "id": "ZqCOH_y3WoBZ"
      },
      "source": [
        "#### 6) 시퀀스형"
      ]
    },
    {
      "cell_type": "markdown",
      "metadata": {
        "id": "cUMcSZpyXUot"
      },
      "source": [
        "* 순서가 있는 데이터들의 집합 형태를 갖는 자료형 범주. 문자열(str), 리스트(list), 튜플(tuple)이 시퀀스형 범주에 속한다\n",
        "* a[0] 과 같은 형태로 원소 추출이 가능함(indexing)"
      ]
    }
  ]
}