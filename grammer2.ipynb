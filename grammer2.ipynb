{
  "nbformat": 4,
  "nbformat_minor": 0,
  "metadata": {
    "colab": {
      "name": "grammer2.ipynb",
      "provenance": [],
      "collapsed_sections": [],
      "authorship_tag": "ABX9TyMN1jza2+ZONxBCj/7gJ/Bn",
      "include_colab_link": true
    },
    "kernelspec": {
      "name": "python3",
      "display_name": "Python 3"
    }
  },
  "cells": [
    {
      "cell_type": "markdown",
      "metadata": {
        "id": "view-in-github",
        "colab_type": "text"
      },
      "source": [
        "<a href=\"https://colab.research.google.com/github/maeng-gun/python_basic/blob/main/grammer2.ipynb\" target=\"_parent\"><img src=\"https://colab.research.google.com/assets/colab-badge.svg\" alt=\"Open In Colab\"/></a>"
      ]
    },
    {
      "cell_type": "markdown",
      "metadata": {
        "id": "E-b_UmODH5Va"
      },
      "source": [
        "## 연산자 활용하기\n"
      ]
    },
    {
      "cell_type": "markdown",
      "metadata": {
        "id": "2Opm9UyYM0ZM"
      },
      "source": [
        "* 연산자(operator)란 수학적 계산, 비교, 논리적 판단 등 특정한 작업을 하기 위해서 사용하는 기호를 의미함. 대표적으로 1) 산술 연산자, 2) 비교 연산자, 3) 논리 연산자, 4) 포함 연산자 등이 사용됨\n"
      ]
    },
    {
      "cell_type": "markdown",
      "metadata": {
        "id": "Qb8aIG81M2EO"
      },
      "source": [
        "### 1. 산술 연산\n"
      ]
    },
    {
      "cell_type": "markdown",
      "metadata": {
        "id": "OEMImn13M2mt"
      },
      "source": [
        "#### 1) 숫자형(int, float) 자료의 연산\n",
        "* 산술 연산자의 종류\n",
        " * 더하기(+), 빼기(-), 곱하기(\\*), 나누기(/), \n",
        " * 제곱(\\**), 나눗셈의 몫(//)과 나머지(%)\n"
      ]
    },
    {
      "cell_type": "code",
      "metadata": {
        "colab": {
          "base_uri": "https://localhost:8080/"
        },
        "id": "T2IKkiD3Py24",
        "outputId": "4c75d528-cc43-4b09-beab-d262de0b1030"
      },
      "source": [
        "a = 3\n",
        "b = 1\n",
        "c = 2\n",
        "d = 7\n",
        "\n",
        "e = ((a + b) ** c ) / d - b\n",
        "f = d // a\n",
        "g = d % a\n",
        "\n",
        "print(e,f,g)"
      ],
      "execution_count": 1,
      "outputs": [
        {
          "output_type": "stream",
          "text": [
            "1.2857142857142856 2 1\n"
          ],
          "name": "stdout"
        }
      ]
    },
    {
      "cell_type": "markdown",
      "metadata": {
        "id": "nz864x-wM3Q9"
      },
      "source": [
        "#### 2) 문자열(str) 자료의 연산\n",
        "* 문자열 + 문자열 : 두 문자열을 그대로 접합시킴\n",
        "* 문자열 * 정수 : 정수의 크기만큼 문자열을 반복해서 접합시킴\n",
        "* len(문자열) : 문자열의 갯수를 셈"
      ]
    },
    {
      "cell_type": "code",
      "metadata": {
        "id": "HTkKQhhxeoer",
        "colab": {
          "base_uri": "https://localhost:8080/"
        },
        "outputId": "bf2d60f4-d2f7-4a5c-8ea9-46fcc8da2ede"
      },
      "source": [
        "h = \"상호금융\"\n",
        "i = \"자금부\"\n",
        "j = \"안녕 \"\n",
        "k = \"=\"\n",
        "\n",
        "print(h+i)\n",
        "print(j*3)\n",
        "print(k*20)\n",
        "len(h)"
      ],
      "execution_count": 2,
      "outputs": [
        {
          "output_type": "stream",
          "text": [
            "상호금융자금부\n",
            "안녕 안녕 안녕 \n",
            "====================\n"
          ],
          "name": "stdout"
        },
        {
          "output_type": "execute_result",
          "data": {
            "text/plain": [
              "4"
            ]
          },
          "metadata": {
            "tags": []
          },
          "execution_count": 2
        }
      ]
    },
    {
      "cell_type": "markdown",
      "metadata": {
        "id": "5gcJt_JpCA2R"
      },
      "source": [
        "#### 2) 리스트(list) 자료의 연산\n",
        "* 리스트 + 리스트 : 두 리스트를 그대로 접합시킴\n",
        "* 리스트 * 정수 : 정수의 크기만큼 리스트를 반복해서 접합시킴\n",
        "* len(리스트) : 리스트의 길이(원소의 갯수)를 셈"
      ]
    },
    {
      "cell_type": "code",
      "metadata": {
        "colab": {
          "base_uri": "https://localhost:8080/"
        },
        "id": "K2hTZRrXCTDj",
        "outputId": "3490f82f-39f2-4b3a-efdd-32952f0afb54"
      },
      "source": [
        "z1 = [1,2]\n",
        "z2 = [3,4]\n",
        "\n",
        "print(z1+z2)\n",
        "print(z1*2)\n",
        "len(z1)"
      ],
      "execution_count": 3,
      "outputs": [
        {
          "output_type": "stream",
          "text": [
            "[1, 2, 3, 4]\n",
            "[1, 2, 1, 2]\n"
          ],
          "name": "stdout"
        },
        {
          "output_type": "execute_result",
          "data": {
            "text/plain": [
              "2"
            ]
          },
          "metadata": {
            "tags": []
          },
          "execution_count": 3
        }
      ]
    },
    {
      "cell_type": "markdown",
      "metadata": {
        "id": "Qc-dNHv2M8Y1"
      },
      "source": [
        "### 2. 조건문과 불(bool) 자료형\n"
      ]
    },
    {
      "cell_type": "markdown",
      "metadata": {
        "id": "pwG5ovR2M82q"
      },
      "source": [
        "#### 1) 조건문\n",
        "* 참/거짓을 판단할 수 있는 문장을 조건문이라고 함\n",
        "* 조건문을 만들어내는 연산자들의 종류는 크게 3가지가 있음\n",
        " * 비교 연산자 : 크다(>), 작다(<), 같다(==), 다르다(!=), 크거나같다(>=), 작거나같다(<=)\n",
        " * 논리 연산자 : 두개의 조건문이 주어질 때, 둘 다 참이면 참(and), 둘중 하나만 참이면 참(or), 특정 조건문의 반대(not)\n",
        " * 포함 연산자 : 포함(in), 포함하지 않음(not in)"
      ]
    },
    {
      "cell_type": "markdown",
      "metadata": {
        "id": "YlQ54cvwM9Td"
      },
      "source": [
        "#### 2) 불(bool) 자료형\n",
        "* bool : 참(True), 거짓(False) 두가지 종류의 값만 취할 수 있는 자료형\n",
        "* 조건문을 그대로 실행하거나 특정 변수에 할당했을 때, 해당 조건의 판단 결과가 반환됨"
      ]
    },
    {
      "cell_type": "code",
      "metadata": {
        "colab": {
          "base_uri": "https://localhost:8080/"
        },
        "id": "zO5ZrM1WNK3R",
        "outputId": "dfb556cb-a15f-4462-c35e-3965110e7a24"
      },
      "source": [
        "3 > 2     # 조건문을 실행"
      ],
      "execution_count": 4,
      "outputs": [
        {
          "output_type": "execute_result",
          "data": {
            "text/plain": [
              "True"
            ]
          },
          "metadata": {
            "tags": []
          },
          "execution_count": 4
        }
      ]
    },
    {
      "cell_type": "code",
      "metadata": {
        "colab": {
          "base_uri": "https://localhost:8080/"
        },
        "id": "HHhXrgjZNRTD",
        "outputId": "7b6ae33d-95bc-4678-b775-556ec184d4fb"
      },
      "source": [
        "m = (2 == 3)     # 조건문을 a 라는 변수에 할당 ( = 는 변수의 할당, == 는 '같다'를 의미하는 비교연산자임에 유의 )\n",
        "m"
      ],
      "execution_count": 5,
      "outputs": [
        {
          "output_type": "execute_result",
          "data": {
            "text/plain": [
              "False"
            ]
          },
          "metadata": {
            "tags": []
          },
          "execution_count": 5
        }
      ]
    },
    {
      "cell_type": "code",
      "metadata": {
        "colab": {
          "base_uri": "https://localhost:8080/"
        },
        "id": "PtoK7NPPNTPK",
        "outputId": "a7be3be8-bb14-4bd5-8582-2407d23a7917"
      },
      "source": [
        "n = ((3+1) != (1+4))\n",
        "n"
      ],
      "execution_count": 6,
      "outputs": [
        {
          "output_type": "execute_result",
          "data": {
            "text/plain": [
              "True"
            ]
          },
          "metadata": {
            "tags": []
          },
          "execution_count": 6
        }
      ]
    },
    {
      "cell_type": "code",
      "metadata": {
        "colab": {
          "base_uri": "https://localhost:8080/"
        },
        "id": "1TpU1_JaNUwC",
        "outputId": "d6e24f26-fb7e-432a-9a53-93eb85965498"
      },
      "source": [
        "print(m and n)        # False and True => 둘다 참이 아니므로 거짓\n",
        "print(m or n)         # False or True => 둘중 하나는 참이므로 참\n",
        "print(not m)          # not False     => 거짓의 반대이므로 참"
      ],
      "execution_count": 7,
      "outputs": [
        {
          "output_type": "stream",
          "text": [
            "False\n",
            "True\n",
            "True\n"
          ],
          "name": "stdout"
        }
      ]
    },
    {
      "cell_type": "code",
      "metadata": {
        "colab": {
          "base_uri": "https://localhost:8080/"
        },
        "id": "vQUM4Fk4NWPr",
        "outputId": "0382e614-365a-45b9-d0cd-1c77b5d74af8"
      },
      "source": [
        "p = 1\n",
        "q = 2\n",
        "r = [1,2,3,4]\n",
        "\n",
        "print(p in r)        # 1은 [1,2,3,4]에 '포함되는 것'(in) 이므로 참\n",
        "print(q not in r)    # 2는 [1,2,3,4]에 '포함되지 않는 것'(not in)이 아니므로 거짓"
      ],
      "execution_count": 8,
      "outputs": [
        {
          "output_type": "stream",
          "text": [
            "True\n",
            "False\n"
          ],
          "name": "stdout"
        }
      ]
    },
    {
      "cell_type": "markdown",
      "metadata": {
        "id": "ao4HCzU6fwvX"
      },
      "source": [
        "#### 3) 자료형의 참/거짓 판단\n",
        "* 조건문이 아니라 자료형 그 자체도 참/거짓을 판단할 수 있음\n",
        "* 참/거짓 연산 함수 : bool(변수) 또는 bool(자료값)\n",
        "* 자료형에 따른 참/거짓 여부\n",
        " * 숫자형 : 0은 False, 나머지 숫자는 True\n",
        " * 문자열 : 비어있는 문자열(\"\")은 False, 채워져있는 문자열은 True\n",
        " * 컨테이너형(list, tuple, set, dictionary) : 원소가 없는 경우([],(),{})는 False, 원소가 하나 이상인 경우는 True\n",
        " * None : False"
      ]
    },
    {
      "cell_type": "code",
      "metadata": {
        "colab": {
          "base_uri": "https://localhost:8080/"
        },
        "id": "aCPOr2-8hGZX",
        "outputId": "43d91214-d99e-4a63-d0d0-9d0d8e34dd6e"
      },
      "source": [
        "s = 0\n",
        "t = 1\n",
        "u = \"\"\n",
        "v = \"사람\"\n",
        "w = []\n",
        "x = (2,3)\n",
        "y = None\n",
        "\n",
        "print(bool(s), bool(t), bool(u), bool(v), bool(w), bool(x), bool(y))"
      ],
      "execution_count": 9,
      "outputs": [
        {
          "output_type": "stream",
          "text": [
            "False True False True False True False\n"
          ],
          "name": "stdout"
        }
      ]
    }
  ]
}