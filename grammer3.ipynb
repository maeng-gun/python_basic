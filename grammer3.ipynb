{
  "nbformat": 4,
  "nbformat_minor": 0,
  "metadata": {
    "colab": {
      "name": "grammer3.ipynb",
      "provenance": [],
      "collapsed_sections": [],
      "authorship_tag": "ABX9TyPosKVTI1HmFRNDmS692lM5",
      "include_colab_link": true
    },
    "kernelspec": {
      "name": "python3",
      "display_name": "Python 3"
    }
  },
  "cells": [
    {
      "cell_type": "markdown",
      "metadata": {
        "id": "view-in-github",
        "colab_type": "text"
      },
      "source": [
        "<a href=\"https://colab.research.google.com/github/maeng-gun/python_basic/blob/main/grammer3.ipynb\" target=\"_parent\"><img src=\"https://colab.research.google.com/assets/colab-badge.svg\" alt=\"Open In Colab\"/></a>"
      ]
    },
    {
      "cell_type": "markdown",
      "metadata": {
        "id": "zcaumWcc6jPS"
      },
      "source": [
        "## 인덱싱, 슬라이싱, 언패킹\n"
      ]
    },
    {
      "cell_type": "markdown",
      "metadata": {
        "id": "Rn-5lGxc-UGm"
      },
      "source": [
        "### 1. 인덱싱(Indexing)\n",
        "* 다수의 요소로 구성된 자료에서 특정 요소를 추출하는 것을 인덱싱이라고 함\n",
        "* str, list, tuple 등 순서가 있는 자료형(sequence type)들의 경우는 정수 인덱싱, 순서는 없지만 각 요소마다 키(key)가 있는 있는 딕셔너리(dictionary) 자료형의 경우는 키 인덱싱을 사용"
      ]
    },
    {
      "cell_type": "code",
      "metadata": {
        "id": "iBbhRRIIIzIo"
      },
      "source": [
        "# 문자열(str)\n",
        "a = \"상호금융자금부\"\n",
        "\n",
        "# 리스트(list)\n",
        "b = ['백오피스','투자전략','외부운용']  \n",
        "\n",
        "# 튜플(tuple)\n",
        "c = (1,2) \n",
        "\n",
        "# 딕셔너리\n",
        "d = { '종목명' : '카카오', '현재가' : 360000, '업종/지수' : ['IT','KOSPI'] }  "
      ],
      "execution_count": 1,
      "outputs": []
    },
    {
      "cell_type": "markdown",
      "metadata": {
        "id": "PjaoMO-d-OGy"
      },
      "source": [
        "\n",
        "####1) 정수 인덱싱 (str, list, tuple)\n",
        "* 인덱스(index) : 순서가 있는 자료형에서 각 요소들의 순서(위치)를 나타내는 정수값. \n",
        " * **(주의) 파이썬을 포함한 대부분의 프로그래밍 언어에서는 순서를 0부터 센다!**\n",
        "* 인덱싱 방법 : a 변수의 i번째 요소 값 =>  a[i-1]\n",
        "* 인덱스로 음수(-i)를 넣는 경우 : 뒤에서부터 i번째 요소를 추출함\n"
      ]
    },
    {
      "cell_type": "code",
      "metadata": {
        "colab": {
          "base_uri": "https://localhost:8080/",
          "height": 248
        },
        "id": "sJUFy2pBBQgr",
        "outputId": "d67aec80-508a-466d-d4df-ddb6e0198d87"
      },
      "source": [
        "print(a[0])\n",
        "print(b[1])\n",
        "print(c[-2])\n",
        "print(a[7])"
      ],
      "execution_count": 3,
      "outputs": [
        {
          "output_type": "stream",
          "text": [
            "상\n",
            "투자전략\n",
            "1\n"
          ],
          "name": "stdout"
        },
        {
          "output_type": "error",
          "ename": "IndexError",
          "evalue": "ignored",
          "traceback": [
            "\u001b[0;31m---------------------------------------------------------------------------\u001b[0m",
            "\u001b[0;31mIndexError\u001b[0m                                Traceback (most recent call last)",
            "\u001b[0;32m<ipython-input-3-1506ed69e20f>\u001b[0m in \u001b[0;36m<module>\u001b[0;34m()\u001b[0m\n\u001b[1;32m      2\u001b[0m \u001b[0mprint\u001b[0m\u001b[0;34m(\u001b[0m\u001b[0mb\u001b[0m\u001b[0;34m[\u001b[0m\u001b[0;36m1\u001b[0m\u001b[0;34m]\u001b[0m\u001b[0;34m)\u001b[0m\u001b[0;34m\u001b[0m\u001b[0;34m\u001b[0m\u001b[0m\n\u001b[1;32m      3\u001b[0m \u001b[0mprint\u001b[0m\u001b[0;34m(\u001b[0m\u001b[0mc\u001b[0m\u001b[0;34m[\u001b[0m\u001b[0;34m-\u001b[0m\u001b[0;36m2\u001b[0m\u001b[0;34m]\u001b[0m\u001b[0;34m)\u001b[0m\u001b[0;34m\u001b[0m\u001b[0;34m\u001b[0m\u001b[0m\n\u001b[0;32m----> 4\u001b[0;31m \u001b[0mprint\u001b[0m\u001b[0;34m(\u001b[0m\u001b[0ma\u001b[0m\u001b[0;34m[\u001b[0m\u001b[0;36m7\u001b[0m\u001b[0;34m]\u001b[0m\u001b[0;34m)\u001b[0m\u001b[0;34m\u001b[0m\u001b[0;34m\u001b[0m\u001b[0m\n\u001b[0m",
            "\u001b[0;31mIndexError\u001b[0m: string index out of range"
          ]
        }
      ]
    },
    {
      "cell_type": "markdown",
      "metadata": {
        "id": "lz_syLWX-PBY"
      },
      "source": [
        "####2) 키 인덱싱 (dictionary)\n",
        "* 딕셔너리 자료형은 원소간 순서가 없기 때문에 인덱스는 없음. 대신 각 원소가 키(key)와 값(value)이 한 쌍으로 존재하기 때문에, 인덱스 대신 키를 사용\n",
        "* 인덱싱 방법 : a[key이름]\n",
        "\n"
      ]
    },
    {
      "cell_type": "code",
      "metadata": {
        "colab": {
          "base_uri": "https://localhost:8080/"
        },
        "id": "00yS-6ibFPLg",
        "outputId": "c44289b9-a7a8-4a16-be0c-7f0202b91ffe"
      },
      "source": [
        "e = d['종목명']\n",
        "f = d['현재가']\n",
        "g = d['업종/지수']\n",
        "\n",
        "print(e, type(e))\n",
        "print(f, type(f))\n",
        "print(g, type(g))"
      ],
      "execution_count": 4,
      "outputs": [
        {
          "output_type": "stream",
          "text": [
            "카카오 <class 'str'>\n",
            "360000 <class 'int'>\n",
            "['IT', 'KOSPI'] <class 'list'>\n"
          ],
          "name": "stdout"
        }
      ]
    },
    {
      "cell_type": "markdown",
      "metadata": {
        "id": "DURlez8E-PpS"
      },
      "source": [
        "####3) 인덱싱을 활용한 요소 값의 변경 및 삭제\n",
        "* 변경 : 변수명[인덱스(키)] = 새로운 값\n",
        "* 삭제 : del 변수명[인덱스(키)] \n",
        "* list, dictionary 의 경우 각각 정수 인덱싱과 키 인덱싱을 통해 자료값의 변경이 가능\n",
        "* 반면, str과 tuple은 원소의 값을 변경할 수 없는 자료형 (값을 변경하고 싶으면 해당 변수의 값 전체를 새로 할당해야함)"
      ]
    },
    {
      "cell_type": "code",
      "metadata": {
        "colab": {
          "base_uri": "https://localhost:8080/",
          "height": 240
        },
        "id": "Euo0q8QPIfBN",
        "outputId": "5aa5fd78-527b-4220-ab39-b875c778345f"
      },
      "source": [
        "b[2] = '리서치'\n",
        "d['현재가'] = 3800000\n",
        "\n",
        "print(b, d)\n",
        "\n",
        "c[1] = 3"
      ],
      "execution_count": 5,
      "outputs": [
        {
          "output_type": "stream",
          "text": [
            "['백오피스', '투자전략', '리서치'] {'종목명': '카카오', '현재가': 3800000, '업종/지수': ['IT', 'KOSPI']}\n"
          ],
          "name": "stdout"
        },
        {
          "output_type": "error",
          "ename": "TypeError",
          "evalue": "ignored",
          "traceback": [
            "\u001b[0;31m---------------------------------------------------------------------------\u001b[0m",
            "\u001b[0;31mTypeError\u001b[0m                                 Traceback (most recent call last)",
            "\u001b[0;32m<ipython-input-5-5032f79e8ed8>\u001b[0m in \u001b[0;36m<module>\u001b[0;34m()\u001b[0m\n\u001b[1;32m      4\u001b[0m \u001b[0mprint\u001b[0m\u001b[0;34m(\u001b[0m\u001b[0mb\u001b[0m\u001b[0;34m,\u001b[0m \u001b[0md\u001b[0m\u001b[0;34m)\u001b[0m\u001b[0;34m\u001b[0m\u001b[0;34m\u001b[0m\u001b[0m\n\u001b[1;32m      5\u001b[0m \u001b[0;34m\u001b[0m\u001b[0m\n\u001b[0;32m----> 6\u001b[0;31m \u001b[0mc\u001b[0m\u001b[0;34m[\u001b[0m\u001b[0;36m1\u001b[0m\u001b[0;34m]\u001b[0m \u001b[0;34m=\u001b[0m \u001b[0;36m3\u001b[0m\u001b[0;34m\u001b[0m\u001b[0;34m\u001b[0m\u001b[0m\n\u001b[0m",
            "\u001b[0;31mTypeError\u001b[0m: 'tuple' object does not support item assignment"
          ]
        }
      ]
    },
    {
      "cell_type": "code",
      "metadata": {
        "id": "8uQ2Mo907Y6h"
      },
      "source": [
        "del b[1]\n",
        "del d['현재가']\n",
        "print(b,d)"
      ],
      "execution_count": null,
      "outputs": []
    },
    {
      "cell_type": "markdown",
      "metadata": {
        "id": "YT0RPcdz-QKl"
      },
      "source": [
        "### 2. 슬라이싱(Slicing)\n"
      ]
    },
    {
      "cell_type": "markdown",
      "metadata": {
        "id": "FX8qdWupK_n8"
      },
      "source": [
        "* 인덱싱이 특정 순번의 값 하나를 추출한다면, 슬라이싱은 일정 범위의 값을 추출하는 것\n",
        "* 방법 : a[시작지점:종료지점] \n",
        "  * 시작지점, 종료지점 중 하나는 생략 가능(생략 시 맨 처음/맨 끝으로 인식)\n",
        "  * (주의) **종료지점에 해당하는 값은 포함하지 않는다. 다시 말해, 종료지점보다 작은 정수 인덱스만을 포함한다.**"
      ]
    },
    {
      "cell_type": "code",
      "metadata": {
        "colab": {
          "base_uri": "https://localhost:8080/"
        },
        "id": "oq_AlgRNNUkH",
        "outputId": "faee2657-6301-4947-9cd5-3a66034f108c"
      },
      "source": [
        "#    0 1 2 3 4 5 6  (양수인덱스)\n",
        "#   -7-6-5-4-3-2-1  (음수인덱스)\n",
        "h = [1,2,3,4,5,6,7]\n",
        "\n",
        "print( h[2:4] )   \n",
        "print( h[:3]  )   \n",
        "print( h[4:]  )   \n",
        "print( h[1:-4])\n",
        "print( h[:-5] )\n",
        "print( h[-2:] ) "
      ],
      "execution_count": 6,
      "outputs": [
        {
          "output_type": "stream",
          "text": [
            "[3, 4]\n",
            "[1, 2, 3]\n",
            "[5, 6, 7]\n",
            "[2, 3]\n",
            "[1, 2]\n",
            "[6, 7]\n"
          ],
          "name": "stdout"
        }
      ]
    },
    {
      "cell_type": "markdown",
      "metadata": {
        "id": "isXjc_aw-Qmo"
      },
      "source": [
        "### 3. 언패킹(unpacking)\n"
      ]
    },
    {
      "cell_type": "markdown",
      "metadata": {
        "id": "Vnm_pfNKbQqh"
      },
      "source": [
        "* 리스트나 튜플의 각 원소를 여러개의 변수에 나누어 할당하는 것을 언패킹이라고 함\n",
        "* 방법 : a, b, c, ... = [1, 2, 3, ...]\n"
      ]
    },
    {
      "cell_type": "code",
      "metadata": {
        "colab": {
          "base_uri": "https://localhost:8080/"
        },
        "id": "FsbrjlGNbqt7",
        "outputId": "30209309-33dd-48f1-b911-00ce774599a9"
      },
      "source": [
        "i = [100,200,300]\n",
        "j = ('개','소')\n",
        "\n",
        "p, q, r = i\n",
        "x, y = j\n",
        "\n",
        "print(p)\n",
        "print(q)\n",
        "print(r)\n",
        "print(x)\n",
        "print(y)"
      ],
      "execution_count": 7,
      "outputs": [
        {
          "output_type": "stream",
          "text": [
            "100\n",
            "200\n",
            "300\n",
            "개\n",
            "소\n"
          ],
          "name": "stdout"
        }
      ]
    }
  ]
}