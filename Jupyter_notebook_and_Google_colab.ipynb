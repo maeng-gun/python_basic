{
  "nbformat": 4,
  "nbformat_minor": 0,
  "metadata": {
    "colab": {
      "name": "Jupyter notebook and Google colab.ipynb",
      "provenance": [],
      "collapsed_sections": [],
      "include_colab_link": true
    },
    "hide_input": false,
    "kernelspec": {
      "display_name": "Python 3",
      "language": "python",
      "name": "python3"
    },
    "language_info": {
      "codemirror_mode": {
        "name": "ipython",
        "version": 3
      },
      "file_extension": ".py",
      "mimetype": "text/x-python",
      "name": "python",
      "nbconvert_exporter": "python",
      "pygments_lexer": "ipython3",
      "version": "3.7.6"
    }
  },
  "cells": [
    {
      "cell_type": "markdown",
      "metadata": {
        "id": "view-in-github",
        "colab_type": "text"
      },
      "source": [
        "<a href=\"https://colab.research.google.com/github/maeng-gun/python_basic/blob/main/Jupyter_notebook_and_Google_colab.ipynb\" target=\"_parent\"><img src=\"https://colab.research.google.com/assets/colab-badge.svg\" alt=\"Open In Colab\"/></a>"
      ]
    },
    {
      "cell_type": "markdown",
      "metadata": {
        "id": "eqkHoG-CWllE"
      },
      "source": [
        "# [주피터 노트북]과 [구글 코랩]\n",
        "\n",
        "\n",
        "\n",
        "\n"
      ]
    },
    {
      "cell_type": "markdown",
      "metadata": {
        "id": "bdC34BhNWllG"
      },
      "source": [
        "## 1. 주피터 노트북(Jupyter Notebook)"
      ]
    },
    {
      "cell_type": "markdown",
      "metadata": {
        "id": "hdHqz66OQWQs"
      },
      "source": [
        "### 1) 특징\n",
        "\n",
        "####웹브라우저에서 파이썬 프로그래밍을 수행할 수 있는 개발환경  \n",
        "\n",
        "####아나콘다(파이썬 배포판) 설치시 함께 설치됨\n",
        "\n",
        "####REPL 방식과 스크립트 방식을 결합\n",
        "\n",
        " * REPL 방식 : 파이썬 콘솔에서 코드를 한줄씩 입력하고 그 결과를 출력해주는 코딩 방식. 코딩 시 코드의 일부를 미리 실행해볼 때 주로 사용\n",
        " * 스크립트 방식 : 여러 줄에 걸쳐 완성된 소스코드(스크립트) 전체를 파일로 저장한 후, 해당 코드파일을 실행해 한번에 결과를 출력  \n",
        "\n",
        "####셀 단위로 여러줄의 코드를 입력하고 셀마다 실행(스크립트 방식), 셀의 마지막 줄의 코드만 결과를 출력(REPL 방식)\n",
        "\n",
        " * 파이썬을 활용한 데이터 분석 수행 시 중간중간 시각화(표, 그래프) 결과를 확인하는게 중요하므로 주피터 노트북이 주로 활용됨\n",
        " * 업무자동화(RPA)처럼 한번에 모든 명령을 실행해야할 때는 파이참(Pycharm) 등 에디터를 활용한 스크립트 방식 코딩이 좋음  \n",
        "\n",
        "####예시"
      ]
    },
    {
      "cell_type": "code",
      "metadata": {
        "id": "boEWlq3bWllI",
        "outputId": "240ad706-746d-490e-ee4c-e9f016aaa677"
      },
      "source": [
        "import pandas as pd\n",
        "\n",
        "data1 = [['개',4,'멍멍'],\n",
        "         ['닭',2,'꼬꼬'],\n",
        "         ['벌',6,'붕붕']]\n",
        "df1 = pd.DataFrame(data1)\n",
        "\n",
        "df1"
      ],
      "execution_count": null,
      "outputs": [
        {
          "output_type": "execute_result",
          "data": {
            "text/html": [
              "<div>\n",
              "<style scoped>\n",
              "    .dataframe tbody tr th:only-of-type {\n",
              "        vertical-align: middle;\n",
              "    }\n",
              "\n",
              "    .dataframe tbody tr th {\n",
              "        vertical-align: top;\n",
              "    }\n",
              "\n",
              "    .dataframe thead th {\n",
              "        text-align: right;\n",
              "    }\n",
              "</style>\n",
              "<table border=\"1\" class=\"dataframe\">\n",
              "  <thead>\n",
              "    <tr style=\"text-align: right;\">\n",
              "      <th></th>\n",
              "      <th>0</th>\n",
              "      <th>1</th>\n",
              "      <th>2</th>\n",
              "    </tr>\n",
              "  </thead>\n",
              "  <tbody>\n",
              "    <tr>\n",
              "      <th>0</th>\n",
              "      <td>개</td>\n",
              "      <td>4</td>\n",
              "      <td>멍멍</td>\n",
              "    </tr>\n",
              "    <tr>\n",
              "      <th>1</th>\n",
              "      <td>닭</td>\n",
              "      <td>2</td>\n",
              "      <td>꼬꼬</td>\n",
              "    </tr>\n",
              "    <tr>\n",
              "      <th>2</th>\n",
              "      <td>벌</td>\n",
              "      <td>6</td>\n",
              "      <td>붕붕</td>\n",
              "    </tr>\n",
              "  </tbody>\n",
              "</table>\n",
              "</div>"
            ],
            "text/plain": [
              "   0  1   2\n",
              "0  개  4  멍멍\n",
              "1  닭  2  꼬꼬\n",
              "2  벌  6  붕붕"
            ]
          },
          "metadata": {
            "tags": []
          },
          "execution_count": 2
        }
      ]
    },
    {
      "cell_type": "code",
      "metadata": {
        "id": "wwgdCPXOWllN",
        "outputId": "c2c11f57-5321-4e95-d8dc-a20458cd9fbf"
      },
      "source": [
        "df1.columns = ['종류','다리','소리']\n",
        "df2 = df1.set_index('종류')\n",
        "\n",
        "df2"
      ],
      "execution_count": null,
      "outputs": [
        {
          "output_type": "execute_result",
          "data": {
            "text/html": [
              "<div>\n",
              "<style scoped>\n",
              "    .dataframe tbody tr th:only-of-type {\n",
              "        vertical-align: middle;\n",
              "    }\n",
              "\n",
              "    .dataframe tbody tr th {\n",
              "        vertical-align: top;\n",
              "    }\n",
              "\n",
              "    .dataframe thead th {\n",
              "        text-align: right;\n",
              "    }\n",
              "</style>\n",
              "<table border=\"1\" class=\"dataframe\">\n",
              "  <thead>\n",
              "    <tr style=\"text-align: right;\">\n",
              "      <th></th>\n",
              "      <th>다리</th>\n",
              "      <th>소리</th>\n",
              "    </tr>\n",
              "    <tr>\n",
              "      <th>종류</th>\n",
              "      <th></th>\n",
              "      <th></th>\n",
              "    </tr>\n",
              "  </thead>\n",
              "  <tbody>\n",
              "    <tr>\n",
              "      <th>개</th>\n",
              "      <td>4</td>\n",
              "      <td>멍멍</td>\n",
              "    </tr>\n",
              "    <tr>\n",
              "      <th>닭</th>\n",
              "      <td>2</td>\n",
              "      <td>꼬꼬</td>\n",
              "    </tr>\n",
              "    <tr>\n",
              "      <th>벌</th>\n",
              "      <td>6</td>\n",
              "      <td>붕붕</td>\n",
              "    </tr>\n",
              "  </tbody>\n",
              "</table>\n",
              "</div>"
            ],
            "text/plain": [
              "    다리  소리\n",
              "종류        \n",
              "개    4  멍멍\n",
              "닭    2  꼬꼬\n",
              "벌    6  붕붕"
            ]
          },
          "metadata": {
            "tags": []
          },
          "execution_count": 3
        }
      ]
    },
    {
      "cell_type": "code",
      "metadata": {
        "id": "nRA26GMHWllS",
        "outputId": "8e0be427-8419-4083-db1d-cf178f987ee5"
      },
      "source": [
        "from matplotlib import rc, pyplot\n",
        "rc('font', family='Malgun Gothic', size=15)\n",
        "\n",
        "df2.다리.plot(kind='barh', title = \"동물별 다리 수\")\n",
        "pyplot.show()"
      ],
      "execution_count": null,
      "outputs": [
        {
          "output_type": "display_data",
          "data": {
            "image/png": "[encoded data removed]",
            "text/plain": [
              "<Figure size 432x288 with 1 Axes>"
            ]
          },
          "metadata": {
            "tags": [],
            "needs_background": "light"
          }
        }
      ]
    },
    {
      "cell_type": "markdown",
      "metadata": {
        "id": "mIu4ygc6ebHq"
      },
      "source": [
        "### 2) 장점\n",
        "\n",
        "####Pandas, Matplotlob 등 유명 라이브러리와 연동되어 입력코드와 출력결과를 시각화하기에 용이함\n",
        "\n",
        "* 파이참 등의 에디터를 사용할 경우 소스코드와 별개로 출력물(표, 그래프)은 따로 창이 생성되기 때문에 타인에게 공유하기가 어려움\n",
        "* 서식이 있는 텍스트를 입력하는 언어체계인 마크다운(markdown)을 활용해 소스코드와 문서를 함께 작성해 출력 가능\n",
        "\n",
        "####파이썬을 아나콘다 배포판으로 설치했을 경우 주피터노트북으로 코딩을 할 수 있음\n",
        "\n",
        "* 내부망 PC 에서 활용가능함!\n",
        "\n",
        "####(주의) 일반적인 스크립트 방식의 파이썬 코드파일 확장자는 .py 인 반면,  주피터노트북의 코드파일의 확장자는 .ipynb 임\n",
        "\n",
        "* .py 의 파일형식은 텍스트(txt), .ipynb의 파일형식은 웹문서(html)\n"
      ]
    },
    {
      "cell_type": "markdown",
      "metadata": {
        "id": "uS6UZOqSWllW"
      },
      "source": [
        "## 2. 구글 코랩(Google Colab)"
      ]
    },
    {
      "cell_type": "markdown",
      "metadata": {
        "id": "E_TlIKyeRuvG"
      },
      "source": [
        "#### 구글드라이브 + 주피터노트북\n",
        " * 인터넷에서 실습하는 주피터노트북 : colab.research.google.com\n",
        " * 코드파일(.ipynb)은 구글드라이브에 저장/불러오기, 파이썬 인터프리터와 CPU는 구글의 서버(원격 컴퓨터)를 사용\n",
        " * 구글 독스와 같은 방식으로 코드파일의 공유 가능\n",
        "\n",
        "#### 파이썬과 주피터노트북을 로컬에 설치하지 않아도 인터넷으로 데이터분석 가능\n",
        " * CPU : 인텔Xeon 2.30GHz, RAM : 13G 의 우수한 구동 환경 제공\n",
        " * 인터넷이 가능한 어느 기기에서도 동일한 작업을 계속 할 수 있음\n",
        " * pandas, scikit-learn, tensorflow 등 유명 파이썬 라이브러리는 이미 설치돼있고, pip 명령을 통해 추가 설치도 가능"
      ]
    },
    {
      "cell_type": "markdown",
      "metadata": {
        "id": "JtGyLtviWllW"
      },
      "source": [
        "## 3. 주피터노트북 기본 단축키"
      ]
    },
    {
      "cell_type": "markdown",
      "metadata": {
        "id": "JSCpNfKpSIiJ"
      },
      "source": [
        "### 1) 주피터노트북 키보드 입력에는 명령모드와 편집모드가 있음\n",
        "\n",
        "####명령모드(Command mode): 노트북의 셀을 편집\n",
        " * 코드 셀 : 파이썬 코드를 입력하는 셀\n",
        " * 마크다운 셀 : 텍스트용 코드를 입력하는 셀 (추후 설명)\n",
        "\n",
        "####편집모드(Edit mode): 셀 내부의 텍스트나 코드를 편집\n",
        " \n",
        "####Esc키를 누르면 명령모드로, Enter를 누르면 편집모드로 상호전환"
      ]
    },
    {
      "cell_type": "markdown",
      "metadata": {
        "id": "BwuGlxwSXNYl"
      },
      "source": [
        "### 2) 주피터노트북의 단축키\n",
        "\n",
        "#### 셀 실행하기 (모드 공통)\n",
        "\n",
        "* Shift + Enter: 셀 실행 + 아래로 이동\n",
        "* Ctrl  + Enter: 현재 셀 실행 (코드를 수정하면서 실행에 유용)\n",
        "\n",
        "#### 명령모드 \n",
        "\n",
        "* A: 위에 셀 추가, B: 아래에 셀 추가\n",
        "* Y: 코드로 전환, M: 마크다운으로 전환\n",
        "* C: 셀 복사, X: 셀 잘라내기, V: 아래에 셀 붙여넣기\n",
        "* D+D : 셀 삭제\n",
        "* Shift + M: 셀 아래 병합\n",
        "* Shift + 화살키: 여러 셀을 한꺼번에 선택\n",
        "\n",
        "#### 편집모드\n",
        "\n",
        "* Ctrl + Shift + -  : 셀 분할 (커서를 기준으로 셀을 둘로 나눈다)\n",
        "* Esc  +   F        : 찾기, 바꾸기\n",
        "* Ctrl +  → : 단어 단위 오른쪽으로, Ctrl + ← : 단어 단위 왼쪽으로 (빠르게 이동)\n",
        "* Ctrl + /   : 주석(comment)으로 만들기\n",
        "\n"
      ]
    },
    {
      "cell_type": "markdown",
      "metadata": {
        "id": "yDsHzvRuXPvb"
      },
      "source": [
        "### 3) 구글코랩의 단축키\n",
        "\n",
        "#### 모드 공통\n",
        "* Ctrl + M + A : 위에 셀 추가\n",
        "* Ctrl + M + B : 아래에 셀 추가 \n",
        "* Ctrl + M + Y : 코드로 전환 \n",
        "* Ctrl + M + M : 마크다운으로 전환\n",
        "* Ctrl + M + D : 셀 삭제\n",
        "\n",
        "#### 편집모드\n",
        "* Ctrl + M + - : 셀 분할\n",
        "* Shift + Ctrl +  H  : 찾기, 바꾸기\n",
        "* Ctrl +  → : 단어 단위 오른쪽으로, Ctrl + ← : 단어 단위 왼쪽으로 (빠르게 이동)\n",
        "* Ctrl + /   : 주석(comment)으로 만들기\n",
        "\n",
        "#### 그 외엔 [메뉴] - [도구] - [단축키]에서 별도 설정 필요\n",
        "\n"
      ]
    },
    {
      "cell_type": "code",
      "metadata": {
        "id": "HJk9tIGdcAgi"
      },
      "source": [
        ""
      ],
      "execution_count": null,
      "outputs": []
    }
  ]
}