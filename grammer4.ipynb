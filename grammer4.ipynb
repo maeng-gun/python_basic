{
  "nbformat": 4,
  "nbformat_minor": 0,
  "metadata": {
    "colab": {
      "name": "grammer4.ipynb",
      "provenance": [],
      "collapsed_sections": [],
      "authorship_tag": "ABX9TyPcdVNyxEa0QavjHFRLagZJ",
      "include_colab_link": true
    },
    "kernelspec": {
      "name": "python3",
      "display_name": "Python 3"
    }
  },
  "cells": [
    {
      "cell_type": "markdown",
      "metadata": {
        "id": "view-in-github",
        "colab_type": "text"
      },
      "source": [
        "<a href=\"https://colab.research.google.com/github/maeng-gun/python_basic/blob/main/grammer4.ipynb\" target=\"_parent\"><img src=\"https://colab.research.google.com/assets/colab-badge.svg\" alt=\"Open In Colab\"/></a>"
      ]
    },
    {
      "cell_type": "markdown",
      "metadata": {
        "id": "n3zkyMeO1r38"
      },
      "source": [
        "## 파이썬의 자료형 - 기타 유용한 기능들\n"
      ]
    },
    {
      "cell_type": "markdown",
      "metadata": {
        "id": "80rbnrV_Glwh"
      },
      "source": [
        "###1. 문자열 관련 기능\n"
      ]
    },
    {
      "cell_type": "markdown",
      "metadata": {
        "id": "jV-l0SJkGomg"
      },
      "source": [
        "####1) 문자열 포매팅(f-string)\n"
      ]
    },
    {
      "cell_type": "markdown",
      "metadata": {
        "id": "xbc-Ue3cG4Ax"
      },
      "source": [
        "* 포매팅(formatting) : 문자열 안에 특정한 변수를 삽입해서 문자열의 내용이 변경될 수 있도록 하는 방법\n",
        "* f-sting : 문자열을 시작하는 따옴표(', \", \"\"\" 등) 앞에 f를 쓰고, 문자열 안에 {변수명} 을 넣으면 변수의 값이 해당 부분에 삽입됨"
      ]
    },
    {
      "cell_type": "code",
      "metadata": {
        "colab": {
          "base_uri": "https://localhost:8080/"
        },
        "id": "S3cUzz1xHxYn",
        "outputId": "02695cad-1ad1-4902-b1ed-9950e09948a3"
      },
      "source": [
        "a = '자금부'\n",
        "b = '16'\n",
        "c = {'부서':'기획부','사번':19}\n",
        "\n",
        "d = f'저는 상호금융{a} 소속입니다. 저는 {b}사번입니다'\n",
        "e = f'저는 상호금융{c[\"부서\"]} 소속입니다. 저는 {c[\"사번\"]}사번입니다'\n",
        "#위에서 '' 안에서 \"\"를 써야하므로 주의\n",
        "\n",
        "print(d)\n",
        "print(e)"
      ],
      "execution_count": 1,
      "outputs": [
        {
          "output_type": "stream",
          "text": [
            "저는 상호금융자금부 소속입니다. 저는 16사번입니다\n",
            "저는 상호금융기획부 소속입니다. 저는 19사번입니다\n"
          ],
          "name": "stdout"
        }
      ]
    },
    {
      "cell_type": "markdown",
      "metadata": {
        "id": "v_b5E4NpGqcH"
      },
      "source": [
        "####2) 문자열의 주요 메서드\n"
      ]
    },
    {
      "cell_type": "markdown",
      "metadata": {
        "id": "h0OsqhGZOclj"
      },
      "source": [
        "* 메서드 : 자료형 마다 고유하게 가지고 있는 기능으로, 자료값을 활용해 새로운 결과값을 산출해주는 함수. dot(.)으로 구분\n",
        "* 대문자/소문자로 바꾸기 : .upper()  .lower()\n",
        "* 특정 문자 바꾸기 : .replace(변경 대상 문자, 변경 후 문자)\n",
        "* 왼쪽, 오른쪽, 양쪽 공백 지우기 : .lstrip()   .rstrip()   .strip()\n",
        "* 분할해서 리스트로 만들기 : .split(구분기호)  -> 기호 생략시 공백 기준"
      ]
    },
    {
      "cell_type": "code",
      "metadata": {
        "colab": {
          "base_uri": "https://localhost:8080/"
        },
        "id": "qAv2ZhO5RYmY",
        "outputId": "a14c0c63-ef6a-482a-c64a-d44a7ecf0ba5"
      },
      "source": [
        "g = 'SangHo'\n",
        "h = '   파이썬 학습 모임   '\n",
        "i = '자금지원,백오피스,자금결제,투자전략,외부운용'\n",
        "\n",
        "print(g.upper())\n",
        "print(g.lower())\n",
        "print(g.replace('Ho','Ja'))\n",
        "print(h.lstrip())\n",
        "print(h.rstrip())\n",
        "print(h.strip())\n",
        "print(h.split())\n",
        "print(i.split(','))"
      ],
      "execution_count": 2,
      "outputs": [
        {
          "output_type": "stream",
          "text": [
            "SANGHO\n",
            "sangho\n",
            "SangJa\n",
            "파이썬 학습 모임   \n",
            "   파이썬 학습 모임\n",
            "파이썬 학습 모임\n",
            "['파이썬', '학습', '모임']\n",
            "['자금지원', '백오피스', '자금결제', '투자전략', '외부운용']\n"
          ],
          "name": "stdout"
        }
      ]
    },
    {
      "cell_type": "markdown",
      "metadata": {
        "id": "HeUJLWg9GrV7"
      },
      "source": [
        "###2. 리스트 주요 메서드\n",
        "* 마지막에 원소 추가 : .append()\n",
        "* 중간에 원소 추가 : .insert(인덱스, 추가할 값)\n",
        "* 특정 원소의 위치(인덱스) 반환 : .index(원소값) ->여래개일때는 첫번째 위치\n",
        "* 특정 원소의 개수 세기 : .count(원소값)"
      ]
    },
    {
      "cell_type": "code",
      "metadata": {
        "colab": {
          "base_uri": "https://localhost:8080/"
        },
        "id": "xOjwtAAzU7wR",
        "outputId": "6cc92761-f72c-42ae-cf02-0b1ade17568c"
      },
      "source": [
        "k = ['개','소','말','닭','개','소','개']\n",
        "\n",
        "k.append('양')\n",
        "k.insert(2,'쥐')\n",
        "\n",
        "print(k)\n",
        "print(k.index('닭'))\n",
        "print(k.count('개'))"
      ],
      "execution_count": 3,
      "outputs": [
        {
          "output_type": "stream",
          "text": [
            "['개', '소', '쥐', '말', '닭', '개', '소', '개', '양']\n",
            "4\n",
            "3\n"
          ],
          "name": "stdout"
        }
      ]
    },
    {
      "cell_type": "markdown",
      "metadata": {
        "id": "2jA_-LcpGsOc"
      },
      "source": [
        "###3. 딕셔너리 주요 메서드\n"
      ]
    },
    {
      "cell_type": "markdown",
      "metadata": {
        "id": "ZK72KuchVcgw"
      },
      "source": [
        "* 원소 추가하기 : 키 인덱싱 방법과 동일. a[새로운키] = 자료값\n",
        "* 키, 값, 키-값 쌍의 리스트 얻기 : .keys()  .values()  .items()\n",
        " * 위의 경우 해당 결과가 그 자체로 별도의 자료형으로, 추후 배울 반복문(for문) 등에서 사용가능. 리스트로 만들어주려면 list()를 씌워줘야 함\n"
      ]
    },
    {
      "cell_type": "code",
      "metadata": {
        "colab": {
          "base_uri": "https://localhost:8080/"
        },
        "id": "_sr2fc8lXIEE",
        "outputId": "8abd0b3f-8cf7-4ed1-8154-b8d8667c2d90"
      },
      "source": [
        "m = {'종목명':'카카오','주가':'360000'}\n",
        "m['업종'] = 'IT'\n",
        "\n",
        "p = m.keys()\n",
        "q = m.values()\n",
        "r = m.items()\n",
        "\n",
        "print(p)\n",
        "print(list(p))\n",
        "print(q)\n",
        "print(list(q))\n",
        "print(r)\n",
        "print(list(r))"
      ],
      "execution_count": 4,
      "outputs": [
        {
          "output_type": "stream",
          "text": [
            "dict_keys(['종목명', '주가', '업종'])\n",
            "['종목명', '주가', '업종']\n",
            "dict_values(['카카오', '360000', 'IT'])\n",
            "['카카오', '360000', 'IT']\n",
            "dict_items([('종목명', '카카오'), ('주가', '360000'), ('업종', 'IT')])\n",
            "[('종목명', '카카오'), ('주가', '360000'), ('업종', 'IT')]\n"
          ],
          "name": "stdout"
        }
      ]
    }
  ]
}