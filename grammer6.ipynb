{
  "nbformat": 4,
  "nbformat_minor": 0,
  "metadata": {
    "colab": {
      "name": "grammer6.ipynb",
      "provenance": [],
      "authorship_tag": "ABX9TyNthTP7xvMg9IwKqdt4yfY0",
      "include_colab_link": true
    },
    "kernelspec": {
      "name": "python3",
      "display_name": "Python 3"
    }
  },
  "cells": [
    {
      "cell_type": "markdown",
      "metadata": {
        "id": "view-in-github",
        "colab_type": "text"
      },
      "source": [
        "<a href=\"https://colab.research.google.com/github/maeng-gun/python_basic/blob/main/grammer6.ipynb\" target=\"_parent\"><img src=\"https://colab.research.google.com/assets/colab-badge.svg\" alt=\"Open In Colab\"/></a>"
      ]
    },
    {
      "cell_type": "markdown",
      "metadata": {
        "id": "ZrWKo6abXJ9L"
      },
      "source": [
        "## 객체와 클래스\n"
      ]
    },
    {
      "cell_type": "markdown",
      "metadata": {
        "id": "1b-zxk79GU4k"
      },
      "source": [
        "### 1. 개념 이해하기\n"
      ]
    },
    {
      "cell_type": "markdown",
      "metadata": {
        "id": "vqV7PWv1GVjd"
      },
      "source": [
        "#### 1) 객체(Object)\n",
        "* 프로그래밍 과정에서 우리가 생성하거나 외부에서 불러온 모든 대상은 '객체'\n",
        "* 객체는 어떤 데이터(상태)와 그것을 활용하는 기능(동작)을 포괄하는 하나의 대상\n",
        "* 객체는 두 가지의 결합\n",
        " * **속성(attribute)** : 객체의 상태를 나타내는 데이터\n",
        " * **메서드(method)** : 객체에 담긴 데이터를 활용하여 어떤 작업을 수행해 결과를 산출하는 함수 \n",
        "\n"
      ]
    },
    {
      "cell_type": "markdown",
      "metadata": {
        "id": "KP8y1Mr0GWYg"
      },
      "source": [
        "#### 2) 클래스(class)\n",
        "* 객체를 만들어내는 틀이 클래스. 예컨대, 붕어빵 = 객체, 붕어빵틀 = 클래스\n",
        "* 클래스는 객체가 어떤 속성과 메서드를 가질 수 있는지 그 형식(type)을 미리 정의한 것. 객체의 신분(class)!\n",
        "* 같은 클래스에서 (동일한 형식을 갖는) 서로 다른 객체가 생성되는 것.\n",
        "* 파이썬에서 생성된 모든 객체는 각각 특정한 클래스에 속한다!\n",
        " * 지금까지 배운 파이썬의 자료형(str, int, float, list, tuple. dictionary) 역시 클래스의 한 종류. \n",
        " * 별도로 정의하지 않아도 기본적으로 제공되는 클래스를 '자료형'이라고 부른 것. 사실상 같은 의미.\n"
      ]
    },
    {
      "cell_type": "markdown",
      "metadata": {
        "id": "4dyd3WyNGSR0"
      },
      "source": [
        "### 3) 붕어빵 만들기로 본 '객체와 클래스'\n",
        "* 클래스 정의하기 : 빵틀의 제작!\n",
        " * 매개변수 정의 : 속재료 보관소 마련\n",
        " * 속성 정의 : 붕어 모양 틀 제작\n",
        " * 메서드 정의 : 붕어 개당 가격 정하기\n",
        "\n",
        "* 객체의 생성 : 붕어빵 만들기!\n",
        " * 인수 부여 : 빵틀에 속재료로 팥과 슈크림을 넣어서 2가지 붕어빵 생성\n",
        " * 변수 할당 : 각각 다른 포장지에 담기!\n",
        "\n",
        "* 객체의 활용 : 붕어빵을 판매하기!\n",
        " * 속성 호출 : 붕어 외관, 팥맛/슈크림맛 제공\n",
        " * 메서드 호출 : 판매를 통한 매출 증가\n"
      ]
    },
    {
      "cell_type": "markdown",
      "metadata": {
        "id": "-uL8reemFs_l"
      },
      "source": [
        "### 2. 판다스(pandas) 데이터프레임 클래스 예시\n"
      ]
    },
    {
      "cell_type": "markdown",
      "metadata": {
        "id": "Qgd3SyqTLKIN"
      },
      "source": [
        "#### 1) 데이터프레임 생성하기"
      ]
    },
    {
      "cell_type": "code",
      "metadata": {
        "id": "4oTtgthKLOlJ"
      },
      "source": [
        "import pandas as pd\n",
        "\n",
        "data1 = {'종목' : ['카카오','삼성전자','현대차'],\n",
        "         '주가' : [370000, 67700, 181000],\n",
        "         '업종' : ['IT','전기전자','자동차']}\n",
        "\n",
        "data2 = {'종류' : ['개','닭','벌'],\n",
        "         '다리' : [4,2,6],\n",
        "         '과목' : ['포유류','조류','곤충']}\n",
        "\n",
        "df1 = pd.DataFrame(data1)\n",
        "df2 = pd.DataFrame(data2)"
      ],
      "execution_count": 7,
      "outputs": []
    },
    {
      "cell_type": "code",
      "metadata": {
        "colab": {
          "base_uri": "https://localhost:8080/",
          "height": 142
        },
        "id": "JLTKLlZ8OO1o",
        "outputId": "e885a49f-a6da-4ea6-93f2-ab14e6174dba"
      },
      "source": [
        "df1"
      ],
      "execution_count": 8,
      "outputs": [
        {
          "output_type": "execute_result",
          "data": {
            "text/html": [
              "<div>\n",
              "<style scoped>\n",
              "    .dataframe tbody tr th:only-of-type {\n",
              "        vertical-align: middle;\n",
              "    }\n",
              "\n",
              "    .dataframe tbody tr th {\n",
              "        vertical-align: top;\n",
              "    }\n",
              "\n",
              "    .dataframe thead th {\n",
              "        text-align: right;\n",
              "    }\n",
              "</style>\n",
              "<table border=\"1\" class=\"dataframe\">\n",
              "  <thead>\n",
              "    <tr style=\"text-align: right;\">\n",
              "      <th></th>\n",
              "      <th>종목</th>\n",
              "      <th>주가</th>\n",
              "      <th>업종</th>\n",
              "    </tr>\n",
              "  </thead>\n",
              "  <tbody>\n",
              "    <tr>\n",
              "      <th>0</th>\n",
              "      <td>카카오</td>\n",
              "      <td>370000</td>\n",
              "      <td>IT</td>\n",
              "    </tr>\n",
              "    <tr>\n",
              "      <th>1</th>\n",
              "      <td>삼성전자</td>\n",
              "      <td>67700</td>\n",
              "      <td>전기전자</td>\n",
              "    </tr>\n",
              "    <tr>\n",
              "      <th>2</th>\n",
              "      <td>현대차</td>\n",
              "      <td>181000</td>\n",
              "      <td>자동차</td>\n",
              "    </tr>\n",
              "  </tbody>\n",
              "</table>\n",
              "</div>"
            ],
            "text/plain": [
              "     종목      주가    업종\n",
              "0   카카오  370000    IT\n",
              "1  삼성전자   67700  전기전자\n",
              "2   현대차  181000   자동차"
            ]
          },
          "metadata": {
            "tags": []
          },
          "execution_count": 8
        }
      ]
    },
    {
      "cell_type": "code",
      "metadata": {
        "colab": {
          "base_uri": "https://localhost:8080/",
          "height": 142
        },
        "id": "YMEnFsDQOPgI",
        "outputId": "abf86fda-58c3-4992-ac6f-a90211d89718"
      },
      "source": [
        "df2"
      ],
      "execution_count": 9,
      "outputs": [
        {
          "output_type": "execute_result",
          "data": {
            "text/html": [
              "<div>\n",
              "<style scoped>\n",
              "    .dataframe tbody tr th:only-of-type {\n",
              "        vertical-align: middle;\n",
              "    }\n",
              "\n",
              "    .dataframe tbody tr th {\n",
              "        vertical-align: top;\n",
              "    }\n",
              "\n",
              "    .dataframe thead th {\n",
              "        text-align: right;\n",
              "    }\n",
              "</style>\n",
              "<table border=\"1\" class=\"dataframe\">\n",
              "  <thead>\n",
              "    <tr style=\"text-align: right;\">\n",
              "      <th></th>\n",
              "      <th>종류</th>\n",
              "      <th>다리</th>\n",
              "      <th>과목</th>\n",
              "    </tr>\n",
              "  </thead>\n",
              "  <tbody>\n",
              "    <tr>\n",
              "      <th>0</th>\n",
              "      <td>개</td>\n",
              "      <td>4</td>\n",
              "      <td>포유류</td>\n",
              "    </tr>\n",
              "    <tr>\n",
              "      <th>1</th>\n",
              "      <td>닭</td>\n",
              "      <td>2</td>\n",
              "      <td>조류</td>\n",
              "    </tr>\n",
              "    <tr>\n",
              "      <th>2</th>\n",
              "      <td>벌</td>\n",
              "      <td>6</td>\n",
              "      <td>곤충</td>\n",
              "    </tr>\n",
              "  </tbody>\n",
              "</table>\n",
              "</div>"
            ],
            "text/plain": [
              "  종류  다리   과목\n",
              "0  개   4  포유류\n",
              "1  닭   2   조류\n",
              "2  벌   6   곤충"
            ]
          },
          "metadata": {
            "tags": []
          },
          "execution_count": 9
        }
      ]
    },
    {
      "cell_type": "code",
      "metadata": {
        "id": "8R-4BqJnOP2A"
      },
      "source": [
        ""
      ],
      "execution_count": null,
      "outputs": []
    }
  ]
}