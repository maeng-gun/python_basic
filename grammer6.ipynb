{
  "nbformat": 4,
  "nbformat_minor": 0,
  "metadata": {
    "colab": {
      "name": "grammer6.ipynb",
      "provenance": [],
      "authorship_tag": "ABX9TyOcUoq1pmVy9k6p5M7Bqnxe",
      "include_colab_link": true
    },
    "kernelspec": {
      "name": "python3",
      "display_name": "Python 3"
    }
  },
  "cells": [
    {
      "cell_type": "markdown",
      "metadata": {
        "id": "view-in-github",
        "colab_type": "text"
      },
      "source": [
        "<a href=\"https://colab.research.google.com/github/maeng-gun/python_basic/blob/main/grammer6.ipynb\" target=\"_parent\"><img src=\"https://colab.research.google.com/assets/colab-badge.svg\" alt=\"Open In Colab\"/></a>"
      ]
    },
    {
      "cell_type": "markdown",
      "metadata": {
        "id": "ZrWKo6abXJ9L"
      },
      "source": [
        "## 객체와 클래스\n"
      ]
    },
    {
      "cell_type": "markdown",
      "metadata": {
        "id": "1b-zxk79GU4k"
      },
      "source": [
        "### 1. 개념 이해하기\n"
      ]
    },
    {
      "cell_type": "markdown",
      "metadata": {
        "id": "vqV7PWv1GVjd"
      },
      "source": [
        "#### 1) 객체(Object)\n",
        "* 프로그래밍 과정에서 우리가 생성하거나 외부에서 불러온 모든 대상은 '객체'\n",
        "* 객체는 어떤 데이터(상태)와 그것을 활용하는 기능(동작)을 포괄하는 하나의 대상\n",
        "* 객체는 두 가지의 결합\n",
        " * **속성(attribute)** : 객체의 상태를 나타내는 데이터\n",
        " * **메서드(method)** : 객체에 담긴 데이터를 활용하여 어떤 작업을 수행해 결과를 산출하는 함수 \n",
        "\n"
      ]
    },
    {
      "cell_type": "markdown",
      "metadata": {
        "id": "KP8y1Mr0GWYg"
      },
      "source": [
        "#### 2) 클래스(class)\n",
        "* 객체를 만들어내는 틀이 클래스. 예컨대, 붕어빵 = 객체, 붕어빵틀 = 클래스\n",
        "* 클래스는 객체가 어떤 속성과 메서드를 가질 수 있는지 그 형식(type)을 미리 정의한 것. 객체의 신분(class)!\n",
        "* 같은 클래스에서 (동일한 형식을 갖는) 서로 다른 객체가 생성되는 것.\n",
        "* 파이썬에서 생성된 모든 객체는 각각 특정한 클래스에 속한다!\n",
        " * 지금까지 배운 파이썬의 자료형(str, int, float, list, tuple. dictionary) 역시 클래스의 한 종류. \n",
        " * 별도로 정의하지 않아도 기본적으로 제공되는 클래스를 '자료형'이라고 부른 것. 사실상 같은 의미.\n"
      ]
    },
    {
      "cell_type": "markdown",
      "metadata": {
        "id": "4dyd3WyNGSR0"
      },
      "source": [
        "#### 3) 붕어빵 만들기로 본 '객체와 클래스'\n",
        "* 클래스 정의하기 : 빵틀의 제작!\n",
        " * 매개변수 정의 : 속재료 보관소 마련\n",
        " * 속성 정의 : 붕어 모양 틀 제작\n",
        " * 메서드 정의 : 붕어 개당 가격 정하기\n",
        "\n",
        "* 객체의 생성 : 붕어빵 만들기!\n",
        " * 인수 부여 : 빵틀에 속재료로 팥과 슈크림을 넣어서 2가지 붕어빵 생성\n",
        " * 변수 할당 : 각각 다른 포장지에 담기!\n",
        "\n",
        "* 객체의 활용 : 붕어빵을 판매하기!\n",
        " * 속성 호출 : 붕어 외관, 팥맛/슈크림맛 제공\n",
        " * 메서드 호출 : 판매를 통한 매출 증가\n"
      ]
    },
    {
      "cell_type": "markdown",
      "metadata": {
        "id": "-uL8reemFs_l"
      },
      "source": [
        "### 2. 판다스(pandas) 데이터프레임 클래스 예시\n"
      ]
    },
    {
      "cell_type": "markdown",
      "metadata": {
        "id": "Qgd3SyqTLKIN"
      },
      "source": [
        "#### 1) 데이터프레임 객체 생성하기\n",
        "* import pandas as pd : pandas 라이브러리(패키지)를 pd 라는 약칭으로 불러오기\n",
        "* 두 개의 속재료 준비 : 3x3 행렬 형태의 data1, data2 \n",
        "* pd.DataFrame 이라는 클래스(빵틀)에 넣기\n",
        "* 넣은 재료에 대해 각각의 객체(빵)이 생성 -> df1, df2 변수에 할당\n"
      ]
    },
    {
      "cell_type": "code",
      "metadata": {
        "id": "4oTtgthKLOlJ"
      },
      "source": [
        "import pandas as pd\n",
        "\n",
        "data1 = {'종목' : ['카카오','삼성전자','현대차'],\n",
        "         '주가' : [370000, 67700, 181000],\n",
        "         '업종' : ['IT','전기전자','자동차']}\n",
        "\n",
        "data2 = {'종류' : ['개','닭','벌'],\n",
        "         '다리' : [4,2,6],\n",
        "         '과목' : ['포유류','조류','곤충']}\n",
        "\n",
        "df1 = pd.DataFrame(data1)\n",
        "df2 = pd.DataFrame(data2)"
      ],
      "execution_count": null,
      "outputs": []
    },
    {
      "cell_type": "code",
      "metadata": {
        "colab": {
          "base_uri": "https://localhost:8080/",
          "height": 138
        },
        "id": "JLTKLlZ8OO1o",
        "outputId": "03b50297-718a-49f7-c947-5c03cc289463"
      },
      "source": [
        "df1  # data1 재료로 구워진 빵"
      ],
      "execution_count": null,
      "outputs": [
        {
          "output_type": "execute_result",
          "data": {
            "text/html": [
              "<div>\n",
              "<style scoped>\n",
              "    .dataframe tbody tr th:only-of-type {\n",
              "        vertical-align: middle;\n",
              "    }\n",
              "\n",
              "    .dataframe tbody tr th {\n",
              "        vertical-align: top;\n",
              "    }\n",
              "\n",
              "    .dataframe thead th {\n",
              "        text-align: right;\n",
              "    }\n",
              "</style>\n",
              "<table border=\"1\" class=\"dataframe\">\n",
              "  <thead>\n",
              "    <tr style=\"text-align: right;\">\n",
              "      <th></th>\n",
              "      <th>종목</th>\n",
              "      <th>주가</th>\n",
              "      <th>업종</th>\n",
              "    </tr>\n",
              "  </thead>\n",
              "  <tbody>\n",
              "    <tr>\n",
              "      <th>0</th>\n",
              "      <td>카카오</td>\n",
              "      <td>370000</td>\n",
              "      <td>IT</td>\n",
              "    </tr>\n",
              "    <tr>\n",
              "      <th>1</th>\n",
              "      <td>삼성전자</td>\n",
              "      <td>67700</td>\n",
              "      <td>전기전자</td>\n",
              "    </tr>\n",
              "    <tr>\n",
              "      <th>2</th>\n",
              "      <td>현대차</td>\n",
              "      <td>181000</td>\n",
              "      <td>자동차</td>\n",
              "    </tr>\n",
              "  </tbody>\n",
              "</table>\n",
              "</div>"
            ],
            "text/plain": [
              "     종목      주가    업종\n",
              "0   카카오  370000    IT\n",
              "1  삼성전자   67700  전기전자\n",
              "2   현대차  181000   자동차"
            ]
          },
          "metadata": {
            "tags": []
          },
          "execution_count": 3
        }
      ]
    },
    {
      "cell_type": "code",
      "metadata": {
        "colab": {
          "base_uri": "https://localhost:8080/",
          "height": 138
        },
        "id": "YMEnFsDQOPgI",
        "outputId": "70250a83-85ac-4b39-e52c-92390cad6a1b"
      },
      "source": [
        "df2  # data1 재료로 구워진 빵"
      ],
      "execution_count": null,
      "outputs": [
        {
          "output_type": "execute_result",
          "data": {
            "text/html": [
              "<div>\n",
              "<style scoped>\n",
              "    .dataframe tbody tr th:only-of-type {\n",
              "        vertical-align: middle;\n",
              "    }\n",
              "\n",
              "    .dataframe tbody tr th {\n",
              "        vertical-align: top;\n",
              "    }\n",
              "\n",
              "    .dataframe thead th {\n",
              "        text-align: right;\n",
              "    }\n",
              "</style>\n",
              "<table border=\"1\" class=\"dataframe\">\n",
              "  <thead>\n",
              "    <tr style=\"text-align: right;\">\n",
              "      <th></th>\n",
              "      <th>종류</th>\n",
              "      <th>다리</th>\n",
              "      <th>과목</th>\n",
              "    </tr>\n",
              "  </thead>\n",
              "  <tbody>\n",
              "    <tr>\n",
              "      <th>0</th>\n",
              "      <td>개</td>\n",
              "      <td>4</td>\n",
              "      <td>포유류</td>\n",
              "    </tr>\n",
              "    <tr>\n",
              "      <th>1</th>\n",
              "      <td>닭</td>\n",
              "      <td>2</td>\n",
              "      <td>조류</td>\n",
              "    </tr>\n",
              "    <tr>\n",
              "      <th>2</th>\n",
              "      <td>벌</td>\n",
              "      <td>6</td>\n",
              "      <td>곤충</td>\n",
              "    </tr>\n",
              "  </tbody>\n",
              "</table>\n",
              "</div>"
            ],
            "text/plain": [
              "  종류  다리   과목\n",
              "0  개   4  포유류\n",
              "1  닭   2   조류\n",
              "2  벌   6   곤충"
            ]
          },
          "metadata": {
            "tags": []
          },
          "execution_count": 4
        }
      ]
    },
    {
      "cell_type": "markdown",
      "metadata": {
        "id": "8R-4BqJnOP2A"
      },
      "source": [
        "#### 2) 데이터프레임 객체의 **속성**과 **메서드**에 호출하기\n",
        "* 객체는 거칠게 말하자면 '변수와 함수의 결합체' 정도로 생각할 수 있음\n",
        "* 객체의 **속성**이란 객체 내부에 담긴 변수로 다음과 같이 호출함\n",
        "      객체명.변수명 "
      ]
    },
    {
      "cell_type": "code",
      "metadata": {
        "id": "9JKZaCxEWydz",
        "colab": {
          "base_uri": "https://localhost:8080/"
        },
        "outputId": "e3ac0c17-3cec-47a7-d3f7-6be15884a23b"
      },
      "source": [
        "df1.index"
      ],
      "execution_count": null,
      "outputs": [
        {
          "output_type": "execute_result",
          "data": {
            "text/plain": [
              "RangeIndex(start=0, stop=3, step=1)"
            ]
          },
          "metadata": {
            "tags": []
          },
          "execution_count": 5
        }
      ]
    },
    {
      "cell_type": "code",
      "metadata": {
        "id": "W1_R_OkWW2F9",
        "colab": {
          "base_uri": "https://localhost:8080/"
        },
        "outputId": "29e11604-4f91-4b43-873b-60eb536dd888"
      },
      "source": [
        "df1.columns"
      ],
      "execution_count": null,
      "outputs": [
        {
          "output_type": "execute_result",
          "data": {
            "text/plain": [
              "Index(['종목', '주가', '업종'], dtype='object')"
            ]
          },
          "metadata": {
            "tags": []
          },
          "execution_count": 6
        }
      ]
    },
    {
      "cell_type": "code",
      "metadata": {
        "id": "SaRhMea_W7BV",
        "colab": {
          "base_uri": "https://localhost:8080/"
        },
        "outputId": "40fc520b-142a-4b60-9853-630a89e26a50"
      },
      "source": [
        "df2.columns"
      ],
      "execution_count": null,
      "outputs": [
        {
          "output_type": "execute_result",
          "data": {
            "text/plain": [
              "Index(['종류', '다리', '과목'], dtype='object')"
            ]
          },
          "metadata": {
            "tags": []
          },
          "execution_count": 8
        }
      ]
    },
    {
      "cell_type": "code",
      "metadata": {
        "id": "I0aEhtUDXF1Z",
        "colab": {
          "base_uri": "https://localhost:8080/",
          "height": 138
        },
        "outputId": "421bf537-d46a-4ed6-f3c3-46cf5f832cd5"
      },
      "source": [
        "df1.T"
      ],
      "execution_count": null,
      "outputs": [
        {
          "output_type": "execute_result",
          "data": {
            "text/html": [
              "<div>\n",
              "<style scoped>\n",
              "    .dataframe tbody tr th:only-of-type {\n",
              "        vertical-align: middle;\n",
              "    }\n",
              "\n",
              "    .dataframe tbody tr th {\n",
              "        vertical-align: top;\n",
              "    }\n",
              "\n",
              "    .dataframe thead th {\n",
              "        text-align: right;\n",
              "    }\n",
              "</style>\n",
              "<table border=\"1\" class=\"dataframe\">\n",
              "  <thead>\n",
              "    <tr style=\"text-align: right;\">\n",
              "      <th></th>\n",
              "      <th>0</th>\n",
              "      <th>1</th>\n",
              "      <th>2</th>\n",
              "    </tr>\n",
              "  </thead>\n",
              "  <tbody>\n",
              "    <tr>\n",
              "      <th>종목</th>\n",
              "      <td>카카오</td>\n",
              "      <td>삼성전자</td>\n",
              "      <td>현대차</td>\n",
              "    </tr>\n",
              "    <tr>\n",
              "      <th>주가</th>\n",
              "      <td>370000</td>\n",
              "      <td>67700</td>\n",
              "      <td>181000</td>\n",
              "    </tr>\n",
              "    <tr>\n",
              "      <th>업종</th>\n",
              "      <td>IT</td>\n",
              "      <td>전기전자</td>\n",
              "      <td>자동차</td>\n",
              "    </tr>\n",
              "  </tbody>\n",
              "</table>\n",
              "</div>"
            ],
            "text/plain": [
              "         0      1       2\n",
              "종목     카카오   삼성전자     현대차\n",
              "주가  370000  67700  181000\n",
              "업종      IT   전기전자     자동차"
            ]
          },
          "metadata": {
            "tags": []
          },
          "execution_count": 9
        }
      ]
    },
    {
      "cell_type": "code",
      "metadata": {
        "id": "0dvjzjLeXOS-",
        "colab": {
          "base_uri": "https://localhost:8080/"
        },
        "outputId": "b9a9fa14-5b3d-41ac-b559-418ceef20436"
      },
      "source": [
        "df2['과목']"
      ],
      "execution_count": null,
      "outputs": [
        {
          "output_type": "execute_result",
          "data": {
            "text/plain": [
              "0    포유류\n",
              "1     조류\n",
              "2     곤충\n",
              "Name: 과목, dtype: object"
            ]
          },
          "metadata": {
            "tags": []
          },
          "execution_count": 10
        }
      ]
    },
    {
      "cell_type": "markdown",
      "metadata": {
        "id": "I3uPRd_AW_gg"
      },
      "source": [
        "* 객체의 **메서드**란 객체 내부에 담긴 함수로 다음과 같이 호출함\n",
        "      객체명.함수명(인수)"
      ]
    },
    {
      "cell_type": "code",
      "metadata": {
        "id": "0ryta6qxW_Gv",
        "colab": {
          "base_uri": "https://localhost:8080/",
          "height": 108
        },
        "outputId": "0e1c26f1-05bd-4353-870b-5e6930805745"
      },
      "source": [
        "df1.drop(2)"
      ],
      "execution_count": null,
      "outputs": [
        {
          "output_type": "execute_result",
          "data": {
            "text/html": [
              "<div>\n",
              "<style scoped>\n",
              "    .dataframe tbody tr th:only-of-type {\n",
              "        vertical-align: middle;\n",
              "    }\n",
              "\n",
              "    .dataframe tbody tr th {\n",
              "        vertical-align: top;\n",
              "    }\n",
              "\n",
              "    .dataframe thead th {\n",
              "        text-align: right;\n",
              "    }\n",
              "</style>\n",
              "<table border=\"1\" class=\"dataframe\">\n",
              "  <thead>\n",
              "    <tr style=\"text-align: right;\">\n",
              "      <th></th>\n",
              "      <th>종목</th>\n",
              "      <th>주가</th>\n",
              "      <th>업종</th>\n",
              "    </tr>\n",
              "  </thead>\n",
              "  <tbody>\n",
              "    <tr>\n",
              "      <th>0</th>\n",
              "      <td>카카오</td>\n",
              "      <td>370000</td>\n",
              "      <td>IT</td>\n",
              "    </tr>\n",
              "    <tr>\n",
              "      <th>1</th>\n",
              "      <td>삼성전자</td>\n",
              "      <td>67700</td>\n",
              "      <td>전기전자</td>\n",
              "    </tr>\n",
              "  </tbody>\n",
              "</table>\n",
              "</div>"
            ],
            "text/plain": [
              "     종목      주가    업종\n",
              "0   카카오  370000    IT\n",
              "1  삼성전자   67700  전기전자"
            ]
          },
          "metadata": {
            "tags": []
          },
          "execution_count": 13
        }
      ]
    },
    {
      "cell_type": "code",
      "metadata": {
        "id": "DF7-arL0XkMN",
        "colab": {
          "base_uri": "https://localhost:8080/"
        },
        "outputId": "6586ae7a-8bb5-4b58-8176-fa84e12d6426"
      },
      "source": [
        "df2.info()"
      ],
      "execution_count": null,
      "outputs": [
        {
          "output_type": "stream",
          "text": [
            "<class 'pandas.core.frame.DataFrame'>\n",
            "RangeIndex: 3 entries, 0 to 2\n",
            "Data columns (total 3 columns):\n",
            " #   Column  Non-Null Count  Dtype \n",
            "---  ------  --------------  ----- \n",
            " 0   종류      3 non-null      object\n",
            " 1   다리      3 non-null      int64 \n",
            " 2   과목      3 non-null      object\n",
            "dtypes: int64(1), object(2)\n",
            "memory usage: 200.0+ bytes\n"
          ],
          "name": "stdout"
        }
      ]
    },
    {
      "cell_type": "markdown",
      "metadata": {
        "id": "DDWWEbHuOohS"
      },
      "source": [
        "### (참고) 라이브러리 내 변수/함수/클래스를 바로 불러오는 법"
      ]
    },
    {
      "cell_type": "markdown",
      "metadata": {
        "id": "FcIJk1XlO3B7"
      },
      "source": [
        "* 라이브러리(모듈 또는 패키지)를 먼저 불러온 후 변수/함수/클래스에 접근하려면 일일이 라이브러리명을 적어줘야 함\n",
        "      (ex1)  import pandas as pd\n",
        "             pd.DataFrame(data)\n",
        "\n",
        "      (ex2)  import math\n",
        "             math.pi\n",
        "* 라이브러리 내 변수/함수/클래스를 작업중인 코드에 바로 불러와서 쓰려면 from~import 구문을 사용하면 됨\n",
        "      from 라이브러리명 import 변수/함수/클래스명 (as 약칭)\n",
        "\n",
        "      \n",
        "    "
      ]
    },
    {
      "cell_type": "code",
      "metadata": {
        "id": "jgGPJVOBPn96",
        "colab": {
          "base_uri": "https://localhost:8080/"
        },
        "outputId": "23d4dc74-a9c9-4ffd-f520-dfd47b627efc"
      },
      "source": [
        "from math import pi\n",
        "pi"
      ],
      "execution_count": null,
      "outputs": [
        {
          "output_type": "execute_result",
          "data": {
            "text/plain": [
              "3.141592653589793"
            ]
          },
          "metadata": {
            "tags": []
          },
          "execution_count": 1
        }
      ]
    },
    {
      "cell_type": "code",
      "metadata": {
        "id": "BVidSvUKP7qc",
        "colab": {
          "base_uri": "https://localhost:8080/",
          "height": 111
        },
        "outputId": "5df87f82-8281-44d8-d46a-f3f976447181"
      },
      "source": [
        "from pandas import DataFrame as DF\n",
        "\n",
        "data = [ [1,2], [3,4] ]\n",
        "DF(data)"
      ],
      "execution_count": null,
      "outputs": [
        {
          "output_type": "execute_result",
          "data": {
            "text/html": [
              "<div>\n",
              "<style scoped>\n",
              "    .dataframe tbody tr th:only-of-type {\n",
              "        vertical-align: middle;\n",
              "    }\n",
              "\n",
              "    .dataframe tbody tr th {\n",
              "        vertical-align: top;\n",
              "    }\n",
              "\n",
              "    .dataframe thead th {\n",
              "        text-align: right;\n",
              "    }\n",
              "</style>\n",
              "<table border=\"1\" class=\"dataframe\">\n",
              "  <thead>\n",
              "    <tr style=\"text-align: right;\">\n",
              "      <th></th>\n",
              "      <th>0</th>\n",
              "      <th>1</th>\n",
              "    </tr>\n",
              "  </thead>\n",
              "  <tbody>\n",
              "    <tr>\n",
              "      <th>0</th>\n",
              "      <td>1</td>\n",
              "      <td>2</td>\n",
              "    </tr>\n",
              "    <tr>\n",
              "      <th>1</th>\n",
              "      <td>3</td>\n",
              "      <td>4</td>\n",
              "    </tr>\n",
              "  </tbody>\n",
              "</table>\n",
              "</div>"
            ],
            "text/plain": [
              "   0  1\n",
              "0  1  2\n",
              "1  3  4"
            ]
          },
          "metadata": {
            "tags": []
          },
          "execution_count": 4
        }
      ]
    }
  ]
}