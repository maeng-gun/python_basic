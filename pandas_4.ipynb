{
  "nbformat": 4,
  "nbformat_minor": 0,
  "metadata": {
    "colab": {
      "name": "pandas_4.ipynb",
      "provenance": [],
      "collapsed_sections": [],
      "authorship_tag": "ABX9TyMt2akq76bK2voYWw2b58yt",
      "include_colab_link": true
    },
    "kernelspec": {
      "name": "python3",
      "display_name": "Python 3"
    }
  },
  "cells": [
    {
      "cell_type": "markdown",
      "metadata": {
        "id": "view-in-github",
        "colab_type": "text"
      },
      "source": [
        "<a href=\"https://colab.research.google.com/github/maeng-gun/python_basic/blob/main/pandas_4.ipynb\" target=\"_parent\"><img src=\"https://colab.research.google.com/assets/colab-badge.svg\" alt=\"Open In Colab\"/></a>"
      ]
    },
    {
      "cell_type": "markdown",
      "metadata": {
        "id": "XsJRd8FH1PH-"
      },
      "source": [
        "\n",
        "## 데이터 필터링\n",
        "\n"
      ]
    },
    {
      "cell_type": "markdown",
      "metadata": {
        "id": "mvNZgRfe1rga"
      },
      "source": [
        "### 1. 조건문과 불(bool) 자료형"
      ]
    },
    {
      "cell_type": "markdown",
      "metadata": {
        "id": "zvGBPq9G4DVT"
      },
      "source": [
        "#### 1) 조건문\n",
        "* 참/거짓을 판단할 수 있는 문장을 조건문이라고 함\n",
        "* 조건문을 만들어내는 연산자들의 종류는 크게 3가지가 있음\n",
        " * 비교 연산자 : 크다(>), 작다(<), 같다(==), 다르다(!=), 크거나같다(>=), 작거나같다(<=)\n",
        " * 논리 연산자 : 두개의 조건문이 주어질 때, 둘 다 참이면 참(and), 둘중 하나만 참이면 참(or), 반대(not)\n",
        " * 포함 연산자 : in, not in"
      ]
    },
    {
      "cell_type": "markdown",
      "metadata": {
        "id": "8mtMNvYF54bg"
      },
      "source": [
        "### 2) 불(bool) 자료형\n",
        "* bool : 참(True), 거짓(False) 두가지 종류의 값만 취할 수 있는 자료형\n",
        "* 조건문을 그대로 실행하거나 특정 변수에 할당했을 때, 해당 조건의 판단 결과가 반환됨\n"
      ]
    },
    {
      "cell_type": "code",
      "metadata": {
        "id": "X_S423h1_ocP",
        "colab": {
          "base_uri": "https://localhost:8080/"
        },
        "outputId": "a45ade61-039a-49cd-914e-400af46cec9b"
      },
      "source": [
        "3 > 2     # 조건문을 실행"
      ],
      "execution_count": null,
      "outputs": [
        {
          "output_type": "execute_result",
          "data": {
            "text/plain": [
              "True"
            ]
          },
          "metadata": {
            "tags": []
          },
          "execution_count": 1
        }
      ]
    },
    {
      "cell_type": "code",
      "metadata": {
        "id": "CeM4X1Z1_sjn",
        "colab": {
          "base_uri": "https://localhost:8080/"
        },
        "outputId": "0dba8d9b-6bac-4413-d6d8-55912f22bce2"
      },
      "source": [
        "a = (2 == 3)     # 조건문을 a 라는 변수에 할당 ( = 는 변수의 할당, == 는 '같다'를 의미하는 비교연산자임에 유의 )\n",
        "a"
      ],
      "execution_count": null,
      "outputs": [
        {
          "output_type": "execute_result",
          "data": {
            "text/plain": [
              "False"
            ]
          },
          "metadata": {
            "tags": []
          },
          "execution_count": 2
        }
      ]
    },
    {
      "cell_type": "code",
      "metadata": {
        "id": "WvrPg2wI_10f",
        "colab": {
          "base_uri": "https://localhost:8080/"
        },
        "outputId": "f2f590b6-b73d-4472-e8af-e23c0bbdc4c2"
      },
      "source": [
        "b = ((3+1) != (1+4))\n",
        "b"
      ],
      "execution_count": null,
      "outputs": [
        {
          "output_type": "execute_result",
          "data": {
            "text/plain": [
              "True"
            ]
          },
          "metadata": {
            "tags": []
          },
          "execution_count": 3
        }
      ]
    },
    {
      "cell_type": "code",
      "metadata": {
        "id": "YfzXzz6YAVFZ",
        "colab": {
          "base_uri": "https://localhost:8080/"
        },
        "outputId": "e6660fe2-c654-4d2f-cdf8-b317821f7bbd"
      },
      "source": [
        "print(a and b)        # False and True => 둘다 참이 아니므로 거짓\n",
        "print(a or b)         # False or True => 둘중 하나는 참이므로 참\n",
        "print(not a)          # not False     => 거짓의 반대이므로 참"
      ],
      "execution_count": null,
      "outputs": [
        {
          "output_type": "stream",
          "text": [
            "False\n",
            "True\n",
            "True\n"
          ],
          "name": "stdout"
        }
      ]
    },
    {
      "cell_type": "code",
      "metadata": {
        "id": "4poEtLiQAovf",
        "colab": {
          "base_uri": "https://localhost:8080/"
        },
        "outputId": "d48f8673-2eb0-4576-f58b-5e294a02896a"
      },
      "source": [
        "c = 1\n",
        "d = 2\n",
        "e = [1,2,3,4]\n",
        "\n",
        "print(c in e)        # 1은 [1,2,3,4]에 '포함되는 것'(in) 이므로 참\n",
        "print(d not in e)    # 2는 [1,2,3,4]에 '포함되지 않는 것'(not in)이 아니므로 거짓"
      ],
      "execution_count": null,
      "outputs": [
        {
          "output_type": "stream",
          "text": [
            "True\n",
            "False\n"
          ],
          "name": "stdout"
        }
      ]
    },
    {
      "cell_type": "markdown",
      "metadata": {
        "id": "1u0Glo0YE-1o"
      },
      "source": [
        "### 2.판다스 시리즈(Series)를 포함한 조건문의 활용"
      ]
    },
    {
      "cell_type": "markdown",
      "metadata": {
        "id": "H5_FuBpkFyWo"
      },
      "source": [
        "#### 1) 시리즈의 비교 연산\n",
        "* 데이터프레임(DataFrame)의 한 행 또는 열을 추출하면 1차원 배열인 시리즈(Series)가 됨\n",
        "* 시리즈에 비교연산자를 적용하면 각 원소에 대해 해당 조건을 판단해 참(True) 또는 거짓(False)이 부여되며, 최종적으로 불(bool) 자료형을 갖는 시리즈가 반환"
      ]
    },
    {
      "cell_type": "code",
      "metadata": {
        "id": "_ULlQFHoGrBH",
        "colab": {
          "base_uri": "https://localhost:8080/",
          "height": 416
        },
        "outputId": "b2acb43b-5886-4b89-b6ee-7d7e44f6b4a1"
      },
      "source": [
        "import pandas as pd\n",
        "\n",
        "df = pd.read_excel('https://maeng-gun.github.io/pandas/raw_data_1.xlsx',thousands=',')\n",
        "df.head(2)"
      ],
      "execution_count": null,
      "outputs": [
        {
          "output_type": "execute_result",
          "data": {
            "text/html": [
              "<div>\n",
              "<style scoped>\n",
              "    .dataframe tbody tr th:only-of-type {\n",
              "        vertical-align: middle;\n",
              "    }\n",
              "\n",
              "    .dataframe tbody tr th {\n",
              "        vertical-align: top;\n",
              "    }\n",
              "\n",
              "    .dataframe thead th {\n",
              "        text-align: right;\n",
              "    }\n",
              "</style>\n",
              "<table border=\"1\" class=\"dataframe\">\n",
              "  <thead>\n",
              "    <tr style=\"text-align: right;\">\n",
              "      <th></th>\n",
              "      <th>지역본부</th>\n",
              "      <th>시군지부</th>\n",
              "      <th>사무소명</th>\n",
              "      <th>사무소코드</th>\n",
              "      <th>과목</th>\n",
              "      <th>상품종류</th>\n",
              "      <th>종목명</th>\n",
              "      <th>자산구분</th>\n",
              "      <th>발행일</th>\n",
              "      <th>만기일</th>\n",
              "      <th>발행금리</th>\n",
              "      <th>할인금리</th>\n",
              "      <th>이자계산구분</th>\n",
              "      <th>이자계산기간</th>\n",
              "      <th>자산유동화구분</th>\n",
              "      <th>매출일</th>\n",
              "      <th>매입일</th>\n",
              "      <th>신용등급</th>\n",
              "      <th>매입수익률</th>\n",
              "      <th>액면(좌수)</th>\n",
              "      <th>장부금액</th>\n",
              "      <th>미수이자</th>\n",
              "      <th>예수법인세의제</th>\n",
              "      <th>최초장부금액</th>\n",
              "      <th>시장수익율</th>\n",
              "      <th>발행회사</th>\n",
              "      <th>거래회사</th>\n",
              "      <th>농축협예수사무소코드</th>\n",
              "      <th>평가손익</th>\n",
              "      <th>매입신용등급</th>\n",
              "      <th>계속보유여부검토대상</th>\n",
              "    </tr>\n",
              "  </thead>\n",
              "  <tbody>\n",
              "    <tr>\n",
              "      <th>0</th>\n",
              "      <td>강원지역본부</td>\n",
              "      <td>강릉시지부</td>\n",
              "      <td>강릉농협</td>\n",
              "      <td>333050</td>\n",
              "      <td>채권</td>\n",
              "      <td>금융채</td>\n",
              "      <td>현대캐피탈1474</td>\n",
              "      <td>매도가능</td>\n",
              "      <td>2014-01-07</td>\n",
              "      <td>2021-01-07</td>\n",
              "      <td>3.969</td>\n",
              "      <td>0</td>\n",
              "      <td>복리채</td>\n",
              "      <td>12개월</td>\n",
              "      <td>NaN</td>\n",
              "      <td>2014-01-07</td>\n",
              "      <td>2014-01-16</td>\n",
              "      <td>AA</td>\n",
              "      <td>3.95</td>\n",
              "      <td>2000000000</td>\n",
              "      <td>2057414292</td>\n",
              "      <td>1920391</td>\n",
              "      <td>0</td>\n",
              "      <td>2002279609</td>\n",
              "      <td>1.506</td>\n",
              "      <td>현대캐피탈(주)</td>\n",
              "      <td>삼성증권(주)</td>\n",
              "      <td>NaN</td>\n",
              "      <td>57020083</td>\n",
              "      <td>AA+</td>\n",
              "      <td>NaN</td>\n",
              "    </tr>\n",
              "    <tr>\n",
              "      <th>1</th>\n",
              "      <td>강원지역본부</td>\n",
              "      <td>강릉시지부</td>\n",
              "      <td>강릉농협</td>\n",
              "      <td>333050</td>\n",
              "      <td>채권</td>\n",
              "      <td>금융채</td>\n",
              "      <td>국민은행3306이표일(3)07후-24</td>\n",
              "      <td>매도가능</td>\n",
              "      <td>2013-06-24</td>\n",
              "      <td>2020-06-24</td>\n",
              "      <td>3.610</td>\n",
              "      <td>0</td>\n",
              "      <td>이표채(FRN,전환)</td>\n",
              "      <td>3개월</td>\n",
              "      <td>NaN</td>\n",
              "      <td>2013-06-24</td>\n",
              "      <td>2014-04-07</td>\n",
              "      <td>AA+</td>\n",
              "      <td>3.56</td>\n",
              "      <td>2000000000</td>\n",
              "      <td>2019191187</td>\n",
              "      <td>0</td>\n",
              "      <td>0</td>\n",
              "      <td>2005653261</td>\n",
              "      <td>1.210</td>\n",
              "      <td>(주)국민은행</td>\n",
              "      <td>삼성증권(주)</td>\n",
              "      <td>NaN</td>\n",
              "      <td>18721556</td>\n",
              "      <td>AA+</td>\n",
              "      <td>NaN</td>\n",
              "    </tr>\n",
              "  </tbody>\n",
              "</table>\n",
              "</div>"
            ],
            "text/plain": [
              "     지역본부   시군지부  사무소명   사무소코드  ... 농축협예수사무소코드      평가손익 매입신용등급 계속보유여부검토대상\n",
              "0  강원지역본부  강릉시지부  강릉농협  333050  ...        NaN  57020083    AA+        NaN\n",
              "1  강원지역본부  강릉시지부  강릉농협  333050  ...        NaN  18721556    AA+        NaN\n",
              "\n",
              "[2 rows x 31 columns]"
            ]
          },
          "metadata": {
            "tags": []
          },
          "execution_count": 6
        }
      ]
    },
    {
      "cell_type": "code",
      "metadata": {
        "id": "tp8YBR_dHmiQ",
        "colab": {
          "base_uri": "https://localhost:8080/"
        },
        "outputId": "15154b69-e529-4a81-8a4c-763279d5bce6"
      },
      "source": [
        "cond1 = (df.장부금액 > 100000000)\n",
        "cond1"
      ],
      "execution_count": null,
      "outputs": [
        {
          "output_type": "execute_result",
          "data": {
            "text/plain": [
              "0        True\n",
              "1        True\n",
              "2        True\n",
              "3        True\n",
              "4       False\n",
              "        ...  \n",
              "1670     True\n",
              "1671     True\n",
              "1672    False\n",
              "1673     True\n",
              "1674    False\n",
              "Name: 장부금액, Length: 1675, dtype: bool"
            ]
          },
          "metadata": {
            "tags": []
          },
          "execution_count": 40
        }
      ]
    },
    {
      "cell_type": "code",
      "metadata": {
        "id": "IQsCtnz-H3RV",
        "colab": {
          "base_uri": "https://localhost:8080/"
        },
        "outputId": "891e14f2-2e40-4261-d38d-dc41c23636d7"
      },
      "source": [
        "cond2 = (df.상품종류 == '회사채')\n",
        "cond2"
      ],
      "execution_count": null,
      "outputs": [
        {
          "output_type": "execute_result",
          "data": {
            "text/plain": [
              "0       False\n",
              "1       False\n",
              "2       False\n",
              "3       False\n",
              "4       False\n",
              "        ...  \n",
              "1670     True\n",
              "1671    False\n",
              "1672     True\n",
              "1673     True\n",
              "1674     True\n",
              "Name: 상품종류, Length: 1675, dtype: bool"
            ]
          },
          "metadata": {
            "tags": []
          },
          "execution_count": 41
        }
      ]
    },
    {
      "cell_type": "markdown",
      "metadata": {
        "id": "FkBbXyIhcCTX"
      },
      "source": [
        "2) 다수의 시리즈 조건문에 대한 논리 연산\n",
        "* 파이썬 기본문법에서의 논리연산자(and, or, not)는 시리즈에 대해서는 그대로 적용 불가능함\n",
        "* 대신 &, |, ~ 를 사용해 논리연산을 수행\n",
        "* & 와 | 의 경우 두 시리즈에서 같은 인덱스를 가진 원소들의 쌍에 대해 각각 논리연산을 수행해, bool자료형의 시리즈를 반환\n",
        "* ~ 의 경우 각 원소별로 해당 조건문의 판단결과의 반대의 bool 값을 갖는 시리즈를 반환"
      ]
    },
    {
      "cell_type": "code",
      "metadata": {
        "id": "RtCKgEKSdoBz",
        "colab": {
          "base_uri": "https://localhost:8080/"
        },
        "outputId": "8bf0015a-9095-45c6-c7ef-287350388632"
      },
      "source": [
        "cond3 = (cond1 & cond2)\n",
        "cond3"
      ],
      "execution_count": null,
      "outputs": [
        {
          "output_type": "execute_result",
          "data": {
            "text/plain": [
              "0       False\n",
              "1       False\n",
              "2       False\n",
              "3       False\n",
              "4       False\n",
              "        ...  \n",
              "1670     True\n",
              "1671    False\n",
              "1672    False\n",
              "1673     True\n",
              "1674    False\n",
              "Length: 1675, dtype: bool"
            ]
          },
          "metadata": {
            "tags": []
          },
          "execution_count": 42
        }
      ]
    },
    {
      "cell_type": "code",
      "metadata": {
        "id": "Cp6LsSIQerMo",
        "colab": {
          "base_uri": "https://localhost:8080/"
        },
        "outputId": "4786d0a5-3355-4ffb-a1ff-68e4747d37ca"
      },
      "source": [
        "cond4 = (cond1 | cond2)\n",
        "cond4"
      ],
      "execution_count": null,
      "outputs": [
        {
          "output_type": "execute_result",
          "data": {
            "text/plain": [
              "0        True\n",
              "1        True\n",
              "2        True\n",
              "3        True\n",
              "4       False\n",
              "        ...  \n",
              "1670     True\n",
              "1671     True\n",
              "1672     True\n",
              "1673     True\n",
              "1674     True\n",
              "Length: 1675, dtype: bool"
            ]
          },
          "metadata": {
            "tags": []
          },
          "execution_count": 45
        }
      ]
    },
    {
      "cell_type": "code",
      "metadata": {
        "id": "9zdV0SFGezqz",
        "colab": {
          "base_uri": "https://localhost:8080/"
        },
        "outputId": "e908d4e1-3309-4306-cd76-12f6157f1f6f"
      },
      "source": [
        "cond5 = ~cond4\n",
        "cond5"
      ],
      "execution_count": null,
      "outputs": [
        {
          "output_type": "execute_result",
          "data": {
            "text/plain": [
              "0       False\n",
              "1       False\n",
              "2       False\n",
              "3       False\n",
              "4        True\n",
              "        ...  \n",
              "1670    False\n",
              "1671    False\n",
              "1672    False\n",
              "1673    False\n",
              "1674    False\n",
              "Length: 1675, dtype: bool"
            ]
          },
          "metadata": {
            "tags": []
          },
          "execution_count": 46
        }
      ]
    },
    {
      "cell_type": "markdown",
      "metadata": {
        "id": "jyRuXS89JLGX"
      },
      "source": [
        "#### 3) 시리즈의 포함 연산\n",
        "* 파이썬의 기본문법에서의 비교연산자는 시리즈에도 그대로 적용 가능하지만, 포함연산자(in, not in)는 적용불가\n",
        "* 시리즈의 .isin() 메서드와 ~ 연산자를 적절히 사용"
      ]
    },
    {
      "cell_type": "code",
      "metadata": {
        "id": "fxmE5HPOfO6E",
        "colab": {
          "base_uri": "https://localhost:8080/"
        },
        "outputId": "f274ab52-081e-4e6f-ae58-bcc8c64e9705"
      },
      "source": [
        "cond6 = df.상품종류.isin(['회사채','금융채'])\n",
        "cond6"
      ],
      "execution_count": null,
      "outputs": [
        {
          "output_type": "execute_result",
          "data": {
            "text/plain": [
              "0        True\n",
              "1        True\n",
              "2        True\n",
              "3        True\n",
              "4       False\n",
              "        ...  \n",
              "1670     True\n",
              "1671    False\n",
              "1672     True\n",
              "1673     True\n",
              "1674     True\n",
              "Name: 상품종류, Length: 1675, dtype: bool"
            ]
          },
          "metadata": {
            "tags": []
          },
          "execution_count": 49
        }
      ]
    },
    {
      "cell_type": "code",
      "metadata": {
        "id": "MUlprOrCfZPJ",
        "colab": {
          "base_uri": "https://localhost:8080/"
        },
        "outputId": "983271e0-24d5-4be5-9c30-377cba682c47"
      },
      "source": [
        "cond7 = ~df.상품종류.isin(['회사채','금융채'])\n",
        "cond7"
      ],
      "execution_count": null,
      "outputs": [
        {
          "output_type": "execute_result",
          "data": {
            "text/plain": [
              "0       False\n",
              "1       False\n",
              "2       False\n",
              "3       False\n",
              "4        True\n",
              "        ...  \n",
              "1670    False\n",
              "1671     True\n",
              "1672    False\n",
              "1673    False\n",
              "1674    False\n",
              "Name: 상품종류, Length: 1675, dtype: bool"
            ]
          },
          "metadata": {
            "tags": []
          },
          "execution_count": 51
        }
      ]
    },
    {
      "cell_type": "markdown",
      "metadata": {
        "id": "FieElwxhf4Gl"
      },
      "source": [
        "### 3. 불 인덱싱(bool indexing)을 통한 데이터 필터링 \n"
      ]
    },
    {
      "cell_type": "markdown",
      "metadata": {
        "id": "K6wQAPYPgrm0"
      },
      "source": [
        "#### 1) 데이터프레임에서 조건에 맞는 행 추출하기\n",
        "* 위에서 만들어본 '불 시리즈'들을 데이터프레임의 인덱싱(행 추출)에 활용하면 일종의 필터링이 됨\n",
        "* df[조건문] 의 형태이며, 조건문에 사용되는 시리즈는 필터링를 적용할 데이터프레임과 동일한 인덱스를 가져야 한다\n",
        "* 주로 df[df.칼럼명 활용 연용]  이런식으로 사용됨\n",
        "    "
      ]
    },
    {
      "cell_type": "code",
      "metadata": {
        "id": "PMDtw8n6iVAf",
        "colab": {
          "base_uri": "https://localhost:8080/",
          "height": 696
        },
        "outputId": "f953259d-6db5-4b58-d923-4f14dc3c021c"
      },
      "source": [
        "cond8 = (df.장부금액 > 10000000000)\n",
        "df[cond8]"
      ],
      "execution_count": null,
      "outputs": [
        {
          "output_type": "execute_result",
          "data": {
            "text/html": [
              "<div>\n",
              "<style scoped>\n",
              "    .dataframe tbody tr th:only-of-type {\n",
              "        vertical-align: middle;\n",
              "    }\n",
              "\n",
              "    .dataframe tbody tr th {\n",
              "        vertical-align: top;\n",
              "    }\n",
              "\n",
              "    .dataframe thead th {\n",
              "        text-align: right;\n",
              "    }\n",
              "</style>\n",
              "<table border=\"1\" class=\"dataframe\">\n",
              "  <thead>\n",
              "    <tr style=\"text-align: right;\">\n",
              "      <th></th>\n",
              "      <th>지역본부</th>\n",
              "      <th>시군지부</th>\n",
              "      <th>사무소명</th>\n",
              "      <th>사무소코드</th>\n",
              "      <th>과목</th>\n",
              "      <th>상품종류</th>\n",
              "      <th>종목명</th>\n",
              "      <th>자산구분</th>\n",
              "      <th>발행일</th>\n",
              "      <th>만기일</th>\n",
              "      <th>발행금리</th>\n",
              "      <th>할인금리</th>\n",
              "      <th>이자계산구분</th>\n",
              "      <th>이자계산기간</th>\n",
              "      <th>자산유동화구분</th>\n",
              "      <th>매출일</th>\n",
              "      <th>매입일</th>\n",
              "      <th>신용등급</th>\n",
              "      <th>매입수익률</th>\n",
              "      <th>액면(좌수)</th>\n",
              "      <th>장부금액</th>\n",
              "      <th>미수이자</th>\n",
              "      <th>예수법인세의제</th>\n",
              "      <th>최초장부금액</th>\n",
              "      <th>시장수익율</th>\n",
              "      <th>발행회사</th>\n",
              "      <th>거래회사</th>\n",
              "      <th>농축협예수사무소코드</th>\n",
              "      <th>평가손익</th>\n",
              "      <th>매입신용등급</th>\n",
              "      <th>계속보유여부검토대상</th>\n",
              "    </tr>\n",
              "  </thead>\n",
              "  <tbody>\n",
              "    <tr>\n",
              "      <th>916</th>\n",
              "      <td>대전지역본부</td>\n",
              "      <td>대전지역본부</td>\n",
              "      <td>서부농협</td>\n",
              "      <td>453048</td>\n",
              "      <td>채권</td>\n",
              "      <td>금융채</td>\n",
              "      <td>현대카드667</td>\n",
              "      <td>매도가능</td>\n",
              "      <td>2016-09-26</td>\n",
              "      <td>2026-09-26</td>\n",
              "      <td>2.173</td>\n",
              "      <td>0</td>\n",
              "      <td>복리채</td>\n",
              "      <td>3개월</td>\n",
              "      <td>NaN</td>\n",
              "      <td>2016-09-26</td>\n",
              "      <td>2016-09-26</td>\n",
              "      <td>AA</td>\n",
              "      <td>2.1200</td>\n",
              "      <td>10000000000</td>\n",
              "      <td>10080737257</td>\n",
              "      <td>0</td>\n",
              "      <td>0</td>\n",
              "      <td>10068000000</td>\n",
              "      <td>2.069</td>\n",
              "      <td>현대카드(주)</td>\n",
              "      <td>삼성증권(주)</td>\n",
              "      <td>NaN</td>\n",
              "      <td>32889445</td>\n",
              "      <td>AA+</td>\n",
              "      <td>검토대상</td>\n",
              "    </tr>\n",
              "    <tr>\n",
              "      <th>917</th>\n",
              "      <td>대전지역본부</td>\n",
              "      <td>대전지역본부</td>\n",
              "      <td>서부농협</td>\n",
              "      <td>453048</td>\n",
              "      <td>채권</td>\n",
              "      <td>금융채</td>\n",
              "      <td>현대커머셜354</td>\n",
              "      <td>매도가능</td>\n",
              "      <td>2019-04-17</td>\n",
              "      <td>2029-04-17</td>\n",
              "      <td>2.936</td>\n",
              "      <td>0</td>\n",
              "      <td>복리채</td>\n",
              "      <td>3개월</td>\n",
              "      <td>NaN</td>\n",
              "      <td>2019-04-17</td>\n",
              "      <td>2019-05-17</td>\n",
              "      <td>AA-</td>\n",
              "      <td>2.7672</td>\n",
              "      <td>10000000000</td>\n",
              "      <td>10294492235</td>\n",
              "      <td>24138515</td>\n",
              "      <td>0</td>\n",
              "      <td>10195861485</td>\n",
              "      <td>2.687</td>\n",
              "      <td>현대커머셜(주)</td>\n",
              "      <td>삼성증권(주)</td>\n",
              "      <td>NaN</td>\n",
              "      <td>107349253</td>\n",
              "      <td>AA-</td>\n",
              "      <td>NaN</td>\n",
              "    </tr>\n",
              "    <tr>\n",
              "      <th>918</th>\n",
              "      <td>대전지역본부</td>\n",
              "      <td>대전지역본부</td>\n",
              "      <td>서부농협</td>\n",
              "      <td>453048</td>\n",
              "      <td>채권</td>\n",
              "      <td>금융채</td>\n",
              "      <td>엔에이치농협캐피탈103-3</td>\n",
              "      <td>매도가능</td>\n",
              "      <td>2017-04-12</td>\n",
              "      <td>2021-04-12</td>\n",
              "      <td>2.661</td>\n",
              "      <td>0</td>\n",
              "      <td>이표채(FRN,전환)</td>\n",
              "      <td>3개월</td>\n",
              "      <td>NaN</td>\n",
              "      <td>2017-04-12</td>\n",
              "      <td>2017-04-12</td>\n",
              "      <td>AA-</td>\n",
              "      <td>2.6050</td>\n",
              "      <td>10000000000</td>\n",
              "      <td>10123119077</td>\n",
              "      <td>0</td>\n",
              "      <td>0</td>\n",
              "      <td>10021000000</td>\n",
              "      <td>1.618</td>\n",
              "      <td>엔에이치농협캐피탈(주)</td>\n",
              "      <td>삼성증권(주)</td>\n",
              "      <td>NaN</td>\n",
              "      <td>116205995</td>\n",
              "      <td>A+</td>\n",
              "      <td>NaN</td>\n",
              "    </tr>\n",
              "    <tr>\n",
              "      <th>988</th>\n",
              "      <td>서울지역본부</td>\n",
              "      <td>서울지역본부</td>\n",
              "      <td>영동농협</td>\n",
              "      <td>100012</td>\n",
              "      <td>대내외예치금</td>\n",
              "      <td>농축협예치금</td>\n",
              "      <td>정기예치금 (율면농협)</td>\n",
              "      <td>기타유가</td>\n",
              "      <td>2019-12-20</td>\n",
              "      <td>2020-12-20</td>\n",
              "      <td>1.900</td>\n",
              "      <td>0</td>\n",
              "      <td>단리채</td>\n",
              "      <td>12개월</td>\n",
              "      <td>NaN</td>\n",
              "      <td>0000-00-00</td>\n",
              "      <td>2019-12-20</td>\n",
              "      <td>NaN</td>\n",
              "      <td>1.9000</td>\n",
              "      <td>11000000000</td>\n",
              "      <td>11000000000</td>\n",
              "      <td>0</td>\n",
              "      <td>0</td>\n",
              "      <td>11000000000</td>\n",
              "      <td>2.750</td>\n",
              "      <td>농축협공통</td>\n",
              "      <td>농축협공통</td>\n",
              "      <td>233118.0</td>\n",
              "      <td>0</td>\n",
              "      <td>NaN</td>\n",
              "      <td>NaN</td>\n",
              "    </tr>\n",
              "  </tbody>\n",
              "</table>\n",
              "</div>"
            ],
            "text/plain": [
              "       지역본부    시군지부  사무소명   사무소코드  ... 농축협예수사무소코드       평가손익 매입신용등급 계속보유여부검토대상\n",
              "916  대전지역본부  대전지역본부  서부농협  453048  ...        NaN   32889445    AA+       검토대상\n",
              "917  대전지역본부  대전지역본부  서부농협  453048  ...        NaN  107349253    AA-        NaN\n",
              "918  대전지역본부  대전지역본부  서부농협  453048  ...        NaN  116205995     A+        NaN\n",
              "988  서울지역본부  서울지역본부  영동농협  100012  ...   233118.0          0    NaN        NaN\n",
              "\n",
              "[4 rows x 31 columns]"
            ]
          },
          "metadata": {
            "tags": []
          },
          "execution_count": 52
        }
      ]
    },
    {
      "cell_type": "code",
      "metadata": {
        "id": "QiNZ99X9ie9S",
        "colab": {
          "base_uri": "https://localhost:8080/",
          "height": 467
        },
        "outputId": "c0a14586-6e1a-44d8-8793-8dec9b0aec77"
      },
      "source": [
        "df[cond8 & (df.매입수익률 > 2.5)]"
      ],
      "execution_count": null,
      "outputs": [
        {
          "output_type": "execute_result",
          "data": {
            "text/html": [
              "<div>\n",
              "<style scoped>\n",
              "    .dataframe tbody tr th:only-of-type {\n",
              "        vertical-align: middle;\n",
              "    }\n",
              "\n",
              "    .dataframe tbody tr th {\n",
              "        vertical-align: top;\n",
              "    }\n",
              "\n",
              "    .dataframe thead th {\n",
              "        text-align: right;\n",
              "    }\n",
              "</style>\n",
              "<table border=\"1\" class=\"dataframe\">\n",
              "  <thead>\n",
              "    <tr style=\"text-align: right;\">\n",
              "      <th></th>\n",
              "      <th>지역본부</th>\n",
              "      <th>시군지부</th>\n",
              "      <th>사무소명</th>\n",
              "      <th>사무소코드</th>\n",
              "      <th>과목</th>\n",
              "      <th>상품종류</th>\n",
              "      <th>종목명</th>\n",
              "      <th>자산구분</th>\n",
              "      <th>발행일</th>\n",
              "      <th>만기일</th>\n",
              "      <th>발행금리</th>\n",
              "      <th>할인금리</th>\n",
              "      <th>이자계산구분</th>\n",
              "      <th>이자계산기간</th>\n",
              "      <th>자산유동화구분</th>\n",
              "      <th>매출일</th>\n",
              "      <th>매입일</th>\n",
              "      <th>신용등급</th>\n",
              "      <th>매입수익률</th>\n",
              "      <th>액면(좌수)</th>\n",
              "      <th>장부금액</th>\n",
              "      <th>미수이자</th>\n",
              "      <th>예수법인세의제</th>\n",
              "      <th>최초장부금액</th>\n",
              "      <th>시장수익율</th>\n",
              "      <th>발행회사</th>\n",
              "      <th>거래회사</th>\n",
              "      <th>농축협예수사무소코드</th>\n",
              "      <th>평가손익</th>\n",
              "      <th>매입신용등급</th>\n",
              "      <th>계속보유여부검토대상</th>\n",
              "    </tr>\n",
              "  </thead>\n",
              "  <tbody>\n",
              "    <tr>\n",
              "      <th>917</th>\n",
              "      <td>대전지역본부</td>\n",
              "      <td>대전지역본부</td>\n",
              "      <td>서부농협</td>\n",
              "      <td>453048</td>\n",
              "      <td>채권</td>\n",
              "      <td>금융채</td>\n",
              "      <td>현대커머셜354</td>\n",
              "      <td>매도가능</td>\n",
              "      <td>2019-04-17</td>\n",
              "      <td>2029-04-17</td>\n",
              "      <td>2.936</td>\n",
              "      <td>0</td>\n",
              "      <td>복리채</td>\n",
              "      <td>3개월</td>\n",
              "      <td>NaN</td>\n",
              "      <td>2019-04-17</td>\n",
              "      <td>2019-05-17</td>\n",
              "      <td>AA-</td>\n",
              "      <td>2.7672</td>\n",
              "      <td>10000000000</td>\n",
              "      <td>10294492235</td>\n",
              "      <td>24138515</td>\n",
              "      <td>0</td>\n",
              "      <td>10195861485</td>\n",
              "      <td>2.687</td>\n",
              "      <td>현대커머셜(주)</td>\n",
              "      <td>삼성증권(주)</td>\n",
              "      <td>NaN</td>\n",
              "      <td>107349253</td>\n",
              "      <td>AA-</td>\n",
              "      <td>NaN</td>\n",
              "    </tr>\n",
              "    <tr>\n",
              "      <th>918</th>\n",
              "      <td>대전지역본부</td>\n",
              "      <td>대전지역본부</td>\n",
              "      <td>서부농협</td>\n",
              "      <td>453048</td>\n",
              "      <td>채권</td>\n",
              "      <td>금융채</td>\n",
              "      <td>엔에이치농협캐피탈103-3</td>\n",
              "      <td>매도가능</td>\n",
              "      <td>2017-04-12</td>\n",
              "      <td>2021-04-12</td>\n",
              "      <td>2.661</td>\n",
              "      <td>0</td>\n",
              "      <td>이표채(FRN,전환)</td>\n",
              "      <td>3개월</td>\n",
              "      <td>NaN</td>\n",
              "      <td>2017-04-12</td>\n",
              "      <td>2017-04-12</td>\n",
              "      <td>AA-</td>\n",
              "      <td>2.6050</td>\n",
              "      <td>10000000000</td>\n",
              "      <td>10123119077</td>\n",
              "      <td>0</td>\n",
              "      <td>0</td>\n",
              "      <td>10021000000</td>\n",
              "      <td>1.618</td>\n",
              "      <td>엔에이치농협캐피탈(주)</td>\n",
              "      <td>삼성증권(주)</td>\n",
              "      <td>NaN</td>\n",
              "      <td>116205995</td>\n",
              "      <td>A+</td>\n",
              "      <td>NaN</td>\n",
              "    </tr>\n",
              "  </tbody>\n",
              "</table>\n",
              "</div>"
            ],
            "text/plain": [
              "       지역본부    시군지부  사무소명   사무소코드  ... 농축협예수사무소코드       평가손익 매입신용등급 계속보유여부검토대상\n",
              "917  대전지역본부  대전지역본부  서부농협  453048  ...        NaN  107349253    AA-        NaN\n",
              "918  대전지역본부  대전지역본부  서부농협  453048  ...        NaN  116205995     A+        NaN\n",
              "\n",
              "[2 rows x 31 columns]"
            ]
          },
          "metadata": {
            "tags": []
          },
          "execution_count": 53
        }
      ]
    },
    {
      "cell_type": "markdown",
      "metadata": {
        "id": "P27Fen1TjGZK"
      },
      "source": [
        "####2) 조건에 맞는 행과 별도 지정한 열로 이뤄진 데이터프레임의 추출 : loc\n",
        "* df.loc[조건문, [컬럼명1,컬럼명1,...]] 의 형태로 추출 가능\n"
      ]
    },
    {
      "cell_type": "code",
      "metadata": {
        "id": "hNV-lxLqkSMb",
        "colab": {
          "base_uri": "https://localhost:8080/",
          "height": 138
        },
        "outputId": "703a9390-eeb8-454b-e2b7-b26cbf43a9f3"
      },
      "source": [
        "cond9 = df.신용등급.isin(['AA','AA-'])\n",
        "df.loc[cond8 & cond9, ['사무소명','상품종류','종목명','신용등급','장부금액']]"
      ],
      "execution_count": null,
      "outputs": [
        {
          "output_type": "execute_result",
          "data": {
            "text/html": [
              "<div>\n",
              "<style scoped>\n",
              "    .dataframe tbody tr th:only-of-type {\n",
              "        vertical-align: middle;\n",
              "    }\n",
              "\n",
              "    .dataframe tbody tr th {\n",
              "        vertical-align: top;\n",
              "    }\n",
              "\n",
              "    .dataframe thead th {\n",
              "        text-align: right;\n",
              "    }\n",
              "</style>\n",
              "<table border=\"1\" class=\"dataframe\">\n",
              "  <thead>\n",
              "    <tr style=\"text-align: right;\">\n",
              "      <th></th>\n",
              "      <th>사무소명</th>\n",
              "      <th>상품종류</th>\n",
              "      <th>종목명</th>\n",
              "      <th>신용등급</th>\n",
              "      <th>장부금액</th>\n",
              "    </tr>\n",
              "  </thead>\n",
              "  <tbody>\n",
              "    <tr>\n",
              "      <th>916</th>\n",
              "      <td>서부농협</td>\n",
              "      <td>금융채</td>\n",
              "      <td>현대카드667</td>\n",
              "      <td>AA</td>\n",
              "      <td>10080737257</td>\n",
              "    </tr>\n",
              "    <tr>\n",
              "      <th>917</th>\n",
              "      <td>서부농협</td>\n",
              "      <td>금융채</td>\n",
              "      <td>현대커머셜354</td>\n",
              "      <td>AA-</td>\n",
              "      <td>10294492235</td>\n",
              "    </tr>\n",
              "    <tr>\n",
              "      <th>918</th>\n",
              "      <td>서부농협</td>\n",
              "      <td>금융채</td>\n",
              "      <td>엔에이치농협캐피탈103-3</td>\n",
              "      <td>AA-</td>\n",
              "      <td>10123119077</td>\n",
              "    </tr>\n",
              "  </tbody>\n",
              "</table>\n",
              "</div>"
            ],
            "text/plain": [
              "     사무소명 상품종류             종목명 신용등급         장부금액\n",
              "916  서부농협  금융채         현대카드667   AA  10080737257\n",
              "917  서부농협  금융채        현대커머셜354  AA-  10294492235\n",
              "918  서부농협  금융채  엔에이치농협캐피탈103-3  AA-  10123119077"
            ]
          },
          "metadata": {
            "tags": []
          },
          "execution_count": 56
        }
      ]
    },
    {
      "cell_type": "code",
      "metadata": {
        "id": "ienoCqhdksEm"
      },
      "source": [
        ""
      ],
      "execution_count": null,
      "outputs": []
    }
  ]
}