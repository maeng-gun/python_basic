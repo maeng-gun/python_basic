{
  "nbformat": 4,
  "nbformat_minor": 0,
  "metadata": {
    "colab": {
      "name": "2_데이터 선택하기.ipynb",
      "provenance": [],
      "collapsed_sections": [],
      "authorship_tag": "ABX9TyOkQeGgC0oWkX+mBYPJqJlG",
      "include_colab_link": true
    },
    "kernelspec": {
      "name": "python3",
      "display_name": "Python 3"
    }
  },
  "cells": [
    {
      "cell_type": "markdown",
      "metadata": {
        "id": "view-in-github",
        "colab_type": "text"
      },
      "source": [
        "<a href=\"https://colab.research.google.com/github/maeng-gun/python_basic/blob/main/pandas_2.ipynb\" target=\"_parent\"><img src=\"https://colab.research.google.com/assets/colab-badge.svg\" alt=\"Open In Colab\"/></a>"
      ]
    },
    {
      "cell_type": "markdown",
      "metadata": {
        "id": "C5aavwCQFDOB"
      },
      "source": [
        "## 데이터 선택하기\n"
      ]
    },
    {
      "cell_type": "markdown",
      "metadata": {
        "id": "HZYzNtHWmGaR"
      },
      "source": [
        "### 1. 시리즈(Series)\n"
      ]
    },
    {
      "cell_type": "markdown",
      "metadata": {
        "id": "_garSNPmmY2e"
      },
      "source": [
        "* 데이터프레임과 함께 판다스의 대표 자료형 중 하나. \n",
        "* 1차원 배열의 자료값과 인덱스를 속성으로 가짐\n",
        "* 데이터프레임에서 단일한 행 또는 열을 추출하면 시리즈 자료형이 됨\n",
        "* 열 추출 시 : 데이터프레임의 인덱스가 추출된 시리즈의 인덱스가 됨\n",
        "* 행 추출 시 : 데이터프레임의 컬럼명이 추출된 시리즈의 인덱스가 됨"
      ]
    },
    {
      "cell_type": "code",
      "metadata": {
        "id": "MusC1aKtf7PS",
        "colab": {
          "base_uri": "https://localhost:8080/",
          "height": 828
        },
        "outputId": "fc585639-09a5-47a8-ec6e-1410c76982b5"
      },
      "source": [
        "import pandas as pd\n",
        "\n",
        "url = 'https://maeng-gun.github.io/pandas/raw_data_1.xlsx'\n",
        "df = pd.read_excel(url, thousands=',')\n",
        "df.head()"
      ],
      "execution_count": null,
      "outputs": [
        {
          "output_type": "execute_result",
          "data": {
            "text/html": [
              "<div>\n",
              "<style scoped>\n",
              "    .dataframe tbody tr th:only-of-type {\n",
              "        vertical-align: middle;\n",
              "    }\n",
              "\n",
              "    .dataframe tbody tr th {\n",
              "        vertical-align: top;\n",
              "    }\n",
              "\n",
              "    .dataframe thead th {\n",
              "        text-align: right;\n",
              "    }\n",
              "</style>\n",
              "<table border=\"1\" class=\"dataframe\">\n",
              "  <thead>\n",
              "    <tr style=\"text-align: right;\">\n",
              "      <th></th>\n",
              "      <th>지역본부</th>\n",
              "      <th>시군지부</th>\n",
              "      <th>사무소명</th>\n",
              "      <th>사무소코드</th>\n",
              "      <th>과목</th>\n",
              "      <th>상품종류</th>\n",
              "      <th>종목명</th>\n",
              "      <th>자산구분</th>\n",
              "      <th>발행일</th>\n",
              "      <th>만기일</th>\n",
              "      <th>발행금리</th>\n",
              "      <th>할인금리</th>\n",
              "      <th>이자계산구분</th>\n",
              "      <th>이자계산기간</th>\n",
              "      <th>자산유동화구분</th>\n",
              "      <th>매출일</th>\n",
              "      <th>매입일</th>\n",
              "      <th>신용등급</th>\n",
              "      <th>매입수익률</th>\n",
              "      <th>액면(좌수)</th>\n",
              "      <th>장부금액</th>\n",
              "      <th>미수이자</th>\n",
              "      <th>예수법인세의제</th>\n",
              "      <th>최초장부금액</th>\n",
              "      <th>시장수익율</th>\n",
              "      <th>발행회사</th>\n",
              "      <th>거래회사</th>\n",
              "      <th>농축협예수사무소코드</th>\n",
              "      <th>평가손익</th>\n",
              "      <th>매입신용등급</th>\n",
              "      <th>계속보유여부검토대상</th>\n",
              "    </tr>\n",
              "  </thead>\n",
              "  <tbody>\n",
              "    <tr>\n",
              "      <th>0</th>\n",
              "      <td>강원지역본부</td>\n",
              "      <td>강릉시지부</td>\n",
              "      <td>강릉농협</td>\n",
              "      <td>333050</td>\n",
              "      <td>채권</td>\n",
              "      <td>금융채</td>\n",
              "      <td>현대캐피탈1474</td>\n",
              "      <td>매도가능</td>\n",
              "      <td>2014-01-07</td>\n",
              "      <td>2021-01-07</td>\n",
              "      <td>3.969</td>\n",
              "      <td>0</td>\n",
              "      <td>복리채</td>\n",
              "      <td>12개월</td>\n",
              "      <td>NaN</td>\n",
              "      <td>2014-01-07</td>\n",
              "      <td>2014-01-16</td>\n",
              "      <td>AA</td>\n",
              "      <td>3.95</td>\n",
              "      <td>2000000000</td>\n",
              "      <td>2057414292</td>\n",
              "      <td>1920391</td>\n",
              "      <td>0</td>\n",
              "      <td>2002279609</td>\n",
              "      <td>1.506</td>\n",
              "      <td>현대캐피탈(주)</td>\n",
              "      <td>삼성증권(주)</td>\n",
              "      <td>NaN</td>\n",
              "      <td>57020083</td>\n",
              "      <td>AA+</td>\n",
              "      <td>NaN</td>\n",
              "    </tr>\n",
              "    <tr>\n",
              "      <th>1</th>\n",
              "      <td>강원지역본부</td>\n",
              "      <td>강릉시지부</td>\n",
              "      <td>강릉농협</td>\n",
              "      <td>333050</td>\n",
              "      <td>채권</td>\n",
              "      <td>금융채</td>\n",
              "      <td>국민은행3306이표일(3)07후-24</td>\n",
              "      <td>매도가능</td>\n",
              "      <td>2013-06-24</td>\n",
              "      <td>2020-06-24</td>\n",
              "      <td>3.610</td>\n",
              "      <td>0</td>\n",
              "      <td>이표채(FRN,전환)</td>\n",
              "      <td>3개월</td>\n",
              "      <td>NaN</td>\n",
              "      <td>2013-06-24</td>\n",
              "      <td>2014-04-07</td>\n",
              "      <td>AA+</td>\n",
              "      <td>3.56</td>\n",
              "      <td>2000000000</td>\n",
              "      <td>2019191187</td>\n",
              "      <td>0</td>\n",
              "      <td>0</td>\n",
              "      <td>2005653261</td>\n",
              "      <td>1.210</td>\n",
              "      <td>(주)국민은행</td>\n",
              "      <td>삼성증권(주)</td>\n",
              "      <td>NaN</td>\n",
              "      <td>18721556</td>\n",
              "      <td>AA+</td>\n",
              "      <td>NaN</td>\n",
              "    </tr>\n",
              "    <tr>\n",
              "      <th>2</th>\n",
              "      <td>강원지역본부</td>\n",
              "      <td>강릉시지부</td>\n",
              "      <td>강릉농협</td>\n",
              "      <td>333050</td>\n",
              "      <td>채권</td>\n",
              "      <td>금융채</td>\n",
              "      <td>현대커머셜236</td>\n",
              "      <td>매도가능</td>\n",
              "      <td>2016-04-07</td>\n",
              "      <td>2026-04-07</td>\n",
              "      <td>2.800</td>\n",
              "      <td>0</td>\n",
              "      <td>이표채(FRN,전환)</td>\n",
              "      <td>3개월</td>\n",
              "      <td>NaN</td>\n",
              "      <td>2016-04-07</td>\n",
              "      <td>2016-04-07</td>\n",
              "      <td>AA-</td>\n",
              "      <td>2.75</td>\n",
              "      <td>2000000000</td>\n",
              "      <td>2076297044</td>\n",
              "      <td>0</td>\n",
              "      <td>0</td>\n",
              "      <td>2008600000</td>\n",
              "      <td>2.139</td>\n",
              "      <td>현대커머셜(주)</td>\n",
              "      <td>엔에이치투자증권(주)</td>\n",
              "      <td>NaN</td>\n",
              "      <td>70641649</td>\n",
              "      <td>AA-</td>\n",
              "      <td>NaN</td>\n",
              "    </tr>\n",
              "    <tr>\n",
              "      <th>3</th>\n",
              "      <td>강원지역본부</td>\n",
              "      <td>강릉시지부</td>\n",
              "      <td>강릉농협</td>\n",
              "      <td>333050</td>\n",
              "      <td>채권</td>\n",
              "      <td>금융채</td>\n",
              "      <td>현대커머셜360-4</td>\n",
              "      <td>매도가능</td>\n",
              "      <td>2019-06-24</td>\n",
              "      <td>2029-06-24</td>\n",
              "      <td>2.567</td>\n",
              "      <td>0</td>\n",
              "      <td>이표채(FRN,전환)</td>\n",
              "      <td>1개월</td>\n",
              "      <td>NaN</td>\n",
              "      <td>2019-06-24</td>\n",
              "      <td>2019-11-08</td>\n",
              "      <td>AA-</td>\n",
              "      <td>2.75</td>\n",
              "      <td>1600000000</td>\n",
              "      <td>1590035132</td>\n",
              "      <td>0</td>\n",
              "      <td>0</td>\n",
              "      <td>1575143871</td>\n",
              "      <td>2.674</td>\n",
              "      <td>현대커머셜(주)</td>\n",
              "      <td>삼성증권(주)</td>\n",
              "      <td>NaN</td>\n",
              "      <td>14556643</td>\n",
              "      <td>AA-</td>\n",
              "      <td>NaN</td>\n",
              "    </tr>\n",
              "    <tr>\n",
              "      <th>4</th>\n",
              "      <td>강원지역본부</td>\n",
              "      <td>강릉시지부</td>\n",
              "      <td>강릉농협</td>\n",
              "      <td>333050</td>\n",
              "      <td>채권</td>\n",
              "      <td>금융채(특금)</td>\n",
              "      <td>팬택관련 채권</td>\n",
              "      <td>만기보유</td>\n",
              "      <td>2006-05-24</td>\n",
              "      <td>2018-12-31</td>\n",
              "      <td>4.480</td>\n",
              "      <td>0</td>\n",
              "      <td>할인채</td>\n",
              "      <td>12개월</td>\n",
              "      <td>NaN</td>\n",
              "      <td>2006-05-24</td>\n",
              "      <td>2006-05-24</td>\n",
              "      <td>NaN</td>\n",
              "      <td>5.20</td>\n",
              "      <td>55078604</td>\n",
              "      <td>27539302</td>\n",
              "      <td>0</td>\n",
              "      <td>0</td>\n",
              "      <td>55078604</td>\n",
              "      <td>2.674</td>\n",
              "      <td>(주)팬택자산관리</td>\n",
              "      <td>농협은행(주)</td>\n",
              "      <td>NaN</td>\n",
              "      <td>0</td>\n",
              "      <td>AAA</td>\n",
              "      <td>NaN</td>\n",
              "    </tr>\n",
              "  </tbody>\n",
              "</table>\n",
              "</div>"
            ],
            "text/plain": [
              "     지역본부   시군지부  사무소명   사무소코드  ... 농축협예수사무소코드      평가손익 매입신용등급 계속보유여부검토대상\n",
              "0  강원지역본부  강릉시지부  강릉농협  333050  ...        NaN  57020083    AA+        NaN\n",
              "1  강원지역본부  강릉시지부  강릉농협  333050  ...        NaN  18721556    AA+        NaN\n",
              "2  강원지역본부  강릉시지부  강릉농협  333050  ...        NaN  70641649    AA-        NaN\n",
              "3  강원지역본부  강릉시지부  강릉농협  333050  ...        NaN  14556643    AA-        NaN\n",
              "4  강원지역본부  강릉시지부  강릉농협  333050  ...        NaN         0    AAA        NaN\n",
              "\n",
              "[5 rows x 31 columns]"
            ]
          },
          "metadata": {
            "tags": []
          },
          "execution_count": 1
        }
      ]
    },
    {
      "cell_type": "markdown",
      "metadata": {
        "id": "4JoPDEw3f0nM"
      },
      "source": [
        "\n",
        "### 2. 열(column)\n",
        "\n"
      ]
    },
    {
      "cell_type": "markdown",
      "metadata": {
        "id": "7ZGHNKWkmKZf"
      },
      "source": [
        "#### 1) 한개의 열 선택하기\n"
      ]
    },
    {
      "cell_type": "markdown",
      "metadata": {
        "id": "-P_jCebfmaDN"
      },
      "source": [
        "* df['칼럼명']  : 컬럼의 이름이 문자로 지정된 경우 -> 시리즈 반환 \n"
      ]
    },
    {
      "cell_type": "code",
      "metadata": {
        "id": "Uoey7gcPgFHX",
        "colab": {
          "base_uri": "https://localhost:8080/"
        },
        "outputId": "4033c346-acb6-42ef-8861-cece20cf3021"
      },
      "source": [
        "df['상품종류']"
      ],
      "execution_count": null,
      "outputs": [
        {
          "output_type": "execute_result",
          "data": {
            "text/plain": [
              "0           금융채\n",
              "1           금융채\n",
              "2           금융채\n",
              "3           금융채\n",
              "4       금융채(특금)\n",
              "         ...   \n",
              "1670        회사채\n",
              "1671     농축협예치금\n",
              "1672        회사채\n",
              "1673        회사채\n",
              "1674        회사채\n",
              "Name: 상품종류, Length: 1675, dtype: object"
            ]
          },
          "metadata": {
            "tags": []
          },
          "execution_count": 2
        }
      ]
    },
    {
      "cell_type": "markdown",
      "metadata": {
        "id": "CntksAKVgEf9"
      },
      "source": [
        "* df.칼럼명     : 위와 같으나, 띄어쓰기나 특수문자가 없어야 함\n"
      ]
    },
    {
      "cell_type": "code",
      "metadata": {
        "id": "iKkI5a2sgMdD",
        "colab": {
          "base_uri": "https://localhost:8080/"
        },
        "outputId": "67b66500-7ae6-4fed-8411-7e4c26acac36"
      },
      "source": [
        "df.발행일"
      ],
      "execution_count": null,
      "outputs": [
        {
          "output_type": "execute_result",
          "data": {
            "text/plain": [
              "0       2014-01-07\n",
              "1       2013-06-24\n",
              "2       2016-04-07\n",
              "3       2019-06-24\n",
              "4       2006-05-24\n",
              "           ...    \n",
              "1670    2011-04-07\n",
              "1671    2019-04-24\n",
              "1672    2011-07-07\n",
              "1673    2012-04-16\n",
              "1674    2012-06-07\n",
              "Name: 발행일, Length: 1675, dtype: object"
            ]
          },
          "metadata": {
            "tags": []
          },
          "execution_count": 3
        }
      ]
    },
    {
      "cell_type": "markdown",
      "metadata": {
        "id": "XNYZ5ocUgGRh"
      },
      "source": [
        "\n",
        "#### 2) 여러개의 열 선택하기\n"
      ]
    },
    {
      "cell_type": "markdown",
      "metadata": {
        "id": "EmIOhpgCmblL"
      },
      "source": [
        "* df[['칼럼명1','칼럼명1',...]]  : 여러개의 칼럼 이름을 리스트 형태로 입력 -> 데이터프레임 반환 \n"
      ]
    },
    {
      "cell_type": "code",
      "metadata": {
        "id": "v7qjUW3ZM7lz",
        "colab": {
          "base_uri": "https://localhost:8080/",
          "height": 349
        },
        "outputId": "d03e273d-93ef-447d-db0a-dca71304c87f"
      },
      "source": [
        "col = ['지역본부','사무소명','종목명','장부금액'] \n",
        "df2= df[col]  # 또는 df[['지역본부','사무소명','종목명','장부금액']]\n",
        "df2.head(10)"
      ],
      "execution_count": null,
      "outputs": [
        {
          "output_type": "execute_result",
          "data": {
            "text/html": [
              "<div>\n",
              "<style scoped>\n",
              "    .dataframe tbody tr th:only-of-type {\n",
              "        vertical-align: middle;\n",
              "    }\n",
              "\n",
              "    .dataframe tbody tr th {\n",
              "        vertical-align: top;\n",
              "    }\n",
              "\n",
              "    .dataframe thead th {\n",
              "        text-align: right;\n",
              "    }\n",
              "</style>\n",
              "<table border=\"1\" class=\"dataframe\">\n",
              "  <thead>\n",
              "    <tr style=\"text-align: right;\">\n",
              "      <th></th>\n",
              "      <th>지역본부</th>\n",
              "      <th>사무소명</th>\n",
              "      <th>종목명</th>\n",
              "      <th>장부금액</th>\n",
              "    </tr>\n",
              "  </thead>\n",
              "  <tbody>\n",
              "    <tr>\n",
              "      <th>0</th>\n",
              "      <td>강원지역본부</td>\n",
              "      <td>강릉농협</td>\n",
              "      <td>현대캐피탈1474</td>\n",
              "      <td>2057414292</td>\n",
              "    </tr>\n",
              "    <tr>\n",
              "      <th>1</th>\n",
              "      <td>강원지역본부</td>\n",
              "      <td>강릉농협</td>\n",
              "      <td>국민은행3306이표일(3)07후-24</td>\n",
              "      <td>2019191187</td>\n",
              "    </tr>\n",
              "    <tr>\n",
              "      <th>2</th>\n",
              "      <td>강원지역본부</td>\n",
              "      <td>강릉농협</td>\n",
              "      <td>현대커머셜236</td>\n",
              "      <td>2076297044</td>\n",
              "    </tr>\n",
              "    <tr>\n",
              "      <th>3</th>\n",
              "      <td>강원지역본부</td>\n",
              "      <td>강릉농협</td>\n",
              "      <td>현대커머셜360-4</td>\n",
              "      <td>1590035132</td>\n",
              "    </tr>\n",
              "    <tr>\n",
              "      <th>4</th>\n",
              "      <td>강원지역본부</td>\n",
              "      <td>강릉농협</td>\n",
              "      <td>팬택관련 채권</td>\n",
              "      <td>27539302</td>\n",
              "    </tr>\n",
              "    <tr>\n",
              "      <th>5</th>\n",
              "      <td>강원지역본부</td>\n",
              "      <td>강릉농협</td>\n",
              "      <td>효성화학259-2</td>\n",
              "      <td>1020502500</td>\n",
              "    </tr>\n",
              "    <tr>\n",
              "      <th>6</th>\n",
              "      <td>강원지역본부</td>\n",
              "      <td>강릉농협</td>\n",
              "      <td>한화솔루션246-2</td>\n",
              "      <td>1523536859</td>\n",
              "    </tr>\n",
              "    <tr>\n",
              "      <th>7</th>\n",
              "      <td>강원지역본부</td>\n",
              "      <td>강릉농협</td>\n",
              "      <td>한화솔루션246-2</td>\n",
              "      <td>1523536859</td>\n",
              "    </tr>\n",
              "    <tr>\n",
              "      <th>8</th>\n",
              "      <td>강원지역본부</td>\n",
              "      <td>강릉농협</td>\n",
              "      <td>현대상선176-2</td>\n",
              "      <td>177961884</td>\n",
              "    </tr>\n",
              "    <tr>\n",
              "      <th>9</th>\n",
              "      <td>강원지역본부</td>\n",
              "      <td>강릉농협</td>\n",
              "      <td>현대상선176-2</td>\n",
              "      <td>177961885</td>\n",
              "    </tr>\n",
              "  </tbody>\n",
              "</table>\n",
              "</div>"
            ],
            "text/plain": [
              "     지역본부  사무소명                   종목명        장부금액\n",
              "0  강원지역본부  강릉농협             현대캐피탈1474  2057414292\n",
              "1  강원지역본부  강릉농협  국민은행3306이표일(3)07후-24  2019191187\n",
              "2  강원지역본부  강릉농협              현대커머셜236  2076297044\n",
              "3  강원지역본부  강릉농협            현대커머셜360-4  1590035132\n",
              "4  강원지역본부  강릉농협               팬택관련 채권    27539302\n",
              "5  강원지역본부  강릉농협             효성화학259-2  1020502500\n",
              "6  강원지역본부  강릉농협            한화솔루션246-2  1523536859\n",
              "7  강원지역본부  강릉농협            한화솔루션246-2  1523536859\n",
              "8  강원지역본부  강릉농협             현대상선176-2   177961884\n",
              "9  강원지역본부  강릉농협             현대상선176-2   177961885"
            ]
          },
          "metadata": {
            "tags": []
          },
          "execution_count": 4
        }
      ]
    },
    {
      "cell_type": "markdown",
      "metadata": {
        "id": "53t-WvcfNgKW"
      },
      "source": [
        "###2. 행(row)"
      ]
    },
    {
      "cell_type": "markdown",
      "metadata": {
        "id": "QAP62HWpmPTb"
      },
      "source": [
        "\n",
        "#### 1) 인덱스명으로 선택하기 : loc\n"
      ]
    },
    {
      "cell_type": "markdown",
      "metadata": {
        "id": "IjCyxzxamVJh"
      },
      "source": [
        "* 인덱스 설정하기 : df.set_index('컬럼명')\n",
        "\n"
      ]
    },
    {
      "cell_type": "code",
      "metadata": {
        "id": "TK1PHZhUldHP",
        "colab": {
          "base_uri": "https://localhost:8080/",
          "height": 379
        },
        "outputId": "9445c209-bf35-4fc9-c7c8-ec05cc331ce7"
      },
      "source": [
        "df3 = df2.set_index('종목명')\n",
        "df3.head(10)"
      ],
      "execution_count": null,
      "outputs": [
        {
          "output_type": "execute_result",
          "data": {
            "text/html": [
              "<div>\n",
              "<style scoped>\n",
              "    .dataframe tbody tr th:only-of-type {\n",
              "        vertical-align: middle;\n",
              "    }\n",
              "\n",
              "    .dataframe tbody tr th {\n",
              "        vertical-align: top;\n",
              "    }\n",
              "\n",
              "    .dataframe thead th {\n",
              "        text-align: right;\n",
              "    }\n",
              "</style>\n",
              "<table border=\"1\" class=\"dataframe\">\n",
              "  <thead>\n",
              "    <tr style=\"text-align: right;\">\n",
              "      <th></th>\n",
              "      <th>지역본부</th>\n",
              "      <th>사무소명</th>\n",
              "      <th>장부금액</th>\n",
              "    </tr>\n",
              "    <tr>\n",
              "      <th>종목명</th>\n",
              "      <th></th>\n",
              "      <th></th>\n",
              "      <th></th>\n",
              "    </tr>\n",
              "  </thead>\n",
              "  <tbody>\n",
              "    <tr>\n",
              "      <th>현대캐피탈1474</th>\n",
              "      <td>강원지역본부</td>\n",
              "      <td>강릉농협</td>\n",
              "      <td>2057414292</td>\n",
              "    </tr>\n",
              "    <tr>\n",
              "      <th>국민은행3306이표일(3)07후-24</th>\n",
              "      <td>강원지역본부</td>\n",
              "      <td>강릉농협</td>\n",
              "      <td>2019191187</td>\n",
              "    </tr>\n",
              "    <tr>\n",
              "      <th>현대커머셜236</th>\n",
              "      <td>강원지역본부</td>\n",
              "      <td>강릉농협</td>\n",
              "      <td>2076297044</td>\n",
              "    </tr>\n",
              "    <tr>\n",
              "      <th>현대커머셜360-4</th>\n",
              "      <td>강원지역본부</td>\n",
              "      <td>강릉농협</td>\n",
              "      <td>1590035132</td>\n",
              "    </tr>\n",
              "    <tr>\n",
              "      <th>팬택관련 채권</th>\n",
              "      <td>강원지역본부</td>\n",
              "      <td>강릉농협</td>\n",
              "      <td>27539302</td>\n",
              "    </tr>\n",
              "    <tr>\n",
              "      <th>효성화학259-2</th>\n",
              "      <td>강원지역본부</td>\n",
              "      <td>강릉농협</td>\n",
              "      <td>1020502500</td>\n",
              "    </tr>\n",
              "    <tr>\n",
              "      <th>한화솔루션246-2</th>\n",
              "      <td>강원지역본부</td>\n",
              "      <td>강릉농협</td>\n",
              "      <td>1523536859</td>\n",
              "    </tr>\n",
              "    <tr>\n",
              "      <th>한화솔루션246-2</th>\n",
              "      <td>강원지역본부</td>\n",
              "      <td>강릉농협</td>\n",
              "      <td>1523536859</td>\n",
              "    </tr>\n",
              "    <tr>\n",
              "      <th>현대상선176-2</th>\n",
              "      <td>강원지역본부</td>\n",
              "      <td>강릉농협</td>\n",
              "      <td>177961884</td>\n",
              "    </tr>\n",
              "    <tr>\n",
              "      <th>현대상선176-2</th>\n",
              "      <td>강원지역본부</td>\n",
              "      <td>강릉농협</td>\n",
              "      <td>177961885</td>\n",
              "    </tr>\n",
              "  </tbody>\n",
              "</table>\n",
              "</div>"
            ],
            "text/plain": [
              "                        지역본부  사무소명        장부금액\n",
              "종목명                                           \n",
              "현대캐피탈1474             강원지역본부  강릉농협  2057414292\n",
              "국민은행3306이표일(3)07후-24  강원지역본부  강릉농협  2019191187\n",
              "현대커머셜236              강원지역본부  강릉농협  2076297044\n",
              "현대커머셜360-4            강원지역본부  강릉농협  1590035132\n",
              "팬택관련 채권               강원지역본부  강릉농협    27539302\n",
              "효성화학259-2             강원지역본부  강릉농협  1020502500\n",
              "한화솔루션246-2            강원지역본부  강릉농협  1523536859\n",
              "한화솔루션246-2            강원지역본부  강릉농협  1523536859\n",
              "현대상선176-2             강원지역본부  강릉농협   177961884\n",
              "현대상선176-2             강원지역본부  강릉농협   177961885"
            ]
          },
          "metadata": {
            "tags": []
          },
          "execution_count": 5
        }
      ]
    },
    {
      "cell_type": "markdown",
      "metadata": {
        "id": "7X2NY7Rtlbav"
      },
      "source": [
        "* 하나의 인덱스 선택하기 : df.loc['인덱스명']\n",
        " * (주의) 여러개의 행이나 열이 동일한 이름(레이블)을 가질 수 있음"
      ]
    },
    {
      "cell_type": "code",
      "metadata": {
        "id": "TVMv_gYzjYSe",
        "colab": {
          "base_uri": "https://localhost:8080/",
          "height": 168
        },
        "outputId": "217466b1-177d-48a9-b9fa-44e37f7ad772"
      },
      "source": [
        "df3.loc['현대커머셜236']"
      ],
      "execution_count": null,
      "outputs": [
        {
          "output_type": "execute_result",
          "data": {
            "text/html": [
              "<div>\n",
              "<style scoped>\n",
              "    .dataframe tbody tr th:only-of-type {\n",
              "        vertical-align: middle;\n",
              "    }\n",
              "\n",
              "    .dataframe tbody tr th {\n",
              "        vertical-align: top;\n",
              "    }\n",
              "\n",
              "    .dataframe thead th {\n",
              "        text-align: right;\n",
              "    }\n",
              "</style>\n",
              "<table border=\"1\" class=\"dataframe\">\n",
              "  <thead>\n",
              "    <tr style=\"text-align: right;\">\n",
              "      <th></th>\n",
              "      <th>지역본부</th>\n",
              "      <th>사무소명</th>\n",
              "      <th>장부금액</th>\n",
              "    </tr>\n",
              "    <tr>\n",
              "      <th>종목명</th>\n",
              "      <th></th>\n",
              "      <th></th>\n",
              "      <th></th>\n",
              "    </tr>\n",
              "  </thead>\n",
              "  <tbody>\n",
              "    <tr>\n",
              "      <th>현대커머셜236</th>\n",
              "      <td>강원지역본부</td>\n",
              "      <td>강릉농협</td>\n",
              "      <td>2076297044</td>\n",
              "    </tr>\n",
              "    <tr>\n",
              "      <th>현대커머셜236</th>\n",
              "      <td>강원지역본부</td>\n",
              "      <td>삼척농협</td>\n",
              "      <td>1038148522</td>\n",
              "    </tr>\n",
              "    <tr>\n",
              "      <th>현대커머셜236</th>\n",
              "      <td>충북지역본부</td>\n",
              "      <td>괴산농협</td>\n",
              "      <td>519074261</td>\n",
              "    </tr>\n",
              "  </tbody>\n",
              "</table>\n",
              "</div>"
            ],
            "text/plain": [
              "            지역본부  사무소명        장부금액\n",
              "종목명                               \n",
              "현대커머셜236  강원지역본부  강릉농협  2076297044\n",
              "현대커머셜236  강원지역본부  삼척농협  1038148522\n",
              "현대커머셜236  충북지역본부  괴산농협   519074261"
            ]
          },
          "metadata": {
            "tags": []
          },
          "execution_count": 6
        }
      ]
    },
    {
      "cell_type": "markdown",
      "metadata": {
        "id": "908nLWnijXt8"
      },
      "source": [
        "* 여러개의 인덱스 선택하기 : df.loc[['인덱스명1','인덱스명2',...]]\n"
      ]
    },
    {
      "cell_type": "code",
      "metadata": {
        "id": "W5yWZNZZjcMv",
        "colab": {
          "base_uri": "https://localhost:8080/",
          "height": 500
        },
        "outputId": "131a1f20-0b5d-4ac5-aff2-8b45393ee35a"
      },
      "source": [
        "id = ['현대캐피탈1474','한화솔루션246-2']\n",
        "df4 = df3.loc[id]  # 또는 df3.loc[['현대캐피탈1474','한화솔루션246-2']]\n",
        "df4"
      ],
      "execution_count": null,
      "outputs": [
        {
          "output_type": "execute_result",
          "data": {
            "text/html": [
              "<div>\n",
              "<style scoped>\n",
              "    .dataframe tbody tr th:only-of-type {\n",
              "        vertical-align: middle;\n",
              "    }\n",
              "\n",
              "    .dataframe tbody tr th {\n",
              "        vertical-align: top;\n",
              "    }\n",
              "\n",
              "    .dataframe thead th {\n",
              "        text-align: right;\n",
              "    }\n",
              "</style>\n",
              "<table border=\"1\" class=\"dataframe\">\n",
              "  <thead>\n",
              "    <tr style=\"text-align: right;\">\n",
              "      <th></th>\n",
              "      <th>지역본부</th>\n",
              "      <th>사무소명</th>\n",
              "      <th>장부금액</th>\n",
              "    </tr>\n",
              "    <tr>\n",
              "      <th>종목명</th>\n",
              "      <th></th>\n",
              "      <th></th>\n",
              "      <th></th>\n",
              "    </tr>\n",
              "  </thead>\n",
              "  <tbody>\n",
              "    <tr>\n",
              "      <th>현대캐피탈1474</th>\n",
              "      <td>강원지역본부</td>\n",
              "      <td>강릉농협</td>\n",
              "      <td>2057414292</td>\n",
              "    </tr>\n",
              "    <tr>\n",
              "      <th>현대캐피탈1474</th>\n",
              "      <td>강원지역본부</td>\n",
              "      <td>강원양돈농협</td>\n",
              "      <td>1002545160</td>\n",
              "    </tr>\n",
              "    <tr>\n",
              "      <th>현대캐피탈1474</th>\n",
              "      <td>경남지역본부</td>\n",
              "      <td>삼천포농협</td>\n",
              "      <td>2006844199</td>\n",
              "    </tr>\n",
              "    <tr>\n",
              "      <th>현대캐피탈1474</th>\n",
              "      <td>경북지역본부</td>\n",
              "      <td>남영양농협</td>\n",
              "      <td>1028707146</td>\n",
              "    </tr>\n",
              "    <tr>\n",
              "      <th>현대캐피탈1474</th>\n",
              "      <td>경북지역본부</td>\n",
              "      <td>영양농협</td>\n",
              "      <td>1009181369</td>\n",
              "    </tr>\n",
              "    <tr>\n",
              "      <th>현대캐피탈1474</th>\n",
              "      <td>경북지역본부</td>\n",
              "      <td>서청도농협</td>\n",
              "      <td>1028707146</td>\n",
              "    </tr>\n",
              "    <tr>\n",
              "      <th>현대캐피탈1474</th>\n",
              "      <td>경북지역본부</td>\n",
              "      <td>청도농협</td>\n",
              "      <td>1002800290</td>\n",
              "    </tr>\n",
              "    <tr>\n",
              "      <th>현대캐피탈1474</th>\n",
              "      <td>전남지역본부</td>\n",
              "      <td>고흥농협</td>\n",
              "      <td>506197937</td>\n",
              "    </tr>\n",
              "    <tr>\n",
              "      <th>한화솔루션246-2</th>\n",
              "      <td>강원지역본부</td>\n",
              "      <td>강릉농협</td>\n",
              "      <td>1523536859</td>\n",
              "    </tr>\n",
              "    <tr>\n",
              "      <th>한화솔루션246-2</th>\n",
              "      <td>강원지역본부</td>\n",
              "      <td>강릉농협</td>\n",
              "      <td>1523536859</td>\n",
              "    </tr>\n",
              "    <tr>\n",
              "      <th>한화솔루션246-2</th>\n",
              "      <td>경기지역본부</td>\n",
              "      <td>송포농협</td>\n",
              "      <td>1015663240</td>\n",
              "    </tr>\n",
              "    <tr>\n",
              "      <th>한화솔루션246-2</th>\n",
              "      <td>충남지역본부</td>\n",
              "      <td>성환농협</td>\n",
              "      <td>1000884405</td>\n",
              "    </tr>\n",
              "    <tr>\n",
              "      <th>한화솔루션246-2</th>\n",
              "      <td>충북지역본부</td>\n",
              "      <td>금왕농협</td>\n",
              "      <td>710983868</td>\n",
              "    </tr>\n",
              "    <tr>\n",
              "      <th>한화솔루션246-2</th>\n",
              "      <td>충북지역본부</td>\n",
              "      <td>강내농협</td>\n",
              "      <td>1015691240</td>\n",
              "    </tr>\n",
              "  </tbody>\n",
              "</table>\n",
              "</div>"
            ],
            "text/plain": [
              "              지역본부    사무소명        장부금액\n",
              "종목명                                   \n",
              "현대캐피탈1474   강원지역본부    강릉농협  2057414292\n",
              "현대캐피탈1474   강원지역본부  강원양돈농협  1002545160\n",
              "현대캐피탈1474   경남지역본부   삼천포농협  2006844199\n",
              "현대캐피탈1474   경북지역본부   남영양농협  1028707146\n",
              "현대캐피탈1474   경북지역본부    영양농협  1009181369\n",
              "현대캐피탈1474   경북지역본부   서청도농협  1028707146\n",
              "현대캐피탈1474   경북지역본부    청도농협  1002800290\n",
              "현대캐피탈1474   전남지역본부    고흥농협   506197937\n",
              "한화솔루션246-2  강원지역본부    강릉농협  1523536859\n",
              "한화솔루션246-2  강원지역본부    강릉농협  1523536859\n",
              "한화솔루션246-2  경기지역본부    송포농협  1015663240\n",
              "한화솔루션246-2  충남지역본부    성환농협  1000884405\n",
              "한화솔루션246-2  충북지역본부    금왕농협   710983868\n",
              "한화솔루션246-2  충북지역본부    강내농협  1015691240"
            ]
          },
          "metadata": {
            "tags": []
          },
          "execution_count": 7
        }
      ]
    },
    {
      "cell_type": "markdown",
      "metadata": {
        "id": "sRjmLpLcaAtg"
      },
      "source": [
        "#### 2) 행 번호로 선택하기 : iloc\n"
      ]
    },
    {
      "cell_type": "markdown",
      "metadata": {
        "id": "sBnY0y6VmglH"
      },
      "source": [
        "* 인덱스 초기화 하기 : df.reset_index()\n",
        " * 현재 지정된 인덱스를 컬럼으로 돌리고, 행 번호(정수)로 인덱스를 새롭게 지정\n"
      ]
    },
    {
      "cell_type": "code",
      "metadata": {
        "id": "dV624j9Bl053",
        "colab": {
          "base_uri": "https://localhost:8080/",
          "height": 469
        },
        "outputId": "7fe6ca01-1a4d-446e-843e-81733a5a9a78"
      },
      "source": [
        "df5 = df4.reset_index()\n",
        "df5"
      ],
      "execution_count": null,
      "outputs": [
        {
          "output_type": "execute_result",
          "data": {
            "text/html": [
              "<div>\n",
              "<style scoped>\n",
              "    .dataframe tbody tr th:only-of-type {\n",
              "        vertical-align: middle;\n",
              "    }\n",
              "\n",
              "    .dataframe tbody tr th {\n",
              "        vertical-align: top;\n",
              "    }\n",
              "\n",
              "    .dataframe thead th {\n",
              "        text-align: right;\n",
              "    }\n",
              "</style>\n",
              "<table border=\"1\" class=\"dataframe\">\n",
              "  <thead>\n",
              "    <tr style=\"text-align: right;\">\n",
              "      <th></th>\n",
              "      <th>종목명</th>\n",
              "      <th>지역본부</th>\n",
              "      <th>사무소명</th>\n",
              "      <th>장부금액</th>\n",
              "    </tr>\n",
              "  </thead>\n",
              "  <tbody>\n",
              "    <tr>\n",
              "      <th>0</th>\n",
              "      <td>현대캐피탈1474</td>\n",
              "      <td>강원지역본부</td>\n",
              "      <td>강릉농협</td>\n",
              "      <td>2057414292</td>\n",
              "    </tr>\n",
              "    <tr>\n",
              "      <th>1</th>\n",
              "      <td>현대캐피탈1474</td>\n",
              "      <td>강원지역본부</td>\n",
              "      <td>강원양돈농협</td>\n",
              "      <td>1002545160</td>\n",
              "    </tr>\n",
              "    <tr>\n",
              "      <th>2</th>\n",
              "      <td>현대캐피탈1474</td>\n",
              "      <td>경남지역본부</td>\n",
              "      <td>삼천포농협</td>\n",
              "      <td>2006844199</td>\n",
              "    </tr>\n",
              "    <tr>\n",
              "      <th>3</th>\n",
              "      <td>현대캐피탈1474</td>\n",
              "      <td>경북지역본부</td>\n",
              "      <td>남영양농협</td>\n",
              "      <td>1028707146</td>\n",
              "    </tr>\n",
              "    <tr>\n",
              "      <th>4</th>\n",
              "      <td>현대캐피탈1474</td>\n",
              "      <td>경북지역본부</td>\n",
              "      <td>영양농협</td>\n",
              "      <td>1009181369</td>\n",
              "    </tr>\n",
              "    <tr>\n",
              "      <th>5</th>\n",
              "      <td>현대캐피탈1474</td>\n",
              "      <td>경북지역본부</td>\n",
              "      <td>서청도농협</td>\n",
              "      <td>1028707146</td>\n",
              "    </tr>\n",
              "    <tr>\n",
              "      <th>6</th>\n",
              "      <td>현대캐피탈1474</td>\n",
              "      <td>경북지역본부</td>\n",
              "      <td>청도농협</td>\n",
              "      <td>1002800290</td>\n",
              "    </tr>\n",
              "    <tr>\n",
              "      <th>7</th>\n",
              "      <td>현대캐피탈1474</td>\n",
              "      <td>전남지역본부</td>\n",
              "      <td>고흥농협</td>\n",
              "      <td>506197937</td>\n",
              "    </tr>\n",
              "    <tr>\n",
              "      <th>8</th>\n",
              "      <td>한화솔루션246-2</td>\n",
              "      <td>강원지역본부</td>\n",
              "      <td>강릉농협</td>\n",
              "      <td>1523536859</td>\n",
              "    </tr>\n",
              "    <tr>\n",
              "      <th>9</th>\n",
              "      <td>한화솔루션246-2</td>\n",
              "      <td>강원지역본부</td>\n",
              "      <td>강릉농협</td>\n",
              "      <td>1523536859</td>\n",
              "    </tr>\n",
              "    <tr>\n",
              "      <th>10</th>\n",
              "      <td>한화솔루션246-2</td>\n",
              "      <td>경기지역본부</td>\n",
              "      <td>송포농협</td>\n",
              "      <td>1015663240</td>\n",
              "    </tr>\n",
              "    <tr>\n",
              "      <th>11</th>\n",
              "      <td>한화솔루션246-2</td>\n",
              "      <td>충남지역본부</td>\n",
              "      <td>성환농협</td>\n",
              "      <td>1000884405</td>\n",
              "    </tr>\n",
              "    <tr>\n",
              "      <th>12</th>\n",
              "      <td>한화솔루션246-2</td>\n",
              "      <td>충북지역본부</td>\n",
              "      <td>금왕농협</td>\n",
              "      <td>710983868</td>\n",
              "    </tr>\n",
              "    <tr>\n",
              "      <th>13</th>\n",
              "      <td>한화솔루션246-2</td>\n",
              "      <td>충북지역본부</td>\n",
              "      <td>강내농협</td>\n",
              "      <td>1015691240</td>\n",
              "    </tr>\n",
              "  </tbody>\n",
              "</table>\n",
              "</div>"
            ],
            "text/plain": [
              "           종목명    지역본부    사무소명        장부금액\n",
              "0    현대캐피탈1474  강원지역본부    강릉농협  2057414292\n",
              "1    현대캐피탈1474  강원지역본부  강원양돈농협  1002545160\n",
              "2    현대캐피탈1474  경남지역본부   삼천포농협  2006844199\n",
              "3    현대캐피탈1474  경북지역본부   남영양농협  1028707146\n",
              "4    현대캐피탈1474  경북지역본부    영양농협  1009181369\n",
              "5    현대캐피탈1474  경북지역본부   서청도농협  1028707146\n",
              "6    현대캐피탈1474  경북지역본부    청도농협  1002800290\n",
              "7    현대캐피탈1474  전남지역본부    고흥농협   506197937\n",
              "8   한화솔루션246-2  강원지역본부    강릉농협  1523536859\n",
              "9   한화솔루션246-2  강원지역본부    강릉농협  1523536859\n",
              "10  한화솔루션246-2  경기지역본부    송포농협  1015663240\n",
              "11  한화솔루션246-2  충남지역본부    성환농협  1000884405\n",
              "12  한화솔루션246-2  충북지역본부    금왕농협   710983868\n",
              "13  한화솔루션246-2  충북지역본부    강내농협  1015691240"
            ]
          },
          "metadata": {
            "tags": []
          },
          "execution_count": 8
        }
      ]
    },
    {
      "cell_type": "markdown",
      "metadata": {
        "id": "43jPOsHIlvGN"
      },
      "source": [
        "* 특정 행 번호로 선택하기 : df.iloc[정수]   -> 시리즈 생성 \n"
      ]
    },
    {
      "cell_type": "code",
      "metadata": {
        "id": "RwBbYtqLjtN5",
        "colab": {
          "base_uri": "https://localhost:8080/"
        },
        "outputId": "6e2f640c-33f0-4dce-afc0-d906e42be088"
      },
      "source": [
        "df5.iloc[1]"
      ],
      "execution_count": null,
      "outputs": [
        {
          "output_type": "execute_result",
          "data": {
            "text/plain": [
              "종목명      현대캐피탈1474\n",
              "지역본부        강원지역본부\n",
              "사무소명        강원양돈농협\n",
              "장부금액    1002545160\n",
              "Name: 1, dtype: object"
            ]
          },
          "metadata": {
            "tags": []
          },
          "execution_count": 9
        }
      ]
    },
    {
      "cell_type": "markdown",
      "metadata": {
        "id": "SBsl83x8jsvo"
      },
      "source": [
        "* 행 구간으로 선택하기(슬라이싱) : df.iloc[시작:끝:간격]\n",
        " * 슬라이싱의 경우 끝번호는 구간에 미포함. 시작/끝/간격 번호 각각 생략 가능\n"
      ]
    },
    {
      "cell_type": "code",
      "metadata": {
        "id": "PveeDKiOkDKY",
        "colab": {
          "base_uri": "https://localhost:8080/",
          "height": 168
        },
        "outputId": "d46b9070-1151-4ea6-efbe-3ff6fa82d1cf"
      },
      "source": [
        "df5.iloc[2:6]  # 슬라이싱 예시1 [시작:끝]   (간격 생략)"
      ],
      "execution_count": null,
      "outputs": [
        {
          "output_type": "execute_result",
          "data": {
            "text/html": [
              "<div>\n",
              "<style scoped>\n",
              "    .dataframe tbody tr th:only-of-type {\n",
              "        vertical-align: middle;\n",
              "    }\n",
              "\n",
              "    .dataframe tbody tr th {\n",
              "        vertical-align: top;\n",
              "    }\n",
              "\n",
              "    .dataframe thead th {\n",
              "        text-align: right;\n",
              "    }\n",
              "</style>\n",
              "<table border=\"1\" class=\"dataframe\">\n",
              "  <thead>\n",
              "    <tr style=\"text-align: right;\">\n",
              "      <th></th>\n",
              "      <th>종목명</th>\n",
              "      <th>지역본부</th>\n",
              "      <th>사무소명</th>\n",
              "      <th>장부금액</th>\n",
              "    </tr>\n",
              "  </thead>\n",
              "  <tbody>\n",
              "    <tr>\n",
              "      <th>2</th>\n",
              "      <td>현대캐피탈1474</td>\n",
              "      <td>경남지역본부</td>\n",
              "      <td>삼천포농협</td>\n",
              "      <td>2006844199</td>\n",
              "    </tr>\n",
              "    <tr>\n",
              "      <th>3</th>\n",
              "      <td>현대캐피탈1474</td>\n",
              "      <td>경북지역본부</td>\n",
              "      <td>남영양농협</td>\n",
              "      <td>1028707146</td>\n",
              "    </tr>\n",
              "    <tr>\n",
              "      <th>4</th>\n",
              "      <td>현대캐피탈1474</td>\n",
              "      <td>경북지역본부</td>\n",
              "      <td>영양농협</td>\n",
              "      <td>1009181369</td>\n",
              "    </tr>\n",
              "    <tr>\n",
              "      <th>5</th>\n",
              "      <td>현대캐피탈1474</td>\n",
              "      <td>경북지역본부</td>\n",
              "      <td>서청도농협</td>\n",
              "      <td>1028707146</td>\n",
              "    </tr>\n",
              "  </tbody>\n",
              "</table>\n",
              "</div>"
            ],
            "text/plain": [
              "         종목명    지역본부   사무소명        장부금액\n",
              "2  현대캐피탈1474  경남지역본부  삼천포농협  2006844199\n",
              "3  현대캐피탈1474  경북지역본부  남영양농협  1028707146\n",
              "4  현대캐피탈1474  경북지역본부   영양농협  1009181369\n",
              "5  현대캐피탈1474  경북지역본부  서청도농협  1028707146"
            ]
          },
          "metadata": {
            "tags": []
          },
          "execution_count": 10
        }
      ]
    },
    {
      "cell_type": "code",
      "metadata": {
        "id": "5MLDb_7UkHG7",
        "colab": {
          "base_uri": "https://localhost:8080/",
          "height": 168
        },
        "outputId": "9270c87a-b409-462c-8960-36c2dd7bfd03"
      },
      "source": [
        "df5.iloc[:-10]  # 슬라이싱 예시 2 [:끝]   (시작,간격 생략)"
      ],
      "execution_count": null,
      "outputs": [
        {
          "output_type": "execute_result",
          "data": {
            "text/html": [
              "<div>\n",
              "<style scoped>\n",
              "    .dataframe tbody tr th:only-of-type {\n",
              "        vertical-align: middle;\n",
              "    }\n",
              "\n",
              "    .dataframe tbody tr th {\n",
              "        vertical-align: top;\n",
              "    }\n",
              "\n",
              "    .dataframe thead th {\n",
              "        text-align: right;\n",
              "    }\n",
              "</style>\n",
              "<table border=\"1\" class=\"dataframe\">\n",
              "  <thead>\n",
              "    <tr style=\"text-align: right;\">\n",
              "      <th></th>\n",
              "      <th>종목명</th>\n",
              "      <th>지역본부</th>\n",
              "      <th>사무소명</th>\n",
              "      <th>장부금액</th>\n",
              "    </tr>\n",
              "  </thead>\n",
              "  <tbody>\n",
              "    <tr>\n",
              "      <th>0</th>\n",
              "      <td>현대캐피탈1474</td>\n",
              "      <td>강원지역본부</td>\n",
              "      <td>강릉농협</td>\n",
              "      <td>2057414292</td>\n",
              "    </tr>\n",
              "    <tr>\n",
              "      <th>1</th>\n",
              "      <td>현대캐피탈1474</td>\n",
              "      <td>강원지역본부</td>\n",
              "      <td>강원양돈농협</td>\n",
              "      <td>1002545160</td>\n",
              "    </tr>\n",
              "    <tr>\n",
              "      <th>2</th>\n",
              "      <td>현대캐피탈1474</td>\n",
              "      <td>경남지역본부</td>\n",
              "      <td>삼천포농협</td>\n",
              "      <td>2006844199</td>\n",
              "    </tr>\n",
              "    <tr>\n",
              "      <th>3</th>\n",
              "      <td>현대캐피탈1474</td>\n",
              "      <td>경북지역본부</td>\n",
              "      <td>남영양농협</td>\n",
              "      <td>1028707146</td>\n",
              "    </tr>\n",
              "  </tbody>\n",
              "</table>\n",
              "</div>"
            ],
            "text/plain": [
              "         종목명    지역본부    사무소명        장부금액\n",
              "0  현대캐피탈1474  강원지역본부    강릉농협  2057414292\n",
              "1  현대캐피탈1474  강원지역본부  강원양돈농협  1002545160\n",
              "2  현대캐피탈1474  경남지역본부   삼천포농협  2006844199\n",
              "3  현대캐피탈1474  경북지역본부   남영양농협  1028707146"
            ]
          },
          "metadata": {
            "tags": []
          },
          "execution_count": 11
        }
      ]
    },
    {
      "cell_type": "code",
      "metadata": {
        "id": "2-zTpknrkMEW",
        "colab": {
          "base_uri": "https://localhost:8080/",
          "height": 168
        },
        "outputId": "4a05cb03-7287-4837-c37f-13d8783ae305"
      },
      "source": [
        "df5.iloc[7::2]  # 슬라이싱 예시 3 [시작::간격]   (끝 생략)"
      ],
      "execution_count": null,
      "outputs": [
        {
          "output_type": "execute_result",
          "data": {
            "text/html": [
              "<div>\n",
              "<style scoped>\n",
              "    .dataframe tbody tr th:only-of-type {\n",
              "        vertical-align: middle;\n",
              "    }\n",
              "\n",
              "    .dataframe tbody tr th {\n",
              "        vertical-align: top;\n",
              "    }\n",
              "\n",
              "    .dataframe thead th {\n",
              "        text-align: right;\n",
              "    }\n",
              "</style>\n",
              "<table border=\"1\" class=\"dataframe\">\n",
              "  <thead>\n",
              "    <tr style=\"text-align: right;\">\n",
              "      <th></th>\n",
              "      <th>종목명</th>\n",
              "      <th>지역본부</th>\n",
              "      <th>사무소명</th>\n",
              "      <th>장부금액</th>\n",
              "    </tr>\n",
              "  </thead>\n",
              "  <tbody>\n",
              "    <tr>\n",
              "      <th>7</th>\n",
              "      <td>현대캐피탈1474</td>\n",
              "      <td>전남지역본부</td>\n",
              "      <td>고흥농협</td>\n",
              "      <td>506197937</td>\n",
              "    </tr>\n",
              "    <tr>\n",
              "      <th>9</th>\n",
              "      <td>한화솔루션246-2</td>\n",
              "      <td>강원지역본부</td>\n",
              "      <td>강릉농협</td>\n",
              "      <td>1523536859</td>\n",
              "    </tr>\n",
              "    <tr>\n",
              "      <th>11</th>\n",
              "      <td>한화솔루션246-2</td>\n",
              "      <td>충남지역본부</td>\n",
              "      <td>성환농협</td>\n",
              "      <td>1000884405</td>\n",
              "    </tr>\n",
              "    <tr>\n",
              "      <th>13</th>\n",
              "      <td>한화솔루션246-2</td>\n",
              "      <td>충북지역본부</td>\n",
              "      <td>강내농협</td>\n",
              "      <td>1015691240</td>\n",
              "    </tr>\n",
              "  </tbody>\n",
              "</table>\n",
              "</div>"
            ],
            "text/plain": [
              "           종목명    지역본부  사무소명        장부금액\n",
              "7    현대캐피탈1474  전남지역본부  고흥농협   506197937\n",
              "9   한화솔루션246-2  강원지역본부  강릉농협  1523536859\n",
              "11  한화솔루션246-2  충남지역본부  성환농협  1000884405\n",
              "13  한화솔루션246-2  충북지역본부  강내농협  1015691240"
            ]
          },
          "metadata": {
            "tags": []
          },
          "execution_count": 12
        }
      ]
    },
    {
      "cell_type": "markdown",
      "metadata": {
        "id": "ZP2CSWaPj9iC"
      },
      "source": [
        "* 규칙성 없는 여러개의 행 번호로 선택하기 : df.iloc[[정수1,정수2,정수3,...]]\n"
      ]
    },
    {
      "cell_type": "code",
      "metadata": {
        "id": "EQ0r8V-TeoiI",
        "colab": {
          "base_uri": "https://localhost:8080/",
          "height": 168
        },
        "outputId": "3b012201-2c1f-4d03-f214-9dda916cd30c"
      },
      "source": [
        "id = [3,6,7,13]\n",
        "df5.iloc[id]   # 또는 df.iloc[[3,6,7,13]]"
      ],
      "execution_count": null,
      "outputs": [
        {
          "output_type": "execute_result",
          "data": {
            "text/html": [
              "<div>\n",
              "<style scoped>\n",
              "    .dataframe tbody tr th:only-of-type {\n",
              "        vertical-align: middle;\n",
              "    }\n",
              "\n",
              "    .dataframe tbody tr th {\n",
              "        vertical-align: top;\n",
              "    }\n",
              "\n",
              "    .dataframe thead th {\n",
              "        text-align: right;\n",
              "    }\n",
              "</style>\n",
              "<table border=\"1\" class=\"dataframe\">\n",
              "  <thead>\n",
              "    <tr style=\"text-align: right;\">\n",
              "      <th></th>\n",
              "      <th>종목명</th>\n",
              "      <th>지역본부</th>\n",
              "      <th>사무소명</th>\n",
              "      <th>장부금액</th>\n",
              "    </tr>\n",
              "  </thead>\n",
              "  <tbody>\n",
              "    <tr>\n",
              "      <th>3</th>\n",
              "      <td>현대캐피탈1474</td>\n",
              "      <td>경북지역본부</td>\n",
              "      <td>남영양농협</td>\n",
              "      <td>1028707146</td>\n",
              "    </tr>\n",
              "    <tr>\n",
              "      <th>6</th>\n",
              "      <td>현대캐피탈1474</td>\n",
              "      <td>경북지역본부</td>\n",
              "      <td>청도농협</td>\n",
              "      <td>1002800290</td>\n",
              "    </tr>\n",
              "    <tr>\n",
              "      <th>7</th>\n",
              "      <td>현대캐피탈1474</td>\n",
              "      <td>전남지역본부</td>\n",
              "      <td>고흥농협</td>\n",
              "      <td>506197937</td>\n",
              "    </tr>\n",
              "    <tr>\n",
              "      <th>13</th>\n",
              "      <td>한화솔루션246-2</td>\n",
              "      <td>충북지역본부</td>\n",
              "      <td>강내농협</td>\n",
              "      <td>1015691240</td>\n",
              "    </tr>\n",
              "  </tbody>\n",
              "</table>\n",
              "</div>"
            ],
            "text/plain": [
              "           종목명    지역본부   사무소명        장부금액\n",
              "3    현대캐피탈1474  경북지역본부  남영양농협  1028707146\n",
              "6    현대캐피탈1474  경북지역본부   청도농협  1002800290\n",
              "7    현대캐피탈1474  전남지역본부   고흥농협   506197937\n",
              "13  한화솔루션246-2  충북지역본부   강내농협  1015691240"
            ]
          },
          "metadata": {
            "tags": []
          },
          "execution_count": 13
        }
      ]
    },
    {
      "cell_type": "markdown",
      "metadata": {
        "id": "dD2zZzjZfD6_"
      },
      "source": [
        "###4. 범위(Range) "
      ]
    },
    {
      "cell_type": "markdown",
      "metadata": {
        "id": "yLqx7-Nrm69J"
      },
      "source": [
        "#### 1) 행과 열 레이블로 선택하기 : df.loc[인덱스명 리스트, 컬럼명 리스트]"
      ]
    },
    {
      "cell_type": "code",
      "metadata": {
        "id": "AeeoEza6pCUP",
        "colab": {
          "base_uri": "https://localhost:8080/",
          "height": 349
        },
        "outputId": "7db38e91-11a7-415a-9910-b841b5995e25"
      },
      "source": [
        "df6 = df.set_index('사무소명')\n",
        "\n",
        "id = ['서부농협','충주농협']\n",
        "col = ['종목명','장부금액']\n",
        "\n",
        "df6.loc[id,col]"
      ],
      "execution_count": null,
      "outputs": [
        {
          "output_type": "execute_result",
          "data": {
            "text/html": [
              "<div>\n",
              "<style scoped>\n",
              "    .dataframe tbody tr th:only-of-type {\n",
              "        vertical-align: middle;\n",
              "    }\n",
              "\n",
              "    .dataframe tbody tr th {\n",
              "        vertical-align: top;\n",
              "    }\n",
              "\n",
              "    .dataframe thead th {\n",
              "        text-align: right;\n",
              "    }\n",
              "</style>\n",
              "<table border=\"1\" class=\"dataframe\">\n",
              "  <thead>\n",
              "    <tr style=\"text-align: right;\">\n",
              "      <th></th>\n",
              "      <th>종목명</th>\n",
              "      <th>장부금액</th>\n",
              "    </tr>\n",
              "    <tr>\n",
              "      <th>사무소명</th>\n",
              "      <th></th>\n",
              "      <th></th>\n",
              "    </tr>\n",
              "  </thead>\n",
              "  <tbody>\n",
              "    <tr>\n",
              "      <th>서부농협</th>\n",
              "      <td>현대카드667</td>\n",
              "      <td>10080737257</td>\n",
              "    </tr>\n",
              "    <tr>\n",
              "      <th>서부농협</th>\n",
              "      <td>현대커머셜354</td>\n",
              "      <td>10294492235</td>\n",
              "    </tr>\n",
              "    <tr>\n",
              "      <th>서부농협</th>\n",
              "      <td>엔에이치농협캐피탈103-3</td>\n",
              "      <td>10123119077</td>\n",
              "    </tr>\n",
              "    <tr>\n",
              "      <th>서부농협</th>\n",
              "      <td>LG전자74-3</td>\n",
              "      <td>3289164832</td>\n",
              "    </tr>\n",
              "    <tr>\n",
              "      <th>서부농협</th>\n",
              "      <td>LG전자73-4</td>\n",
              "      <td>6632511001</td>\n",
              "    </tr>\n",
              "    <tr>\n",
              "      <th>충주농협</th>\n",
              "      <td>남제천농협 정기예치 (남제천농협)</td>\n",
              "      <td>2000000000</td>\n",
              "    </tr>\n",
              "    <tr>\n",
              "      <th>충주농협</th>\n",
              "      <td>현대상선177-2</td>\n",
              "      <td>87299763</td>\n",
              "    </tr>\n",
              "    <tr>\n",
              "      <th>충주농협</th>\n",
              "      <td>동부메탈10-1</td>\n",
              "      <td>144888240</td>\n",
              "    </tr>\n",
              "    <tr>\n",
              "      <th>충주농협</th>\n",
              "      <td>한진해운76-2</td>\n",
              "      <td>0</td>\n",
              "    </tr>\n",
              "  </tbody>\n",
              "</table>\n",
              "</div>"
            ],
            "text/plain": [
              "                     종목명         장부금액\n",
              "사무소명                                 \n",
              "서부농협             현대카드667  10080737257\n",
              "서부농협            현대커머셜354  10294492235\n",
              "서부농협      엔에이치농협캐피탈103-3  10123119077\n",
              "서부농협            LG전자74-3   3289164832\n",
              "서부농협            LG전자73-4   6632511001\n",
              "충주농협  남제천농협 정기예치 (남제천농협)   2000000000\n",
              "충주농협           현대상선177-2     87299763\n",
              "충주농협            동부메탈10-1    144888240\n",
              "충주농협            한진해운76-2            0"
            ]
          },
          "metadata": {
            "tags": []
          },
          "execution_count": 14
        }
      ]
    },
    {
      "cell_type": "markdown",
      "metadata": {
        "id": "A21DkJJqnE2M"
      },
      "source": [
        "#### 2) 행과 열 번호로 선택하기 : df.iloc[행번호 리스트, 열번호 리스트]"
      ]
    },
    {
      "cell_type": "code",
      "metadata": {
        "id": "Vii0N92tnT7f",
        "colab": {
          "base_uri": "https://localhost:8080/",
          "height": 138
        },
        "outputId": "f3374fff-4b72-4ac5-faee-27dce00f4813"
      },
      "source": [
        "id = [100,200,300]\n",
        "col = [2,6,20]\n",
        "\n",
        "df.iloc[id,col]"
      ],
      "execution_count": null,
      "outputs": [
        {
          "output_type": "execute_result",
          "data": {
            "text/html": [
              "<div>\n",
              "<style scoped>\n",
              "    .dataframe tbody tr th:only-of-type {\n",
              "        vertical-align: middle;\n",
              "    }\n",
              "\n",
              "    .dataframe tbody tr th {\n",
              "        vertical-align: top;\n",
              "    }\n",
              "\n",
              "    .dataframe thead th {\n",
              "        text-align: right;\n",
              "    }\n",
              "</style>\n",
              "<table border=\"1\" class=\"dataframe\">\n",
              "  <thead>\n",
              "    <tr style=\"text-align: right;\">\n",
              "      <th></th>\n",
              "      <th>사무소명</th>\n",
              "      <th>종목명</th>\n",
              "      <th>장부금액</th>\n",
              "    </tr>\n",
              "  </thead>\n",
              "  <tbody>\n",
              "    <tr>\n",
              "      <th>100</th>\n",
              "      <td>원주농협</td>\n",
              "      <td>동부메탈10-1</td>\n",
              "      <td>579552960</td>\n",
              "    </tr>\n",
              "    <tr>\n",
              "      <th>200</th>\n",
              "      <td>송포농협</td>\n",
              "      <td>롯데캐피탈263</td>\n",
              "      <td>2118459131</td>\n",
              "    </tr>\n",
              "    <tr>\n",
              "      <th>300</th>\n",
              "      <td>신교하농협</td>\n",
              "      <td>KB밸류포커스30증권자투자신탁C형</td>\n",
              "      <td>94858468</td>\n",
              "    </tr>\n",
              "  </tbody>\n",
              "</table>\n",
              "</div>"
            ],
            "text/plain": [
              "      사무소명                 종목명        장부금액\n",
              "100   원주농협            동부메탈10-1   579552960\n",
              "200   송포농협            롯데캐피탈263  2118459131\n",
              "300  신교하농협  KB밸류포커스30증권자투자신탁C형    94858468"
            ]
          },
          "metadata": {
            "tags": []
          },
          "execution_count": 15
        }
      ]
    },
    {
      "cell_type": "markdown",
      "metadata": {
        "id": "rmypa5jHsqYz"
      },
      "source": [
        "###5. 스칼라(Scalar)"
      ]
    },
    {
      "cell_type": "markdown",
      "metadata": {
        "id": "M2Ji0hppYC7I"
      },
      "source": [
        "#### 1) 행과 열 레이블로 선택 : df.loc['인덱스명' , '컬럼명']"
      ]
    },
    {
      "cell_type": "markdown",
      "metadata": {
        "id": "eHGcw-m9Yj6c"
      },
      "source": [
        "* 단, 하나의 행(열)이 하나의 인덱스명(컬럼명)을 갖는 경우에만 스칼라 값이 선택"
      ]
    },
    {
      "cell_type": "code",
      "metadata": {
        "id": "wdZGyG2yYN_v",
        "colab": {
          "base_uri": "https://localhost:8080/"
        },
        "outputId": "0be6671f-cdb2-436e-8be5-8e8865a4da17"
      },
      "source": [
        "df7 = df.set_index('종목명')\n",
        "\n",
        "df7.loc['현대커머셜364-5','장부금액']"
      ],
      "execution_count": null,
      "outputs": [
        {
          "output_type": "execute_result",
          "data": {
            "text/plain": [
              "961646594"
            ]
          },
          "metadata": {
            "tags": []
          },
          "execution_count": 16
        }
      ]
    },
    {
      "cell_type": "markdown",
      "metadata": {
        "id": "MovkmUMkZ1md"
      },
      "source": [
        "####2) 행과 열 번호로 선택 : df.iloc[행번호, 열번호]"
      ]
    },
    {
      "cell_type": "code",
      "metadata": {
        "id": "kP7U1y4lZ8bc",
        "colab": {
          "base_uri": "https://localhost:8080/",
          "height": 35
        },
        "outputId": "580113e4-b1ee-4b18-b4a4-2ae0bc1bdca2"
      },
      "source": [
        "df.iloc[200,6]"
      ],
      "execution_count": null,
      "outputs": [
        {
          "output_type": "execute_result",
          "data": {
            "application/vnd.google.colaboratory.intrinsic+json": {
              "type": "string"
            },
            "text/plain": [
              "'롯데캐피탈263'"
            ]
          },
          "metadata": {
            "tags": []
          },
          "execution_count": 17
        }
      ]
    }
  ]
}